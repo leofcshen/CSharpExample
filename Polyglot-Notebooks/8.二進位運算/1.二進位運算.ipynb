{
 "cells": [
  {
   "cell_type": "markdown",
   "metadata": {},
   "source": [
    "# 二進位運算"
   ]
  },
  {
   "cell_type": "markdown",
   "metadata": {},
   "source": [
    "# ~ 補數運算子\n",
    "反轉每個位元產生補數"
   ]
  },
  {
   "cell_type": "code",
   "execution_count": 4,
   "metadata": {
    "dotnet_interactive": {
     "language": "csharp"
    },
    "polyglot_notebook": {
     "kernelName": "csharp"
    },
    "vscode": {
     "languageId": "polyglot-notebook"
    }
   },
   "outputs": [
    {
     "name": "stdout",
     "output_type": "stream",
     "text": [
      "-6\r\n"
     ]
    }
   ],
   "source": [
    "int a = 5; // 0000 0101\n",
    "var a一的補數 = ~a; // 1111 1010\n",
    "Console.WriteLine(a一的補數);"
   ]
  },
  {
   "cell_type": "code",
   "execution_count": null,
   "metadata": {
    "dotnet_interactive": {
     "language": "csharp"
    },
    "polyglot_notebook": {
     "kernelName": "csharp"
    },
    "vscode": {
     "languageId": "polyglot-notebook"
    }
   },
   "outputs": [],
   "source": [
    "// int a = 0b00001010;\n",
    "// int b = 0b00001100;\n",
    " \n",
    "int a = 10; // 0000 1010\n",
    "int b = 12; // 0000 1100\n",
    "\n",
    "var abAnd = a & b; // 0000 1000\n",
    "Console.WriteLine(abAnd);\n",
    "\n",
    "var abOr = a | b; // 0000 1110\n",
    "Console.WriteLine(abOr);\n",
    "\n",
    "var abXor = a ^ b; // 0000 0110\n",
    "Console.WriteLine(abXor);\n",
    "\n",
    "var 二進位補數 =  ~(a ^ b); // 1111 1001 -7\n",
    "var abXnor = ~(a ^ b) & 0b00001111; // 0000 1001 9\n",
    "Console.WriteLine(abXnor);"
   ]
  },
  {
   "cell_type": "markdown",
   "metadata": {},
   "source": [
    "# 什麼是補數"
   ]
  },
  {
   "cell_type": "markdown",
   "metadata": {},
   "source": [
    "## 一的補數 (One's Complement)\n",
    "對一個二進位數，一的補數就是按位取反 (0 變 1，1 變 0)"
   ]
  },
  {
   "cell_type": "markdown",
   "metadata": {},
   "source": [
    "## 二的補數 (Two's Complement)\n",
    "目前最常用的方法，一個數的二的補數是取其一的補數後加 1"
   ]
  },
  {
   "cell_type": "code",
   "execution_count": null,
   "metadata": {
    "dotnet_interactive": {
     "language": "csharp"
    },
    "polyglot_notebook": {
     "kernelName": "csharp"
    },
    "vscode": {
     "languageId": "polyglot-notebook"
    }
   },
   "outputs": [],
   "source": [
    "int a = 5; // 0000 0101\n",
    "var a二的補數 = ~a + 1; \n",
    "// 1111 1010 + 0000 0001 => 1111 1011 最高位是1表負數\n",
    "// 剩餘位數 111 1011 取二的補數 => 000 0100 + 1 => 000 0101 => 5 \n",
    "Console.WriteLine(a二的補數);"
   ]
  },
  {
   "cell_type": "markdown",
   "metadata": {},
   "source": [
    "## 為什麼要使用二的補數"
   ]
  },
  {
   "cell_type": "markdown",
   "metadata": {},
   "source": [
    "加法變的非常直觀  \n",
    "`5` (`0000 0101`) 和 `-5` (`1111 1011`) 相加，最後一位(最高位的進位會被忽略)，得到 `0` (`0000 0000`)"
   ]
  },
  {
   "cell_type": "markdown",
   "metadata": {},
   "source": [
    "# 移位運算子"
   ]
  },
  {
   "cell_type": "code",
   "execution_count": 3,
   "metadata": {
    "dotnet_interactive": {
     "language": "csharp"
    },
    "polyglot_notebook": {
     "kernelName": "csharp"
    },
    "vscode": {
     "languageId": "polyglot-notebook"
    }
   },
   "outputs": [
    {
     "name": "stdout",
     "output_type": "stream",
     "text": [
      "1\n",
      "20\n"
     ]
    }
   ],
   "source": [
    "int a = 5; // 0000 0101 \n",
    "Console.WriteLine(a >> 2); // 0000 0101 => 0000 0001\n",
    "Console.WriteLine(a << 2); // 0000 0101 => 0001 0100"
   ]
  }
 ],
 "metadata": {
  "language_info": {
   "name": "python"
  },
  "orig_nbformat": 4
 },
 "nbformat": 4,
 "nbformat_minor": 2
}
