{
 "cells": [
  {
   "cell_type": "markdown",
   "metadata": {},
   "source": [
    "# virtual method_虛擬方法"
   ]
  },
  {
   "cell_type": "code",
   "execution_count": 1,
   "metadata": {
    "dotnet_interactive": {
     "language": "csharp"
    },
    "polyglot_notebook": {
     "kernelName": "csharp"
    },
    "vscode": {
     "languageId": "polyglot-notebook"
    }
   },
   "outputs": [],
   "source": [
    "class Parent {\n",
    "\tpublic string Method() => VirtualMethod() + \" Parent Method\";\n",
    "\tpublic virtual string VirtualMethod() => \"Parent Virtual Method! \";\n",
    "}\n",
    "\n",
    "class ChildNew : Parent {\n",
    "\tpublic new string VirtualMethod() => \"Son New Virtual Method! \";\n",
    "}\n",
    "\n",
    "class ChildOverride : Parent {\n",
    "\tpublic override string VirtualMethod() => \"Son Override Virtual Method! \";\n",
    "}"
   ]
  },
  {
   "cell_type": "code",
   "execution_count": 14,
   "metadata": {
    "dotnet_interactive": {
     "language": "csharp"
    },
    "polyglot_notebook": {
     "kernelName": "csharp"
    },
    "vscode": {
     "languageId": "polyglot-notebook"
    }
   },
   "outputs": [
    {
     "name": "stdout",
     "output_type": "stream",
     "text": [
      "Parent Virtual Method! \n",
      "Son New Virtual Method! \n",
      "Parent Virtual Method!  Parent Method\n"
     ]
    }
   ],
   "source": [
    "ChildNew cn = new ChildNew();\n",
    "// new 可以透過轉型呼叫原來的 virtual method\n",
    "Console.WriteLine(((Parent)cn).VirtualMethod());\n",
    "Console.WriteLine(cn.VirtualMethod());\n",
    "// Parent.Method 呼叫的 virtual Method 是 Parent 類的，因為 new 只是隱藏原來的 virtual method\n",
    "Console.WriteLine(cn.Method()); "
   ]
  },
  {
   "cell_type": "code",
   "execution_count": 17,
   "metadata": {
    "dotnet_interactive": {
     "language": "csharp"
    },
    "polyglot_notebook": {
     "kernelName": "csharp"
    },
    "vscode": {
     "languageId": "polyglot-notebook"
    }
   },
   "outputs": [
    {
     "name": "stdout",
     "output_type": "stream",
     "text": [
      "Son Override Virtual Method! \n",
      "Son Override Virtual Method! \n",
      "Son Override Virtual Method!  Parent Method\n"
     ]
    }
   ],
   "source": [
    "ChildOverride co = new ChildOverride();\n",
    "// override 無法透過轉型呼叫原來的 virtual method\n",
    "Console.WriteLine(((Parent)co).VirtualMethod());\n",
    "Console.WriteLine(co.VirtualMethod());\n",
    "// Parent.Method 呼叫的 virtual Method 是 Child 類的，因為 override 已經覆蓋原來的 virtual method\n",
    "Console.WriteLine(co.Method());"
   ]
  },
  {
   "cell_type": "markdown",
   "metadata": {},
   "source": [
    "# 多型"
   ]
  },
  {
   "cell_type": "code",
   "execution_count": 7,
   "metadata": {
    "dotnet_interactive": {
     "language": "csharp"
    },
    "polyglot_notebook": {
     "kernelName": "csharp"
    },
    "vscode": {
     "languageId": "polyglot-notebook"
    }
   },
   "outputs": [
    {
     "name": "stdout",
     "output_type": "stream",
     "text": [
      "Son Override Virtual Method! \r\n"
     ]
    }
   ],
   "source": [
    "Parent p = new ChildOverride();\n",
    "// 呼叫的是 Child 類的 virtual method\n",
    "Console.WriteLine(p.VirtualMethod());"
   ]
  },
  {
   "cell_type": "code",
   "execution_count": 9,
   "metadata": {
    "dotnet_interactive": {
     "language": "csharp"
    },
    "polyglot_notebook": {
     "kernelName": "csharp"
    },
    "vscode": {
     "languageId": "polyglot-notebook"
    }
   },
   "outputs": [
    {
     "name": "stdout",
     "output_type": "stream",
     "text": [
      "Parent Virtual Method! \r\n"
     ]
    }
   ],
   "source": [
    "Parent p = new ChildNew();\n",
    "// 呼叫的是 Parent 類的 virtual method\n",
    "Console.WriteLine(p.VirtualMethod());"
   ]
  }
 ],
 "metadata": {
  "language_info": {
   "name": "python"
  },
  "orig_nbformat": 4
 },
 "nbformat": 4,
 "nbformat_minor": 2
}
