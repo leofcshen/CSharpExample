{
 "cells": [
  {
   "cell_type": "markdown",
   "metadata": {},
   "source": [
    "# 實作多個介面的同名方法"
   ]
  },
  {
   "cell_type": "code",
   "execution_count": 4,
   "metadata": {
    "dotnet_interactive": {
     "language": "csharp"
    },
    "polyglot_notebook": {
     "kernelName": "csharp"
    },
    "vscode": {
     "languageId": "polyglot-notebook"
    }
   },
   "outputs": [
    {
     "name": "stdout",
     "output_type": "stream",
     "text": [
      "使用龜派氣功\n",
      "使用界王拳\n"
     ]
    }
   ],
   "source": [
    "interface I龜仙流 { void Attack(); } //龜派氣功\n",
    "interface I北界王 { void Attack(); } //界王拳\n",
    "\n",
    "class SuperSaiyanJin : I龜仙流, I北界王 {\n",
    "\tvoid I龜仙流.Attack() => Console.WriteLine(\"使用龜派氣功\");\n",
    "\tvoid I北界王.Attack() => Console.WriteLine(\"使用界王拳\");\n",
    "}\n",
    "var ssj = new SuperSaiyanJin();\n",
    "((I龜仙流)ssj).Attack();\n",
    "((I北界王)ssj).Attack();"
   ]
  },
  {
   "cell_type": "markdown",
   "metadata": {},
   "source": [
    "# 測試"
   ]
  },
  {
   "cell_type": "code",
   "execution_count": 8,
   "metadata": {
    "dotnet_interactive": {
     "language": "csharp"
    },
    "polyglot_notebook": {
     "kernelName": "csharp"
    },
    "vscode": {
     "languageId": "polyglot-notebook"
    }
   },
   "outputs": [
    {
     "name": "stdout",
     "output_type": "stream",
     "text": [
      "孫悟空使用 龜派氣功(30) 爆擊機率 0.2 => 攻擊 小廢物一號\n",
      "小廢物一號 站上來挨揍!\n",
      "爆擊成功\n",
      "小廢物一號(100) 扣 60 滴 HP，剩 40 滴。\n",
      "\n",
      "孫悟空使用 界王拳(50) 爆擊機率 0.3 => 攻擊 小廢物一號\n",
      "小廢物一號 站上來挨揍!\n",
      "爆擊失敗\n",
      "小廢物一號(40) 扣 50 滴 HP，剩 0 滴。\n",
      "小廢物一號 倒地\n",
      "\n",
      "孫悟空使用 沙鍋大的拳頭(10) 爆擊機率 0.4 => 攻擊 小廢物一號\n",
      "不要再打了!不要再打了! 小廢物一號 已經倒了!\n",
      "\n",
      "孫悟空使用 水之呼吸貳之型水車(20) 爆擊機率 0.5 => 攻擊 小廢物一號\n",
      "不要再打了!不要再打了! 小廢物一號 已經倒了!\n",
      "\n",
      "孫悟空使用 龜派氣功(30) 爆擊機率 0.2 => 攻擊 小廢物二號\n",
      "小廢物二號 站上來挨揍!\n",
      "爆擊成功\n",
      "小廢物二號(100) 扣 60 滴 HP，剩 40 滴。\n",
      "\n",
      "孫悟空使用 界王拳(50) 爆擊機率 0.3 => 攻擊 小廢物二號\n",
      "小廢物二號 站上來挨揍!\n",
      "爆擊失敗\n",
      "小廢物二號(40) 扣 50 滴 HP，剩 0 滴。\n",
      "小廢物二號 倒地\n",
      "\n",
      "孫悟空使用 沙鍋大的拳頭(10) 爆擊機率 0.4 => 攻擊 小廢物二號\n",
      "不要再打了!不要再打了! 小廢物二號 已經倒了!\n",
      "\n",
      "孫悟空使用 水之呼吸貳之型水車(20) 爆擊機率 0.5 => 攻擊 小廢物二號\n",
      "不要再打了!不要再打了! 小廢物二號 已經倒了!\n",
      "\n"
     ]
    }
   ],
   "source": [
    "public enum EnumAttack {\n",
    "\tNone,\n",
    "\t龜派氣功,\n",
    "\t界王拳,\t\n",
    "\t沙鍋大的拳頭,\n",
    "\t水之呼吸貳之型水車,\n",
    "}\n",
    "\n",
    "public static readonly Dictionary<EnumAttack, (string 技能名稱, int 傷害, double 爆擊機率)> skillInfo \n",
    "\t= new Dictionary<EnumAttack, (string, int, double)> {\n",
    "\t{ EnumAttack.None, (\"None\", 0, 0.0) },\n",
    "\t{ EnumAttack.龜派氣功, (\"龜派氣功\", 30, 0.2) },\n",
    "\t{ EnumAttack.界王拳, (\"界王拳\", 50, 0.3) },\n",
    "\t{ EnumAttack.沙鍋大的拳頭, (\"沙鍋大的拳頭\", 10, 0.4) },\n",
    "\t{ EnumAttack.水之呼吸貳之型水車, (\"水之呼吸貳之型水車\", 20, 0.5) },\n",
    "};\n",
    "\n",
    "interface I龜仙流 { AttackInfo Attack(Player p); }\n",
    "interface I北界王 { AttackInfo Attack(Player p); }\n",
    "interface I水之呼吸 { AttackInfo Attack(Player p); }\n",
    "\n",
    "class SuperSaiyanJin : I龜仙流, I北界王, I水之呼吸 {\n",
    "\tpublic SuperSaiyanJin(string name) { Name = name; }\n",
    "\tpublic string Name { get; }\n",
    "\n",
    "\tAttackInfo I龜仙流.Attack(Player p) {\n",
    "\t\tvar attack = EnumAttack.龜派氣功;\n",
    "\n",
    "\t\tvar ai = new AttackInfo();\t\t\n",
    "\t\tai.Attack = attack;\n",
    "\t\tai.AttackTarget = p.Name;\t\t\n",
    "\t\tShow攻擊資訊(ai, p);\t\n",
    "\t\treturn ai;\n",
    "\t}\n",
    "\n",
    "\tAttackInfo I北界王.Attack(Player p) {\n",
    "\t\tvar attack = EnumAttack.界王拳;\n",
    "\n",
    "\t\tvar ai = new AttackInfo();\t\t\n",
    "\t\tai.Attack = attack;\n",
    "\t\tai.AttackTarget = p.Name;\t\t\n",
    "\t\tShow攻擊資訊(ai, p);\t\n",
    "\t\treturn ai;\n",
    "\t} \n",
    "\n",
    "\tpublic AttackInfo Attack(Player p) {\n",
    "\t\tvar attack = EnumAttack.沙鍋大的拳頭;\n",
    "\n",
    "\t\tvar ai = new AttackInfo();\t\t\n",
    "\t\tai.Attack = attack;\n",
    "\t\tai.AttackTarget = p.Name;\t\t\n",
    "\t\tShow攻擊資訊(ai, p);\t\n",
    "\t\treturn ai;\n",
    "\t} \n",
    "\n",
    "\tAttackInfo I水之呼吸.Attack(Player p) {\n",
    "\t\tvar attack = EnumAttack.水之呼吸貳之型水車;\n",
    "\t\t\n",
    "\t\tvar ai = new AttackInfo();\t\t\n",
    "\t\tai.Attack = attack;\n",
    "\t\tai.AttackTarget = p.Name;\t\t\n",
    "\t\tShow攻擊資訊(ai, p);\t\n",
    "\t\treturn ai;\n",
    "\t}\n",
    "\n",
    "\tprivate void Show攻擊資訊(AttackInfo ai, Player p)\n",
    "\t\t=> Console.WriteLine($\"{Name}使用 {ai.Attack}({skillInfo[ai.Attack].傷害}) 爆擊機率 {skillInfo[ai.Attack].爆擊機率} => 攻擊 {p.Name}\");\t\n",
    "}\n",
    "\n",
    "//攻擊資訊\n",
    "public class AttackInfo {\n",
    "\tpublic string AttackTarget { get; set; }\n",
    "\tpublic EnumAttack Attack { get; set; }\n",
    "}\n",
    "\n",
    "class Player {\n",
    "\tpublic Player(string name) { Name = name; }\n",
    "\tpublic string Name { get;}\n",
    "\tpublic int HP { \n",
    "\t\tget { return _hp; }\n",
    "\t\t// HP 扣到 < 0 時設成 0\n",
    "    private set { _hp = value < 0 ? 0 : value; }\n",
    "\t}\n",
    "\n",
    "\tprivate int _hp = 100;\n",
    "\tpublic void My挨揍(AttackInfo ai) {\t\n",
    "\t\t//\n",
    "\t\tif(ai.AttackTarget != Name) {\n",
    "\t\t\treturn;\n",
    "\t\t}\n",
    "\n",
    "\t\tif(IsDead()) {\n",
    "\t\t\tConsole.WriteLine($\"不要再打了!不要再打了! {Name} 已經倒了!\");\n",
    "\t\t\treturn;\n",
    "\t\t}\n",
    "\n",
    "\t\tConsole.WriteLine($\"{Name} 站上來挨揍!\");\n",
    "\n",
    "\t\tbool isCritical = (new Random()).NextDouble() < skillInfo[ai.Attack].爆擊機率;\n",
    "\t\tint damage = skillInfo[ai.Attack].傷害;\n",
    "\t\tdamage = damage * (isCritical ? 2 : 1);\n",
    "\n",
    "\t\tConsole.WriteLine($\"爆擊{(isCritical ? \"成功\" : \"失敗\")}\");\n",
    "\n",
    "\t\tint beforeHP = HP;\n",
    "\t\tHP -= damage;\n",
    "\t\tConsole.WriteLine($\"{Name}({beforeHP}) 扣 {damage} 滴 HP，剩 {HP} 滴。\");\n",
    "\n",
    "\t\tif (IsDead()) {\n",
    "\t\t\tConsole.WriteLine($\"{Name} 倒地\");\n",
    "\t\t}\t\n",
    "\t}\n",
    "\n",
    "\tpublic bool IsDead() => HP == 0;\n",
    "}\n",
    "\n",
    "public class Event挨揍廣播器 {\n",
    "\tpublic delegate void MyEventHandler(AttackInfo ai);\n",
    "\tpublic delegate void MyEventHandlerArea();\n",
    "\tpublic event MyEventHandler 挨揍列隊;\n",
    "\n",
    "\tpublic void Raise攻擊(AttackInfo ai) {\n",
    "\t\t挨揍列隊?.Invoke(ai);\n",
    "\t\tConsole.WriteLine();\n",
    "\t}\n",
    "}\n",
    "\n",
    "Event挨揍廣播器 挨揍廣播器 = new Event挨揍廣播器();\n",
    "var sfw1 = new Player(\"小廢物一號\");\n",
    "var sfw2 = new Player(\"小廢物二號\");\n",
    "挨揍廣播器.挨揍列隊 += sfw1.My挨揍;\n",
    "挨揍廣播器.挨揍列隊 += sfw2.My挨揍;\n",
    "\n",
    "var swk = new SuperSaiyanJin(\"孫悟空\");\n",
    "\n",
    "挨揍廣播器.Raise攻擊(((I龜仙流)swk).Attack(sfw1));\n",
    "挨揍廣播器.Raise攻擊(((I北界王)swk).Attack(sfw1));\n",
    "挨揍廣播器.Raise攻擊(swk.Attack(sfw1));\n",
    "挨揍廣播器.Raise攻擊(((I水之呼吸)swk).Attack(sfw1));\n",
    "\n",
    "挨揍廣播器.Raise攻擊(((I龜仙流)swk).Attack(sfw2));\n",
    "挨揍廣播器.Raise攻擊(((I北界王)swk).Attack(sfw2));\n",
    "挨揍廣播器.Raise攻擊(swk.Attack(sfw2));\n",
    "挨揍廣播器.Raise攻擊(((I水之呼吸)swk).Attack(sfw2));"
   ]
  }
 ],
 "metadata": {
  "language_info": {
   "name": "python"
  },
  "orig_nbformat": 4
 },
 "nbformat": 4,
 "nbformat_minor": 2
}
