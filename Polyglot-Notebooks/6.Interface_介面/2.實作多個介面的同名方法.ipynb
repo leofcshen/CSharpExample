{
 "cells": [
  {
   "cell_type": "markdown",
   "metadata": {},
   "source": [
    "# 實作多個介面的同名方法"
   ]
  },
  {
   "cell_type": "code",
   "execution_count": 8,
   "metadata": {
    "dotnet_interactive": {
     "language": "csharp"
    },
    "polyglot_notebook": {
     "kernelName": "csharp"
    },
    "vscode": {
     "languageId": "polyglot-notebook"
    }
   },
   "outputs": [
    {
     "name": "stdout",
     "output_type": "stream",
     "text": [
      "人用腳移動\r\n"
     ]
    }
   ],
   "source": [
    "interface IPerson { void Move(); }\n",
    "interface IGod { void Move(); }\n",
    "\n",
    "class SuperSaiyanJin : IPerson {\n",
    "\tpublic void Move() => Console.WriteLine(\"人用腳移動\");\n",
    "}\n",
    "\n",
    "var ssj = new SuperSaiyanJin();\n",
    "ssj.Move();"
   ]
  },
  {
   "cell_type": "markdown",
   "metadata": {},
   "source": [
    "# 防雷\n",
    "# 防雷\n",
    "# 防雷\n",
    "# 防雷\n",
    "# 防雷\n",
    "# 防雷\n",
    "# 防雷\n",
    "# 防雷\n",
    "# 防雷\n",
    "# 防雷\n",
    "# 防雷\n",
    "# 防雷\n",
    "# 防雷\n",
    "# 防雷"
   ]
  },
  {
   "cell_type": "code",
   "execution_count": null,
   "metadata": {
    "dotnet_interactive": {
     "language": "csharp"
    },
    "polyglot_notebook": {
     "kernelName": "csharp"
    },
    "vscode": {
     "languageId": "polyglot-notebook"
    }
   },
   "outputs": [],
   "source": [
    "interface IGod { void Move(); }\n",
    "interface IPerson { void Move(); }\n",
    "\n",
    "class SuperSaiyanJin : IPerson, IGod {\n",
    "\tvoid IPerson.Move() => Console.WriteLine(\"人用跑的移動\");\n",
    "\tvoid IGod.Move() => Console.WriteLine(\"神用飛的移動\");\n",
    "\tpublic void Move() => Console.WriteLine(\"超級賽亞人使出瞬間移動\");\n",
    "}\n",
    "\n",
    "var ssj = new SuperSaiyanJin();\n",
    "((IPerson)ssj).Move();\n",
    "((IGod)ssj).Move();\n",
    "ssj.Move();"
   ]
  }
 ],
 "metadata": {
  "language_info": {
   "name": "python"
  },
  "orig_nbformat": 4
 },
 "nbformat": 4,
 "nbformat_minor": 2
}
