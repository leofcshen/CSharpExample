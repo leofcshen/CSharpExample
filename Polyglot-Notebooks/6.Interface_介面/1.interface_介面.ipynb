{
 "cells": [
  {
   "cell_type": "markdown",
   "metadata": {},
   "source": [
    "# Interface_介面"
   ]
  },
  {
   "cell_type": "markdown",
   "metadata": {},
   "source": [
    "介面用來定義屬性和方法，物件要實作介面的定義。"
   ]
  },
  {
   "cell_type": "code",
   "execution_count": 17,
   "metadata": {
    "dotnet_interactive": {
     "language": "csharp"
    },
    "polyglot_notebook": {
     "kernelName": "csharp"
    },
    "vscode": {
     "languageId": "polyglot-notebook"
    }
   },
   "outputs": [
    {
     "name": "stdout",
     "output_type": "stream",
     "text": [
      "People 用腳走\n",
      "People 不會飛\n",
      "People 用腳走\n",
      "People 不會飛\n",
      "SuperMan 用腳走\n",
      "SuperMan 會飛\n"
     ]
    }
   ],
   "source": [
    "interface IMove {\n",
    "\tstring ClassName { get; }\n",
    "\tvoid Walk();\t\n",
    "\tvoid Fly();\n",
    "}\n",
    "\n",
    "public class People : IMove {\n",
    "\tpublic People() { ClassName = this.GetType().Name; }\n",
    "\tpublic string ClassName { get; } \n",
    "\tpublic void Walk() => Console.WriteLine($\"{ClassName} 用腳走\");\t\n",
    "\tpublic void Fly() => Console.WriteLine($\"{ClassName} 不會飛\");\n",
    "}\n",
    "\n",
    "public class SuperMan : IMove {\n",
    "\tpublic SuperMan() { ClassName = this.GetType().Name; }\n",
    "\tpublic string ClassName { get; } \n",
    "\tpublic void Walk() => Console.WriteLine($\"{ClassName} 用腳走\");\n",
    "\tpublic void Fly() => Console.WriteLine($\"{ClassName} 會飛\");\n",
    "}\n",
    "\n",
    "var p = new People();\n",
    "p.Walk();\n",
    "p.Fly();\n",
    "\n",
    "IMove p1 = new People();\n",
    "p1.Walk();\n",
    "p1.Fly();\n",
    "\n",
    "var s = new SuperMan();\n",
    "s.Walk();\n",
    "s.Fly();"
   ]
  },
  {
   "cell_type": "markdown",
   "metadata": {},
   "source": [
    "## 物件可繼承多個 interface"
   ]
  },
  {
   "cell_type": "code",
   "execution_count": 23,
   "metadata": {
    "dotnet_interactive": {
     "language": "csharp"
    },
    "polyglot_notebook": {
     "kernelName": "csharp"
    },
    "vscode": {
     "languageId": "polyglot-notebook"
    }
   },
   "outputs": [
    {
     "name": "stdout",
     "output_type": "stream",
     "text": [
      "People 用腳跑\n",
      "People 不會飛\n"
     ]
    }
   ],
   "source": [
    "interface IWalk { void Walk(); }\n",
    "interface IFly { void Fly(); }\n",
    "\n",
    "class People : IWalk, IFly {\n",
    "\tpublic void Walk() => Console.WriteLine($\"{this.GetType().Name} 用腳跑\");\n",
    "\tpublic void Fly() => Console.WriteLine($\"{this.GetType().Name} 不會飛\");\n",
    "}\n",
    "\n",
    "var p = new People();\n",
    "p.Walk();\n",
    "p.Fly();"
   ]
  },
  {
   "cell_type": "markdown",
   "metadata": {},
   "source": [
    "# C# 8.0 NET Core 3.x 後改動\n",
    "## 支援介面預設實作方法"
   ]
  },
  {
   "cell_type": "code",
   "execution_count": 30,
   "metadata": {
    "dotnet_interactive": {
     "language": "csharp"
    },
    "polyglot_notebook": {
     "kernelName": "csharp"
    },
    "vscode": {
     "languageId": "polyglot-notebook"
    }
   },
   "outputs": [
    {
     "name": "stdout",
     "output_type": "stream",
     "text": [
      "People 用腳走\n",
      "People 不會飛\n",
      "People 用腳走\n",
      "People 不會飛\n",
      "SuperMan 用腳走\n",
      "SuperMan 會飛\n"
     ]
    }
   ],
   "source": [
    "interface IMove {\n",
    "\tstring ClassName { get; }\n",
    "\tvoid Walk();\n",
    "\t// 預設實作 Fly()\n",
    "\tvoid Fly() => Console.WriteLine($\"{ClassName} 不會飛\");\n",
    "}\n",
    "\n",
    "public class People : IMove {\n",
    "\tpublic People() { ClassName = this.GetType().Name; }\n",
    "\tpublic string ClassName { get; } \n",
    "\tpublic void Walk() => Console.WriteLine($\"{ClassName} 用腳走\");\t\n",
    "}\n",
    "\n",
    "public class SuperMan : IMove {\n",
    "\tpublic SuperMan() { ClassName = this.GetType().Name; }\n",
    "\tpublic string ClassName { get; }\n",
    "\tpublic void Walk() => Console.WriteLine($\"{ClassName} 用腳走\");\n",
    "\tpublic void Fly() => Console.WriteLine($\"{ClassName} 會飛\");\n",
    "}\n",
    "\n",
    "var p = new People();\n",
    "p.Walk();\n",
    "((IMove)p).Fly();\n",
    "\n",
    "IMove p1 = new People();\n",
    "p1.Walk();\n",
    "p1.Fly();\n",
    "\n",
    "var s = new SuperMan();\n",
    "s.Walk();\n",
    "s.Fly();"
   ]
  },
  {
   "cell_type": "markdown",
   "metadata": {},
   "source": [
    "## 介面可使用 public, protected, private…等修飾子"
   ]
  },
  {
   "cell_type": "code",
   "execution_count": 22,
   "metadata": {
    "dotnet_interactive": {
     "language": "csharp"
    },
    "polyglot_notebook": {
     "kernelName": "csharp"
    },
    "vscode": {
     "languageId": "polyglot-notebook"
    }
   },
   "outputs": [],
   "source": [
    "public interface INewInterface {\n",
    "\tstring Name { get; set; }\n",
    "\tstring StrMethod();\n",
    "\t//預設實作方法\n",
    "\tpublic string StrReturn() => \"INewInterface.StrReturn()\";    \n",
    "\tpublic int ImpleMethod() => 666;\n",
    "}"
   ]
  },
  {
   "cell_type": "markdown",
   "metadata": {},
   "source": [
    "## 多重繼承介面時,物件呼叫方法的行為"
   ]
  },
  {
   "cell_type": "code",
   "execution_count": 24,
   "metadata": {
    "dotnet_interactive": {
     "language": "csharp"
    },
    "polyglot_notebook": {
     "kernelName": "csharp"
    },
    "vscode": {
     "languageId": "polyglot-notebook"
    }
   },
   "outputs": [
    {
     "name": "stdout",
     "output_type": "stream",
     "text": [
      "ClassAB.IA.MethodA()\n",
      "ClassAB.MethodA()\n",
      "ClassAB.MethodA()\n"
     ]
    }
   ],
   "source": [
    "public interface IA { public string MethodA() => \"IA.MethodA\"; }\n",
    "public interface IB { public string MethodA() => \"IB.MethodA\"; }\n",
    "\n",
    "public class ClassAB : IA, IB {\n",
    "\t//明確實作 IA 的 MethodA()\n",
    "\tstring IA.MethodA() => \"ClassAB.IA.MethodA()\";                                                     \n",
    "\tpublic string MethodA() => \"ClassAB.MethodA()\";\n",
    "}\n",
    "\n",
    "IA iA = new ClassAB();\n",
    "IB iB = new ClassAB();\n",
    "ClassAB classAB = new ClassAB();\n",
    "Console.WriteLine(iA.MethodA());\n",
    "//IB無明確實作,所以呼叫實作的MethodA()\n",
    "Console.WriteLine(iB.MethodA());\n",
    "//呼叫實作的MethodA()\n",
    "Console.WriteLine(classAB.MethodA());"
   ]
  }
 ],
 "metadata": {
  "language_info": {
   "name": "python"
  },
  "orig_nbformat": 4
 },
 "nbformat": 4,
 "nbformat_minor": 2
}
