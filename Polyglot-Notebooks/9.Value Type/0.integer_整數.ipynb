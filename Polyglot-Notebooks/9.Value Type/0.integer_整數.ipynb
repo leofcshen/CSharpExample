{
 "cells": [
  {
   "cell_type": "markdown",
   "metadata": {},
   "source": [
    "# integer_整數\n",
    "範圍 -2147483648 ~ 2147483647"
   ]
  },
  {
   "cell_type": "code",
   "execution_count": 4,
   "metadata": {
    "dotnet_interactive": {
     "language": "csharp"
    },
    "polyglot_notebook": {
     "kernelName": "csharp"
    },
    "vscode": {
     "languageId": "polyglot-notebook"
    }
   },
   "outputs": [],
   "source": [
    "int number = 2147483647;"
   ]
  },
  {
   "cell_type": "markdown",
   "metadata": {},
   "source": [
    "# 轉成 string"
   ]
  },
  {
   "cell_type": "code",
   "execution_count": 11,
   "metadata": {
    "dotnet_interactive": {
     "language": "csharp"
    },
    "polyglot_notebook": {
     "kernelName": "csharp"
    },
    "vscode": {
     "languageId": "polyglot-notebook"
    }
   },
   "outputs": [],
   "source": [
    "string strNumber1 = number.ToString();\n",
    "string strNumber2 = Convert.ToString(number);\n",
    "string strNumber3 = string.Format(\"{0}\", number);\n",
    "string strNumber4 = new StringBuilder().Append(number).ToString();\n",
    "// 和字串串接時會自動轉型\n",
    "string strNumber5 = string.Empty + number;\n",
    "string strNumber6 = $\"{number}\";"
   ]
  }
 ],
 "metadata": {
  "language_info": {
   "name": "python"
  },
  "orig_nbformat": 4
 },
 "nbformat": 4,
 "nbformat_minor": 2
}
