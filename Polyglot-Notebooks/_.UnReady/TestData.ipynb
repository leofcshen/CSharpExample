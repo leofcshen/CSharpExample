{
 "cells": [
  {
   "cell_type": "code",
   "execution_count": 1,
   "metadata": {
    "dotnet_interactive": {
     "language": "csharp"
    },
    "polyglot_notebook": {
     "kernelName": "csharp"
    },
    "vscode": {
     "languageId": "polyglot-notebook"
    }
   },
   "outputs": [],
   "source": [
    "#r \"../Library/MyLibrary.dll\""
   ]
  },
  {
   "cell_type": "code",
   "execution_count": 18,
   "metadata": {
    "dotnet_interactive": {
     "language": "javascript"
    },
    "polyglot_notebook": {
     "kernelName": "javascript"
    },
    "vscode": {
     "languageId": "polyglot-notebook"
    }
   },
   "outputs": [
    {
     "data": {
      "text/plain": [
       "1"
      ]
     },
     "metadata": {},
     "output_type": "display_data"
    }
   ],
   "source": [
    "function Run() { console.log(\"1\"); }\n",
    "Run()\n",
    "var a = '1';"
   ]
  },
  {
   "cell_type": "code",
   "execution_count": 13,
   "metadata": {
    "dotnet_interactive": {
     "language": "html"
    },
    "polyglot_notebook": {
     "kernelName": "html"
    },
    "vscode": {
     "languageId": "polyglot-notebook"
    }
   },
   "outputs": [
    {
     "data": {
      "text/html": [
       "<!DOCTYPE html>\r\n",
       "<html>\r\n",
       "\t<head>\r\n",
       "\t\t<script>\r\n",
       "\t\t\tfunction Run() { console.log(\"1\"); }\r\n",
       "\t\t\tRun()\r\n",
       "\t\t</script>\r\n",
       "\t</head>\r\n",
       "\t<body>\r\n",
       "\t\t<div>\r\n",
       "\t\t\t<button onclick=\"document.getElementById('MySpan').innerText='Hello, Html!'\">\r\n",
       "\t\t\t\tSay Hello\r\n",
       "\t\t\t</button>\r\n",
       "\t\t\t<span id='MySpan'></span>\r\n",
       "\t\t\t<button onclick=\"Run()\">\r\n",
       "\t\t\t\tSay Hello2\r\n",
       "\t\t\t</button>\r\n",
       "\t\t</div>\r\n",
       "\t</body>\r\n",
       "<html>"
      ]
     },
     "metadata": {},
     "output_type": "display_data"
    }
   ],
   "source": [
    "<!DOCTYPE html>\n",
    "<html>\n",
    "\t<head>\n",
    "\t\t<script>\n",
    "\t\t\tfunction Run() { console.log(\"1\"); }\n",
    "\t\t\tRun()\n",
    "\t\t</script>\n",
    "\t</head>\n",
    "\t<body>\n",
    "\t\t<div>\n",
    "\t\t\t<button onclick=\"document.getElementById('MySpan').innerText='Hello, Html!'\">\n",
    "\t\t\t\tSay Hello\n",
    "\t\t\t</button>\n",
    "\t\t\t<span id='MySpan'></span>\n",
    "\t\t\t<button onclick=\"Run()\">\n",
    "\t\t\t\tSay Hello2\n",
    "\t\t\t</button>\n",
    "\t\t</div>\n",
    "\t</body>\n",
    "<html>"
   ]
  }
 ],
 "metadata": {
  "language_info": {
   "name": "python"
  },
  "orig_nbformat": 4
 },
 "nbformat": 4,
 "nbformat_minor": 2
}
