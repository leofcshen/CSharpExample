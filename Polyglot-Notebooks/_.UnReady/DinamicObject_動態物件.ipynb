{
 "cells": [
  {
   "cell_type": "markdown",
   "metadata": {},
   "source": [
    "# DinamicObject_動態物件"
   ]
  },
  {
   "cell_type": "code",
   "execution_count": null,
   "metadata": {
    "dotnet_interactive": {
     "language": "csharp"
    },
    "polyglot_notebook": {
     "kernelName": "csharp"
    },
    "vscode": {
     "languageId": "polyglot-notebook"
    }
   },
   "outputs": [],
   "source": [
    "using System.Dynamic;\n",
    "\n",
    "//宣告動態物件\n",
    "dynamic dynamicObject = new ExpandoObject();\n",
    "\n",
    "//新增動態屬性\n",
    "dynamicObject.GreetingMessage = \"你好，\";\n",
    "\n",
    "//新增動態方法，也可用下方註解的寫法。\n",
    "dynamicObject.Greeting = new Action<string>((p) => { Console.WriteLine(dynamicObject.GreetingMessage + p); });\n",
    "dynamicObject.GetGreeting = new Func<int, string>((p) => dynamicObject.GreetingMessage + p.ToString());\n",
    "//dynamicObject.Greeting = (Action<string>)((p) => { Console.WriteLine(dynamicObject.GreetingMessage + p); });\n",
    "//dynamicObject.GetGreeting = (Func<int, string>)((p) => dynamicObject.GreetingMessage + p.ToString());\n",
    "\n",
    "dynamicObject.Greeting(\"Tom\");\n",
    "string message = dynamicObject.GetGreeting(123);\n",
    "message.Display();"
   ]
  }
 ],
 "metadata": {
  "language_info": {
   "name": "python"
  }
 },
 "nbformat": 4,
 "nbformat_minor": 2
}
