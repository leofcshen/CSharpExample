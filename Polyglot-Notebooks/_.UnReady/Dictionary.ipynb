{
 "cells": [
  {
   "cell_type": "markdown",
   "metadata": {},
   "source": [
    "# Dictionary"
   ]
  },
  {
   "cell_type": "markdown",
   "metadata": {},
   "source": [
    "# 宣告"
   ]
  },
  {
   "cell_type": "markdown",
   "metadata": {},
   "source": [
    "Key, Value 什麼型別都可以  \n",
    "也可以把Class塞到Value，然後其中一個屬性拿出來當作 Key  \n",
    "就可以方便的確認有沒有重複的 Key，不用塞到 SQL 才知道。"
   ]
  },
  {
   "cell_type": "code",
   "execution_count": 14,
   "metadata": {
    "dotnet_interactive": {
     "language": "csharp"
    },
    "polyglot_notebook": {
     "kernelName": "csharp"
    },
    "vscode": {
     "languageId": "polyglot-notebook"
    }
   },
   "outputs": [],
   "source": [
    "Dictionary<string, string> MyDic = new Dictionary<string, string>();\n",
    "MyDic.Add(\"Name\", \"Jack\");\n",
    "MyDic.Add(\"Blog\", \"Wordpress\");\n",
    "MyDic.Add(\"Language\", \"C#\");\n",
    "// 新增重覆的 Key 會有錯誤\n",
    "//MyDic.Add(\"Language\", \"Python\");"
   ]
  },
  {
   "cell_type": "code",
   "execution_count": null,
   "metadata": {
    "dotnet_interactive": {
     "language": "csharp"
    },
    "polyglot_notebook": {
     "kernelName": "csharp"
    },
    "vscode": {
     "languageId": "polyglot-notebook"
    }
   },
   "outputs": [],
   "source": [
    "private static readonly Dictionary<string, string> MyDict = new Dictionary<string, string>() {\n",
    "\t{ \"AAA\", \"AAA.com\" },\n",
    "\t{ \"BBB\", \"BBB.com\" },\n",
    "};"
   ]
  },
  {
   "cell_type": "markdown",
   "metadata": {},
   "source": [
    "## 用 Key 找 Value"
   ]
  },
  {
   "cell_type": "code",
   "execution_count": null,
   "metadata": {
    "dotnet_interactive": {
     "language": "csharp"
    },
    "polyglot_notebook": {
     "kernelName": "csharp"
    },
    "vscode": {
     "languageId": "polyglot-notebook"
    }
   },
   "outputs": [],
   "source": [
    "var value = MyDict[\"AAA\"];\n",
    "value"
   ]
  },
  {
   "cell_type": "code",
   "execution_count": null,
   "metadata": {
    "dotnet_interactive": {
     "language": "csharp"
    },
    "polyglot_notebook": {
     "kernelName": "csharp"
    },
    "vscode": {
     "languageId": "polyglot-notebook"
    }
   },
   "outputs": [],
   "source": [
    "var value = MyDict.FirstOrDefault(x => x.Key == \"AAA\").Value;\n",
    "value"
   ]
  },
  {
   "cell_type": "code",
   "execution_count": null,
   "metadata": {
    "dotnet_interactive": {
     "language": "csharp"
    },
    "polyglot_notebook": {
     "kernelName": "csharp"
    },
    "vscode": {
     "languageId": "polyglot-notebook"
    }
   },
   "outputs": [],
   "source": [
    "var value = MyDict.GetValueOrDefault(\"AAA\");\n",
    "value"
   ]
  },
  {
   "cell_type": "code",
   "execution_count": null,
   "metadata": {
    "dotnet_interactive": {
     "language": "csharp"
    },
    "polyglot_notebook": {
     "kernelName": "csharp"
    },
    "vscode": {
     "languageId": "polyglot-notebook"
    }
   },
   "outputs": [],
   "source": [
    "if (MyDict.TryGetValue(\"AAA\", out string value)) {}\n",
    "value"
   ]
  },
  {
   "cell_type": "code",
   "execution_count": null,
   "metadata": {
    "dotnet_interactive": {
     "language": "csharp"
    },
    "polyglot_notebook": {
     "kernelName": "csharp"
    },
    "vscode": {
     "languageId": "polyglot-notebook"
    }
   },
   "outputs": [],
   "source": [
    "var value = MyDict.ContainsKey(\"AAA\") ? MyDict [\"AAA\"] : null;\n",
    "value"
   ]
  },
  {
   "cell_type": "code",
   "execution_count": null,
   "metadata": {
    "dotnet_interactive": {
     "language": "csharp"
    },
    "polyglot_notebook": {
     "kernelName": "csharp"
    },
    "vscode": {
     "languageId": "polyglot-notebook"
    }
   },
   "outputs": [],
   "source": [
    "var value = MyDict[\"CCC\"];\n",
    "value;"
   ]
  },
  {
   "cell_type": "code",
   "execution_count": null,
   "metadata": {
    "dotnet_interactive": {
     "language": "csharp"
    },
    "polyglot_notebook": {
     "kernelName": "csharp"
    },
    "vscode": {
     "languageId": "polyglot-notebook"
    }
   },
   "outputs": [],
   "source": [
    "var value = MyDict.FirstOrDefault(x => x.Key == \"CCC\").Value;\n",
    "value"
   ]
  },
  {
   "cell_type": "code",
   "execution_count": null,
   "metadata": {
    "dotnet_interactive": {
     "language": "csharp"
    },
    "polyglot_notebook": {
     "kernelName": "csharp"
    },
    "vscode": {
     "languageId": "polyglot-notebook"
    }
   },
   "outputs": [],
   "source": [
    "var value = MyDict.GetValueOrDefault(\"CCC\");\n",
    "value"
   ]
  },
  {
   "cell_type": "code",
   "execution_count": null,
   "metadata": {
    "dotnet_interactive": {
     "language": "csharp"
    },
    "polyglot_notebook": {
     "kernelName": "csharp"
    },
    "vscode": {
     "languageId": "polyglot-notebook"
    }
   },
   "outputs": [],
   "source": [
    "if (MyDict.TryGetValue(\"CCC\", out string value)) {}\n",
    "value"
   ]
  },
  {
   "cell_type": "code",
   "execution_count": null,
   "metadata": {
    "dotnet_interactive": {
     "language": "csharp"
    },
    "polyglot_notebook": {
     "kernelName": "csharp"
    },
    "vscode": {
     "languageId": "polyglot-notebook"
    }
   },
   "outputs": [],
   "source": [
    "var value = MyDict.ContainsKey(\"CCC\") ? MyDict [\"CCC\"] : null;\n",
    "value"
   ]
  },
  {
   "cell_type": "markdown",
   "metadata": {},
   "source": [
    "## 用 Value 找 Key"
   ]
  },
  {
   "cell_type": "code",
   "execution_count": null,
   "metadata": {
    "dotnet_interactive": {
     "language": "csharp"
    },
    "polyglot_notebook": {
     "kernelName": "csharp"
    },
    "vscode": {
     "languageId": "polyglot-notebook"
    }
   },
   "outputs": [],
   "source": [
    "var key = SpecialDomain.FirstOrDefault(x => x.Value == \"AAA.com\").Key;\n",
    "key"
   ]
  },
  {
   "cell_type": "code",
   "execution_count": null,
   "metadata": {
    "dotnet_interactive": {
     "language": "csharp"
    },
    "polyglot_notebook": {
     "kernelName": "csharp"
    },
    "vscode": {
     "languageId": "polyglot-notebook"
    }
   },
   "outputs": [],
   "source": [
    "var key = SpecialDomain.FirstOrDefault(x => x.Value == \"CCC.com\").Key;\n",
    "key"
   ]
  },
  {
   "cell_type": "markdown",
   "metadata": {},
   "source": [
    "## 確認 Value 存不存在"
   ]
  },
  {
   "cell_type": "code",
   "execution_count": null,
   "metadata": {
    "dotnet_interactive": {
     "language": "csharp"
    },
    "polyglot_notebook": {
     "kernelName": "csharp"
    },
    "vscode": {
     "languageId": "polyglot-notebook"
    }
   },
   "outputs": [],
   "source": [
    "bool hasValue = MyDict.ContainsValue(\"AAA.com\");\n",
    "hasValue"
   ]
  },
  {
   "cell_type": "code",
   "execution_count": null,
   "metadata": {
    "dotnet_interactive": {
     "language": "csharp"
    },
    "polyglot_notebook": {
     "kernelName": "csharp"
    },
    "vscode": {
     "languageId": "polyglot-notebook"
    }
   },
   "outputs": [],
   "source": [
    "bool hasValue = MyDict.ContainsValue(\"CCC.com\");\n",
    "hasValue"
   ]
  },
  {
   "cell_type": "markdown",
   "metadata": {},
   "source": [
    "## 確認 Key 存不存在"
   ]
  },
  {
   "cell_type": "code",
   "execution_count": null,
   "metadata": {
    "dotnet_interactive": {
     "language": "csharp"
    },
    "polyglot_notebook": {
     "kernelName": "csharp"
    },
    "vscode": {
     "languageId": "polyglot-notebook"
    }
   },
   "outputs": [],
   "source": [
    "bool hasKey = MyDict.ContainsKey(\"AAA\");\n",
    "hasKey"
   ]
  },
  {
   "cell_type": "code",
   "execution_count": null,
   "metadata": {
    "dotnet_interactive": {
     "language": "csharp"
    },
    "polyglot_notebook": {
     "kernelName": "csharp"
    },
    "vscode": {
     "languageId": "polyglot-notebook"
    }
   },
   "outputs": [],
   "source": [
    "bool hasKey = MyDict.ContainsKey(\"CCC\");\n",
    "hasKey"
   ]
  },
  {
   "cell_type": "markdown",
   "metadata": {},
   "source": [
    "# 歷遍字典"
   ]
  },
  {
   "cell_type": "code",
   "execution_count": null,
   "metadata": {
    "dotnet_interactive": {
     "language": "csharp"
    },
    "polyglot_notebook": {
     "kernelName": "csharp"
    },
    "vscode": {
     "languageId": "polyglot-notebook"
    }
   },
   "outputs": [],
   "source": [
    "string result = string.Empty;\n",
    "foreach (var item in MyDict)\n",
    "\tresult += \"Key = \" + item.Key + \", Value = \" + item.Value + \"\\n\";\n",
    "result.Display();"
   ]
  },
  {
   "cell_type": "markdown",
   "metadata": {},
   "source": [
    "# ReadOnlyDictionary"
   ]
  },
  {
   "cell_type": "code",
   "execution_count": null,
   "metadata": {
    "dotnet_interactive": {
     "language": "csharp"
    },
    "polyglot_notebook": {
     "kernelName": "csharp"
    },
    "vscode": {
     "languageId": "polyglot-notebook"
    }
   },
   "outputs": [],
   "source": [
    "using System.Collections.ObjectModel;\n",
    "\n",
    "private static readonly Dictionary<string, string> MyDict = new Dictionary<string, string>() {\n",
    "\t{ \"AAA\", \"AAA.com\" },\n",
    "\t{ \"BBB\", \"BBB.com\" },\n",
    "};\n",
    "\n",
    "private static ReadOnlyDictionary<string, string> MyReadOnlyDict = new ReadOnlyDictionary<string, string>(MyDict);"
   ]
  },
  {
   "cell_type": "code",
   "execution_count": null,
   "metadata": {
    "dotnet_interactive": {
     "language": "csharp"
    },
    "polyglot_notebook": {
     "kernelName": "csharp"
    },
    "vscode": {
     "languageId": "polyglot-notebook"
    }
   },
   "outputs": [],
   "source": [
    "using System.Collections.ObjectModel;\n",
    "\n",
    "private static ReadOnlyDictionary<string, string> MyReadOnlyDict = new ReadOnlyDictionary<string, string>(\n",
    "\tnew Dictionary<string, string>() {\n",
    "\t\t{ \"AAA\", \"AAA.com\" },\n",
    "\t\t{ \"BBB\", \"BBB.com\" },\n",
    "\t}\n",
    ");"
   ]
  },
  {
   "cell_type": "markdown",
   "metadata": {},
   "source": [
    "不能直接在宣告時初始化資料"
   ]
  },
  {
   "cell_type": "code",
   "execution_count": null,
   "metadata": {
    "dotnet_interactive": {
     "language": "csharp"
    },
    "polyglot_notebook": {
     "kernelName": "csharp"
    },
    "vscode": {
     "languageId": "polyglot-notebook"
    }
   },
   "outputs": [],
   "source": [
    "using System.Collections.ObjectModel;\n",
    "\n",
    "private static ReadOnlyDictionary<string, string> MyReadOnlyDict = new ReadOnlyDictionary<string, string>(\n",
    "\t{ \"AAA\", \"AAA.com\" },\n",
    "\t{ \"BBB\", \"BBB.com\" },\n",
    ");"
   ]
  },
  {
   "cell_type": "code",
   "execution_count": null,
   "metadata": {
    "dotnet_interactive": {
     "language": "csharp"
    },
    "polyglot_notebook": {
     "kernelName": "csharp"
    },
    "vscode": {
     "languageId": "polyglot-notebook"
    }
   },
   "outputs": [],
   "source": [
    "private static readonly Dictionary<string, string> MyDict = new Dictionary<string, string>() {\n",
    "\t{ \"AAA\", \"AAA.com\" },\n",
    "\t{ \"BBB\", \"BBB.com\" },\n",
    "};\n",
    "\n",
    "// 可加元素\n",
    "MyDict.Add(\"CCC\", \"CCC.com\");\n",
    "// 可刪元素\n",
    "MyDict.Remove(\"AAA\");\n",
    "\n",
    "// 不能指派\n",
    "MyDict = new new Dictionary<string, string>() {\n",
    "\t{ \"AAA\", \"AAA.com\" },\n",
    "\t{ \"BBB\", \"BBB.com\" },\n",
    "};"
   ]
  },
  {
   "cell_type": "code",
   "execution_count": null,
   "metadata": {
    "dotnet_interactive": {
     "language": "csharp"
    },
    "polyglot_notebook": {
     "kernelName": "csharp"
    },
    "vscode": {
     "languageId": "polyglot-notebook"
    }
   },
   "outputs": [],
   "source": [
    "using System.Collections.ObjectModel;\n",
    "\n",
    "private static readonly Dictionary<string, string> MyDict = new Dictionary<string, string>() {\n",
    "\t{ \"AAA\", \"AAA.com\" },\n",
    "\t{ \"BBB\", \"BBB.com\" },\n",
    "};\n",
    "\n",
    "private static ReadOnlyDictionary<string, string> MyReadOnlyDict = new ReadOnlyDictionary<string, string>(MyDict);\n",
    "\n",
    "// 沒有 Add 方法\n",
    "MyReadOnlyDict.Add(\"CCC\", \"CCC.com\");\n",
    "// 會報錯\n",
    "MyReadOnlyDict.Remove(\"AAA\", out string value);"
   ]
  },
  {
   "cell_type": "code",
   "execution_count": null,
   "metadata": {
    "dotnet_interactive": {
     "language": "csharp"
    },
    "polyglot_notebook": {
     "kernelName": "csharp"
    },
    "vscode": {
     "languageId": "polyglot-notebook"
    }
   },
   "outputs": [],
   "source": []
  }
 ],
 "metadata": {
  "language_info": {
   "name": "python"
  },
  "orig_nbformat": 4
 },
 "nbformat": 4,
 "nbformat_minor": 2
}
