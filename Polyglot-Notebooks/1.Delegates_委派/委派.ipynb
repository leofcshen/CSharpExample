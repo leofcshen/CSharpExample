{
 "cells": [
  {
   "cell_type": "code",
   "execution_count": 1,
   "metadata": {
    "dotnet_interactive": {
     "language": "csharp"
    },
    "polyglot_notebook": {
     "kernelName": "csharp"
    },
    "vscode": {
     "languageId": "polyglot-notebook"
    }
   },
   "outputs": [],
   "source": [
    "//引用 Library\n",
    "#r \"../Library/Library.dll\"\n",
    "using Library.Extensions;"
   ]
  },
  {
   "cell_type": "markdown",
   "metadata": {},
   "source": [
    "# Delegate_委派"
   ]
  },
  {
   "cell_type": "markdown",
   "metadata": {},
   "source": [
    "有一種概念稱為 Currying，將一個接受 n 個參數的方法，轉變為 n 個只接受一個參數的方法 "
   ]
  },
  {
   "cell_type": "code",
   "execution_count": null,
   "metadata": {
    "dotnet_interactive": {
     "language": "javascript"
    },
    "polyglot_notebook": {
     "kernelName": "javascript"
    },
    "vscode": {
     "languageId": "polyglot-notebook"
    }
   },
   "outputs": [],
   "source": [
    "let myMultiply = x => y => z => x * y * z;\n",
    "\n",
    "// 拆解後等同下列\n",
    "let myMultiplyOrigin = (x) => {\n",
    "\treturn (y) => {\n",
    "\t\treturn (z) => {\n",
    "\t\t\treturn x * y * z;\n",
    "\t\t}\n",
    "\t}\n",
    "}\n",
    "\n",
    "//一次傳所有參數\n",
    "console.log(myMultiply(1)(2)(3));\n",
    "\n",
    "//先傳兩個參數\n",
    "let multiply20 = myMultiply(4)(5);\n",
    "console.log(multiply20(2));\n",
    "\n",
    "//先傳一個參數\n",
    "let multiply3 = myMultiply(3);\n",
    "console.log(multiply3(4)(5));"
   ]
  },
  {
   "cell_type": "code",
   "execution_count": null,
   "metadata": {
    "dotnet_interactive": {
     "language": "csharp"
    },
    "polyglot_notebook": {
     "kernelName": "csharp"
    },
    "vscode": {
     "languageId": "polyglot-notebook"
    }
   },
   "outputs": [],
   "source": [
    "Func<int, Func<int, Func<int, int>>> myMultiply = x => y => z => x * y * z;\n",
    "\n",
    "//一次傳所有參數\n",
    "myMultiply(1)(2)(3).Dump();\n",
    "\n",
    "//先傳兩個參數\n",
    "var multiply20 = myMultiply(4)(5);\n",
    "multiply20(2).Dump();\n",
    "\n",
    "//先傳一個參數\n",
    "var multiply3 = myMultiply(3);\n",
    "multiply3(4)(5).Dump();"
   ]
  },
  {
   "cell_type": "code",
   "execution_count": null,
   "metadata": {
    "dotnet_interactive": {
     "language": "csharp"
    },
    "polyglot_notebook": {
     "kernelName": "csharp"
    },
    "vscode": {
     "languageId": "polyglot-notebook"
    }
   },
   "outputs": [],
   "source": [
    "public delegate Func<int, Func<int, int>> Multiplier(int x);\n",
    "\n",
    "Multiplier myMultiply = x => y => z => x * y * z;\n",
    "\n",
    "//拆解後等同下列\n",
    "Multiplier myMultiplyOrigin = x => {\n",
    "\treturn y => {\n",
    "\t\treturn z => x * y * z;\n",
    "\t};\n",
    "};\n",
    "\n",
    "// 一次傳所有參數\n",
    "myMultiply(1)(2)(3).Dump();\n",
    "\n",
    "// 先傳兩個參數\n",
    "var multiply20 = myMultiply(4)(5);\n",
    "multiply20(2).Dump();\n",
    "\n",
    "// 先傳一個參數\n",
    "var multiply3 = myMultiply(3);\n",
    "multiply3(4)(5).Dump();"
   ]
  }
 ],
 "metadata": {
  "language_info": {
   "name": "python"
  },
  "orig_nbformat": 4
 },
 "nbformat": 4,
 "nbformat_minor": 2
}
