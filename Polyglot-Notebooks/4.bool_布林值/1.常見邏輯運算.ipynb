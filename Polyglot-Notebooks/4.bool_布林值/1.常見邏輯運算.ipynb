{
 "cells": [
  {
   "cell_type": "code",
   "execution_count": null,
   "metadata": {
    "dotnet_interactive": {
     "language": "csharp"
    },
    "polyglot_notebook": {
     "kernelName": "csharp"
    },
    "vscode": {
     "languageId": "polyglot-notebook"
    }
   },
   "outputs": [],
   "source": [
    "//引用 Library\n",
    "#r \"../Library/Library.dll\"\n",
    "using Library.Extensions;"
   ]
  },
  {
   "cell_type": "markdown",
   "metadata": {},
   "source": [
    "# 常見邏輯運算\n",
    "相關可查詢真值表"
   ]
  },
  {
   "cell_type": "code",
   "execution_count": null,
   "metadata": {
    "dotnet_interactive": {
     "language": "csharp"
    },
    "polyglot_notebook": {
     "kernelName": "csharp"
    },
    "vscode": {
     "languageId": "polyglot-notebook"
    }
   },
   "outputs": [],
   "source": [
    "public enum LogicOperation {\n",
    "\tAnd,\n",
    "\tOr,\n",
    "\tXor,\n",
    "\tXnor1,\n",
    "\tXnor2,\n",
    "}\n",
    "\n",
    "public void CheckOperation(LogicOperation operation, bool a, bool b) {\n",
    "\t//c# 8 Switch expression\n",
    "\tbool result = operation switch {\n",
    "\t\tLogicOperation.And => a && b,\n",
    "\t\tLogicOperation.Or => a || b,\n",
    "\t\tLogicOperation.Xor => a ^ b,\n",
    "\t\tLogicOperation.Xnor1 => !(a ^ b),\n",
    "\t\tLogicOperation.Xnor2 => a == b,\n",
    "\t\t_ => throw new ArgumentOutOfRangeException(nameof(operation), \"Invalid logic operation\")\n",
    "\t};\n",
    "\n",
    "\tConsole.WriteLine($\"{a.ToString()} {operation.ToString()} {b.ToString()} => {result}\");\n",
    "}\n",
    "\n",
    "public void CheckOperationOrigin(LogicOperation operation, bool a, bool b) {\n",
    "\tbool result;\n",
    "\tswitch (operation) {\n",
    "\t\tcase LogicOperation.And:\n",
    "\t\t\tresult = a && b;\n",
    "\t\t\tbreak;\n",
    "\t\tcase LogicOperation.Or:\n",
    "\t\t\tresult = a || b;\n",
    "\t\t\tbreak;\n",
    "\t\tcase LogicOperation.Xor:\n",
    "\t\t\tresult = a ^ b;\n",
    "\t\t\tbreak;\n",
    "\t\tcase LogicOperation.Xnor1:\n",
    "\t\t\tresult = !(a ^ b);\n",
    "\t\t\tbreak;\n",
    "\t\tcase LogicOperation.Xnor2:\n",
    "\t\t\tresult = a == b;\t\t\t\n",
    "\t\t\tbreak;\n",
    "\t\tdefault:\n",
    "\t\t\tthrow new ArgumentOutOfRangeException(nameof(operation), \"Invalid logic operation\");\n",
    "\t}\n",
    "\n",
    "\tConsole.WriteLine($\"{a.ToString()} {operation.ToString()} {b.ToString()} => {result}\");\n",
    "}"
   ]
  },
  {
   "cell_type": "markdown",
   "metadata": {},
   "source": [
    "# AND"
   ]
  },
  {
   "cell_type": "code",
   "execution_count": null,
   "metadata": {
    "dotnet_interactive": {
     "language": "csharp"
    },
    "polyglot_notebook": {
     "kernelName": "csharp"
    },
    "vscode": {
     "languageId": "polyglot-notebook"
    }
   },
   "outputs": [],
   "source": [
    "CheckOperation(LogicOperation.And, true, true);\n",
    "CheckOperation(LogicOperation.And, true, false);\n",
    "CheckOperation(LogicOperation.And, false, true);\n",
    "CheckOperation(LogicOperation.And, false, false);"
   ]
  },
  {
   "cell_type": "markdown",
   "metadata": {},
   "source": [
    "# OR"
   ]
  },
  {
   "cell_type": "code",
   "execution_count": null,
   "metadata": {
    "dotnet_interactive": {
     "language": "csharp"
    },
    "polyglot_notebook": {
     "kernelName": "csharp"
    },
    "vscode": {
     "languageId": "polyglot-notebook"
    }
   },
   "outputs": [],
   "source": [
    "CheckOperation(LogicOperation.Or, true, true);\n",
    "CheckOperation(LogicOperation.Or, true, false);\n",
    "CheckOperation(LogicOperation.Or, false, true);\n",
    "CheckOperation(LogicOperation.Or, false, false);"
   ]
  },
  {
   "cell_type": "markdown",
   "metadata": {},
   "source": [
    "# XOR (Exclusive OR)\n",
    "兩個值相同時為 false，兩個值相異時為 true"
   ]
  },
  {
   "cell_type": "code",
   "execution_count": null,
   "metadata": {
    "dotnet_interactive": {
     "language": "csharp"
    },
    "polyglot_notebook": {
     "kernelName": "csharp"
    },
    "vscode": {
     "languageId": "polyglot-notebook"
    }
   },
   "outputs": [],
   "source": [
    "CheckOperation(LogicOperation.Xor, true, true);\n",
    "CheckOperation(LogicOperation.Xor, true, false);\n",
    "CheckOperation(LogicOperation.Xor, false, true);\n",
    "CheckOperation(LogicOperation.Xor, false, false);"
   ]
  },
  {
   "cell_type": "markdown",
   "metadata": {},
   "source": [
    "# XNOR\n",
    "兩個值相同時為 true，兩個值相異時為 false"
   ]
  },
  {
   "cell_type": "code",
   "execution_count": null,
   "metadata": {
    "dotnet_interactive": {
     "language": "csharp"
    },
    "polyglot_notebook": {
     "kernelName": "csharp"
    },
    "vscode": {
     "languageId": "polyglot-notebook"
    }
   },
   "outputs": [],
   "source": [
    "CheckOperation(LogicOperation.Xnor1, true, true);\n",
    "CheckOperation(LogicOperation.Xnor1, true, false);\n",
    "CheckOperation(LogicOperation.Xnor1, false, true);\n",
    "CheckOperation(LogicOperation.Xnor1, false, false);"
   ]
  },
  {
   "cell_type": "code",
   "execution_count": null,
   "metadata": {
    "dotnet_interactive": {
     "language": "csharp"
    },
    "polyglot_notebook": {
     "kernelName": "csharp"
    },
    "vscode": {
     "languageId": "polyglot-notebook"
    }
   },
   "outputs": [],
   "source": [
    "CheckOperation(LogicOperation.Xnor2, true, true);\n",
    "CheckOperation(LogicOperation.Xnor2, true, false);\n",
    "CheckOperation(LogicOperation.Xnor2, false, true);\n",
    "CheckOperation(LogicOperation.Xnor2, false, false);"
   ]
  }
 ],
 "metadata": {
  "language_info": {
   "name": "python"
  },
  "orig_nbformat": 4
 },
 "nbformat": 4,
 "nbformat_minor": 2
}
