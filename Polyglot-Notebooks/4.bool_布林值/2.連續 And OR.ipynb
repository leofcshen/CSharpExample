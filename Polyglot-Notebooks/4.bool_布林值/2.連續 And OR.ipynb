{
 "cells": [
  {
   "cell_type": "markdown",
   "metadata": {},
   "source": [
    "# 連續 And OR"
   ]
  },
  {
   "cell_type": "code",
   "execution_count": null,
   "metadata": {
    "dotnet_interactive": {
     "language": "csharp"
    },
    "polyglot_notebook": {
     "kernelName": "csharp"
    },
    "vscode": {
     "languageId": "polyglot-notebook"
    }
   },
   "outputs": [],
   "source": [
    "using System;\n",
    "using System.Diagnostics;\n",
    "using System.Threading;\n",
    "\n",
    "static Random _random = new Random();\n",
    "\n",
    "bool Run(int mileseconds, int truePercent){\n",
    "\tThread.Sleep(mileseconds);\n",
    "\treturn _random.Next(100) < truePercent;\n",
    "}\n",
    "\n",
    "bool 執行5_True率80() => Run(5, 80);\n",
    "bool 執行3_True率50() => Run(3, 50);\n",
    "bool 執行1_True率20() => Run(1, 20);\n",
    "\n",
    "// bool 執行5_True率20() => Run(5, 20);\n",
    "// bool 執行3_True率50() => Run(3, 50);\n",
    "// bool 執行1_True率80() => Run(1, 80);\n",
    "\n",
    "Stopwatch stopwatch = new Stopwatch();\n",
    "stopwatch.Start();\n",
    "\n",
    "for (int i = 0; i <= 1000; i++) {\n",
    "\tif(執行1_True率20() && 執行3_True率50() && 執行5_True率80()) {}\n",
    "\n",
    "\t// if(執行1_True率80() || 執行3_True率50() || 執行5_True率20()) {}\n",
    "}\n",
    "\n",
    "stopwatch.Stop();\n",
    "Console.WriteLine($\"執行時間: {stopwatch.Elapsed.TotalSeconds} s\");"
   ]
  },
  {
   "cell_type": "code",
   "execution_count": null,
   "metadata": {
    "dotnet_interactive": {
     "language": "csharp"
    },
    "polyglot_notebook": {
     "kernelName": "csharp"
    },
    "vscode": {
     "languageId": "polyglot-notebook"
    }
   },
   "outputs": [],
   "source": [
    "bool LogAndReturn(string methodName, bool result) {\n",
    "\tConsole.WriteLine(methodName);\n",
    "\treturn result;\n",
    "}\n",
    "\n",
    "bool TrueA() => LogAndReturn(nameof(TrueA), true);\n",
    "bool TrueB() => LogAndReturn(nameof(TrueB), true);\n",
    "bool FalseA() => LogAndReturn(nameof(FalseA), false);\n",
    "bool FalseB() => LogAndReturn(nameof(FalseB), false);"
   ]
  },
  {
   "cell_type": "code",
   "execution_count": null,
   "metadata": {
    "dotnet_interactive": {
     "language": "csharp"
    },
    "polyglot_notebook": {
     "kernelName": "csharp"
    },
    "vscode": {
     "languageId": "polyglot-notebook"
    }
   },
   "outputs": [],
   "source": [
    "if(TrueA() && TrueB() && FalseA() && FalseB()) {}"
   ]
  },
  {
   "cell_type": "code",
   "execution_count": null,
   "metadata": {
    "dotnet_interactive": {
     "language": "csharp"
    },
    "polyglot_notebook": {
     "kernelName": "csharp"
    },
    "vscode": {
     "languageId": "polyglot-notebook"
    }
   },
   "outputs": [],
   "source": [
    "if(FalseA() || FalseB() || TrueA() || TrueB()) {}"
   ]
  }
 ],
 "metadata": {
  "language_info": {
   "name": "python"
  },
  "orig_nbformat": 4
 },
 "nbformat": 4,
 "nbformat_minor": 2
}
