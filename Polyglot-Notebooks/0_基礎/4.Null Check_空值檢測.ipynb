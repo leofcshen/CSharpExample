{
 "cells": [
  {
   "cell_type": "markdown",
   "metadata": {},
   "source": [
    "# Null Check_空值檢測"
   ]
  },
  {
   "cell_type": "code",
   "execution_count": null,
   "metadata": {
    "dotnet_interactive": {
     "language": "csharp"
    },
    "polyglot_notebook": {
     "kernelName": "csharp"
    },
    "vscode": {
     "languageId": "polyglot-notebook"
    }
   },
   "outputs": [],
   "source": [
    "public class MyClass {\n",
    "\tpublic string Name { get; }\n",
    "\tpublic MyClass(string name) {\n",
    "\t\tName = name;\n",
    "\t}\n",
    "}"
   ]
  },
  {
   "cell_type": "markdown",
   "metadata": {},
   "source": [
    "# C# 6 使用 == null"
   ]
  },
  {
   "cell_type": "code",
   "execution_count": null,
   "metadata": {
    "dotnet_interactive": {
     "language": "csharp"
    },
    "polyglot_notebook": {
     "kernelName": "csharp"
    },
    "vscode": {
     "languageId": "polyglot-notebook"
    }
   },
   "outputs": [],
   "source": [
    "MyClass myClass = new MyClass(\"Tom\");\n",
    "bool isNull = myClass == null;\n",
    "bool isNotNull = myClass != null;\n",
    "Console.WriteLine($\"null check => {isNull}\");\n",
    "Console.WriteLine($\"not null check => {isNotNull}\");"
   ]
  },
  {
   "cell_type": "code",
   "execution_count": null,
   "metadata": {
    "dotnet_interactive": {
     "language": "csharp"
    },
    "polyglot_notebook": {
     "kernelName": "csharp"
    },
    "vscode": {
     "languageId": "polyglot-notebook"
    }
   },
   "outputs": [],
   "source": [
    "\n",
    "MyClass myClass;\n",
    "bool isNull = myClass == null;\n",
    "bool isNotNull = myClass != null;\n",
    "Console.WriteLine($\"null check => {isNull}\");\n",
    "Console.WriteLine($\"not null check => {isNotNull}\");\n"
   ]
  },
  {
   "cell_type": "markdown",
   "metadata": {},
   "source": [
    "# C#7 使用 is null"
   ]
  },
  {
   "cell_type": "code",
   "execution_count": null,
   "metadata": {
    "dotnet_interactive": {
     "language": "csharp"
    },
    "polyglot_notebook": {
     "kernelName": "csharp"
    },
    "vscode": {
     "languageId": "polyglot-notebook"
    }
   },
   "outputs": [],
   "source": [
    "public class MyClass {\n",
    "\tpublic string Name { get; }\n",
    "\tpublic MyClass(string name) {\n",
    "\t\tName = name;\n",
    "\t}\n",
    "\n",
    "\tpublic static bool operator ==(MyClass left, MyClass right) {\n",
    "\t\treturn true;\n",
    "\t}\n",
    "\tpublic static bool operator !=(MyClass left, MyClass right) {\n",
    "\t\treturn true;\n",
    "\t}\n",
    "}"
   ]
  },
  {
   "cell_type": "markdown",
   "metadata": {},
   "source": [
    "使用 is null 比 == null 安全"
   ]
  },
  {
   "cell_type": "code",
   "execution_count": null,
   "metadata": {
    "dotnet_interactive": {
     "language": "csharp"
    },
    "polyglot_notebook": {
     "kernelName": "csharp"
    },
    "vscode": {
     "languageId": "polyglot-notebook"
    }
   },
   "outputs": [],
   "source": [
    "MyClass myClass = new MyClass(\"Tom\");\n",
    "bool isNull = myClass == null;\n",
    "bool isNotNull = myClass != null;\n",
    "bool isNullByIs = myClass is null;\n",
    "bool isNotNullByIs = !(myClass is null);\n",
    "bool isNotNullByObject = myClass is object;\n",
    "Console.WriteLine($\"null check => {isNull}\");\n",
    "Console.WriteLine($\"not null check => {isNotNull}\");\n",
    "Console.WriteLine($\"null check by is => {isNullByIs}\");\n",
    "Console.WriteLine($\"not null check by is => {isNotNullByIs}\");\n",
    "Console.WriteLine($\"not null check by object => {isNotNullByObject}\");"
   ]
  },
  {
   "cell_type": "code",
   "execution_count": null,
   "metadata": {
    "dotnet_interactive": {
     "language": "csharp"
    },
    "polyglot_notebook": {
     "kernelName": "csharp"
    },
    "vscode": {
     "languageId": "polyglot-notebook"
    }
   },
   "outputs": [],
   "source": [
    "MyClass myClass;\n",
    "bool isNull = myClass == null;\n",
    "bool isNotNull = myClass != null;\n",
    "bool isNullByIs = myClass is null;\n",
    "bool isNotNullByIs = !(myClass is null);\n",
    "bool isNotNullByObject = myClass is object;\n",
    "Console.WriteLine($\"null check => {isNull}\");\n",
    "Console.WriteLine($\"not null check => {isNotNull}\");\n",
    "Console.WriteLine($\"null check by is => {isNullByIs}\");\n",
    "Console.WriteLine($\"not null check by is => {isNotNullByIs}\");\n",
    "Console.WriteLine($\"not null check by object => {isNotNullByObject}\");"
   ]
  },
  {
   "cell_type": "markdown",
   "metadata": {},
   "source": [
    "# C# 8 使用 is {}"
   ]
  },
  {
   "cell_type": "markdown",
   "metadata": {},
   "source": [
    "not null check, 等同 is object，一樣難讀  \n",
    "原理：C# 7 有模式比對的能力後，C# 8 is 擴充此能力增加了屬性比對(Proerty Pattern)能力，就可以判斷某物件是否包含於 {}  \n",
    "除了 null 之外的物件都是會被包含於 {} (等同於 objcet 物件)，true 就代表該物件 not null"
   ]
  },
  {
   "cell_type": "code",
   "execution_count": null,
   "metadata": {
    "dotnet_interactive": {
     "language": "csharp"
    },
    "polyglot_notebook": {
     "kernelName": "csharp"
    },
    "vscode": {
     "languageId": "polyglot-notebook"
    }
   },
   "outputs": [],
   "source": [
    "MyClass myClass = new MyClass(\"Tom\");\n",
    "bool isNotNull = myClass is {};\n",
    "\n",
    "Console.WriteLine($\"not null check by {{}} => {isNotNull}\");"
   ]
  },
  {
   "cell_type": "code",
   "execution_count": null,
   "metadata": {
    "dotnet_interactive": {
     "language": "csharp"
    },
    "polyglot_notebook": {
     "kernelName": "csharp"
    },
    "vscode": {
     "languageId": "polyglot-notebook"
    }
   },
   "outputs": [],
   "source": [
    "MyClass myClass;\n",
    "bool isNotNull = myClass is {};\n",
    "\n",
    "Console.WriteLine($\"not null check by {{}} => {isNotNull}\");"
   ]
  },
  {
   "cell_type": "markdown",
   "metadata": {},
   "source": [
    "# C# 9 使用 is not null"
   ]
  },
  {
   "cell_type": "code",
   "execution_count": null,
   "metadata": {
    "dotnet_interactive": {
     "language": "csharp"
    },
    "polyglot_notebook": {
     "kernelName": "csharp"
    },
    "vscode": {
     "languageId": "polyglot-notebook"
    }
   },
   "outputs": [],
   "source": [
    "MyClass myClass = new MyClass(\"Tom\");\n",
    "bool isNotNull = myClass is not null;\n",
    "\n",
    "Console.WriteLine($\"not null check by is not null => {isNotNull}\");"
   ]
  },
  {
   "cell_type": "code",
   "execution_count": null,
   "metadata": {
    "dotnet_interactive": {
     "language": "csharp"
    },
    "polyglot_notebook": {
     "kernelName": "csharp"
    },
    "vscode": {
     "languageId": "polyglot-notebook"
    }
   },
   "outputs": [],
   "source": [
    "MyClass myClass;\n",
    "bool isNotNull = myClass is not null;\n",
    "\n",
    "Console.WriteLine($\"not null check by is not null => {isNotNull}\");"
   ]
  },
  {
   "cell_type": "markdown",
   "metadata": {},
   "source": [
    "# 其他用法"
   ]
  },
  {
   "cell_type": "code",
   "execution_count": null,
   "metadata": {
    "dotnet_interactive": {
     "language": "csharp"
    },
    "polyglot_notebook": {
     "kernelName": "csharp"
    },
    "vscode": {
     "languageId": "polyglot-notebook"
    }
   },
   "outputs": [],
   "source": [
    "MyClass myClass = new MyClass(\"Tom\");\n",
    "bool isNullByEquals = object.Equals(null, myClass);\n",
    "bool isNullByReferenceEquals = object.ReferenceEquals(null, myClass);\n",
    "\n",
    "Console.WriteLine($\"not null check by Equals => {isNullByEquals}\");\n",
    "Console.WriteLine($\"not null check by ReferenceEquals => {isNullByReferenceEquals}\");"
   ]
  },
  {
   "cell_type": "code",
   "execution_count": null,
   "metadata": {
    "dotnet_interactive": {
     "language": "csharp"
    },
    "polyglot_notebook": {
     "kernelName": "csharp"
    },
    "vscode": {
     "languageId": "polyglot-notebook"
    }
   },
   "outputs": [],
   "source": [
    "MyClass myClass;\n",
    "bool isNullByEquals = object.Equals(null, myClass);\n",
    "bool isNullByReferenceEquals = object.ReferenceEquals(null, myClass);\n",
    "\n",
    "Console.WriteLine($\"not null check by Equals => {isNullByEquals}\");\n",
    "Console.WriteLine($\"not null check by ReferenceEquals => {isNullByReferenceEquals}\");"
   ]
  },
  {
   "cell_type": "markdown",
   "metadata": {},
   "source": [
    "# ?? 運算子"
   ]
  },
  {
   "cell_type": "code",
   "execution_count": 13,
   "metadata": {
    "dotnet_interactive": {
     "language": "csharp"
    },
    "polyglot_notebook": {
     "kernelName": "csharp"
    },
    "vscode": {
     "languageId": "polyglot-notebook"
    }
   },
   "outputs": [
    {
     "data": {
      "text/plain": [
       "Tom"
      ]
     },
     "metadata": {},
     "output_type": "display_data"
    }
   ],
   "source": [
    "string a = \"Tom\";\n",
    "string b = a ?? \"John\";\n",
    "b"
   ]
  },
  {
   "cell_type": "code",
   "execution_count": null,
   "metadata": {
    "dotnet_interactive": {
     "language": "csharp"
    },
    "polyglot_notebook": {
     "kernelName": "csharp"
    },
    "vscode": {
     "languageId": "polyglot-notebook"
    }
   },
   "outputs": [],
   "source": [
    "string a;\n",
    "string b = a ?? \"John\";\n",
    "b"
   ]
  },
  {
   "cell_type": "markdown",
   "metadata": {},
   "source": [
    "# ??= 運算子"
   ]
  },
  {
   "cell_type": "code",
   "execution_count": 14,
   "metadata": {
    "dotnet_interactive": {
     "language": "csharp"
    },
    "polyglot_notebook": {
     "kernelName": "csharp"
    },
    "vscode": {
     "languageId": "polyglot-notebook"
    }
   },
   "outputs": [
    {
     "data": {
      "text/plain": [
       "Tom"
      ]
     },
     "metadata": {},
     "output_type": "display_data"
    }
   ],
   "source": [
    "string a = \"Tom\";\n",
    "a ??= \"default\";\n",
    "a"
   ]
  },
  {
   "cell_type": "code",
   "execution_count": 15,
   "metadata": {
    "dotnet_interactive": {
     "language": "csharp"
    },
    "polyglot_notebook": {
     "kernelName": "csharp"
    },
    "vscode": {
     "languageId": "polyglot-notebook"
    }
   },
   "outputs": [
    {
     "data": {
      "text/plain": [
       "John"
      ]
     },
     "metadata": {},
     "output_type": "display_data"
    }
   ],
   "source": [
    "string a;\n",
    "a ??= \"John\";\n",
    "a"
   ]
  },
  {
   "cell_type": "markdown",
   "metadata": {},
   "source": [
    "# Null-Condiction Operator_Null 條件運算子"
   ]
  },
  {
   "cell_type": "markdown",
   "metadata": {},
   "source": [
    "##  ?."
   ]
  },
  {
   "cell_type": "code",
   "execution_count": 1,
   "metadata": {
    "dotnet_interactive": {
     "language": "csharp"
    },
    "polyglot_notebook": {
     "kernelName": "csharp"
    },
    "vscode": {
     "languageId": "polyglot-notebook"
    }
   },
   "outputs": [
    {
     "ename": "Error",
     "evalue": "System.NullReferenceException: Object reference not set to an instance of an object.\r\n   at Submission#2.<<Initialize>>d__0.MoveNext()\r\n--- End of stack trace from previous location ---\r\n   at Microsoft.CodeAnalysis.Scripting.ScriptExecutionState.RunSubmissionsAsync[TResult](ImmutableArray`1 precedingExecutors, Func`2 currentExecutor, StrongBox`1 exceptionHolderOpt, Func`2 catchExceptionOpt, CancellationToken cancellationToken)",
     "output_type": "error",
     "traceback": [
      "System.NullReferenceException: Object reference not set to an instance of an object.\r\n",
      "   at Submission#2.<<Initialize>>d__0.MoveNext()\r\n",
      "--- End of stack trace from previous location ---\r\n",
      "   at Microsoft.CodeAnalysis.Scripting.ScriptExecutionState.RunSubmissionsAsync[TResult](ImmutableArray`1 precedingExecutors, Func`2 currentExecutor, StrongBox`1 exceptionHolderOpt, Func`2 catchExceptionOpt, CancellationToken cancellationToken)"
     ]
    }
   ],
   "source": [
    "class A {\n",
    "\tpublic bool IsAdmin { get; set; }\n",
    "}\n",
    "\n",
    "A a;\n",
    "bool isAdmin;\n",
    "\n",
    "isAdmin = a.IsAdmin;"
   ]
  },
  {
   "cell_type": "code",
   "execution_count": null,
   "metadata": {
    "dotnet_interactive": {
     "language": "csharp"
    },
    "polyglot_notebook": {
     "kernelName": "csharp"
    },
    "vscode": {
     "languageId": "polyglot-notebook"
    }
   },
   "outputs": [],
   "source": [
    "class A {\n",
    "\tpublic bool IsAdmin { get; set; }\n",
    "}\n",
    "\n",
    "A a;\n",
    "bool isAdmin;\n",
    "\n",
    "if (a is not null) {\n",
    "\tisAdmin = a.IsAdmin;\n",
    "}"
   ]
  },
  {
   "cell_type": "code",
   "execution_count": 4,
   "metadata": {
    "dotnet_interactive": {
     "language": "csharp"
    },
    "polyglot_notebook": {
     "kernelName": "csharp"
    },
    "vscode": {
     "languageId": "polyglot-notebook"
    }
   },
   "outputs": [],
   "source": [
    "class A {\n",
    "\tpublic string Name { get; set; }\n",
    "\tpublic B B { get; set; }\n",
    "}\n",
    "\n",
    "class B {\n",
    "\tpublic C C { get; set; }\n",
    "}\n",
    "\n",
    "class C {\n",
    "\tpublic bool IsAdmin { get; set; }\n",
    "}"
   ]
  },
  {
   "cell_type": "code",
   "execution_count": 6,
   "metadata": {
    "dotnet_interactive": {
     "language": "csharp"
    },
    "polyglot_notebook": {
     "kernelName": "csharp"
    },
    "vscode": {
     "languageId": "polyglot-notebook"
    }
   },
   "outputs": [],
   "source": [
    "A a;\n",
    "bool isAdmin;\n",
    "string name;\n",
    "\n",
    "//isAdmin = a.B.C.IsAdmin;\n",
    "\n",
    "if (a is not null) {\n",
    "\tif (a.B is not null) {\n",
    "\t\tif (a.B.C is not null) {\n",
    "\t\t\tisAdmin = a.B.C.IsAdmin;\n",
    "\t\t}\n",
    "\t}\t\n",
    "}"
   ]
  },
  {
   "cell_type": "code",
   "execution_count": null,
   "metadata": {
    "dotnet_interactive": {
     "language": "csharp"
    },
    "polyglot_notebook": {
     "kernelName": "csharp"
    },
    "vscode": {
     "languageId": "polyglot-notebook"
    }
   },
   "outputs": [],
   "source": [
    "if (a is not null && a.B is not null && a.B.C is not null) {\n",
    "\tisAdmin = a.B.C.IsAdmin;\n",
    "}"
   ]
  },
  {
   "cell_type": "code",
   "execution_count": 9,
   "metadata": {
    "dotnet_interactive": {
     "language": "csharp"
    },
    "polyglot_notebook": {
     "kernelName": "csharp"
    },
    "vscode": {
     "languageId": "polyglot-notebook"
    }
   },
   "outputs": [],
   "source": [
    "bool isAdmin = a?.B?.C?.IsAdmin;"
   ]
  },
  {
   "cell_type": "markdown",
   "metadata": {},
   "source": [
    "## ?[]"
   ]
  },
  {
   "cell_type": "code",
   "execution_count": 21,
   "metadata": {
    "dotnet_interactive": {
     "language": "csharp"
    },
    "polyglot_notebook": {
     "kernelName": "csharp"
    },
    "vscode": {
     "languageId": "polyglot-notebook"
    }
   },
   "outputs": [
    {
     "data": {
      "text/html": [
       "<div class=\"dni-plaintext\"><pre>0</pre></div><style>\r\n",
       ".dni-code-hint {\r\n",
       "    font-style: italic;\r\n",
       "    overflow: hidden;\r\n",
       "    white-space: nowrap;\r\n",
       "}\r\n",
       ".dni-treeview {\r\n",
       "    white-space: nowrap;\r\n",
       "}\r\n",
       ".dni-treeview td {\r\n",
       "    vertical-align: top;\r\n",
       "    text-align: start;\r\n",
       "}\r\n",
       "details.dni-treeview {\r\n",
       "    padding-left: 1em;\r\n",
       "}\r\n",
       "table td {\r\n",
       "    text-align: start;\r\n",
       "}\r\n",
       "table tr { \r\n",
       "    vertical-align: top; \r\n",
       "    margin: 0em 0px;\r\n",
       "}\r\n",
       "table tr td pre \r\n",
       "{ \r\n",
       "    vertical-align: top !important; \r\n",
       "    margin: 0em 0px !important;\r\n",
       "} \r\n",
       "table th {\r\n",
       "    text-align: start;\r\n",
       "}\r\n",
       "</style>"
      ]
     },
     "metadata": {},
     "output_type": "display_data"
    }
   ],
   "source": [
    "List<int> list = new List<int>() { 0, 1, 2, 3};\n",
    "int number = list[0];\n",
    "number"
   ]
  },
  {
   "cell_type": "code",
   "execution_count": 22,
   "metadata": {
    "dotnet_interactive": {
     "language": "csharp"
    },
    "polyglot_notebook": {
     "kernelName": "csharp"
    },
    "vscode": {
     "languageId": "polyglot-notebook"
    }
   },
   "outputs": [
    {
     "ename": "Error",
     "evalue": "(2,14): error CS0266: Cannot implicitly convert type 'int?' to 'int'. An explicit conversion exists (are you missing a cast?)",
     "output_type": "error",
     "traceback": [
      "(2,14): error CS0266: Cannot implicitly convert type 'int?' to 'int'. An explicit conversion exists (are you missing a cast?)"
     ]
    }
   ],
   "source": [
    "List<int> list;\n",
    "int number = list?[0];\n",
    "number"
   ]
  }
 ],
 "metadata": {
  "language_info": {
   "name": "python"
  },
  "orig_nbformat": 4
 },
 "nbformat": 4,
 "nbformat_minor": 2
}
