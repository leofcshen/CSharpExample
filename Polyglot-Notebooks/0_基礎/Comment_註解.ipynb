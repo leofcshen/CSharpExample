{
 "cells": [
  {
   "cell_type": "markdown",
   "metadata": {},
   "source": [
    "# Comment_註解"
   ]
  },
  {
   "cell_type": "markdown",
   "metadata": {},
   "source": [
    "$$Code\\;never\\;lies,\\;comments\\;sometimes\\;do.$$\n",
    "$$-Ron\\;Jeffries$$"
   ]
  },
  {
   "cell_type": "code",
   "execution_count": 16,
   "metadata": {
    "dotnet_interactive": {
     "language": "csharp"
    },
    "polyglot_notebook": {
     "kernelName": "csharp"
    },
    "vscode": {
     "languageId": "polyglot-notebook"
    }
   },
   "outputs": [
    {
     "name": "stdout",
     "output_type": "stream",
     "text": [
      "2\r\n"
     ]
    }
   ],
   "source": [
    "//宣告 a\n",
    "var a = 1;\n",
    "//宣告 b\n",
    "var b = 2;\n",
    "\n",
    "#region -- 計算 a、b 和的平方 --\n",
    "//計算 a、b 和\n",
    "var c = a * b;\n",
    "//計算平方\n",
    "var result = c * c;\n",
    "#endregion\n",
    "\n",
    "//印出結果\n",
    "Console.WriteLine(c);"
   ]
  },
  {
   "cell_type": "code",
   "execution_count": 14,
   "metadata": {
    "dotnet_interactive": {
     "language": "csharp"
    },
    "polyglot_notebook": {
     "kernelName": "csharp"
    },
    "vscode": {
     "languageId": "polyglot-notebook"
    }
   },
   "outputs": [
    {
     "name": "stdout",
     "output_type": "stream",
     "text": [
      "9\r\n"
     ]
    }
   ],
   "source": [
    "int 計算和的平方(int a, int b) => (a + b) * (a + b);\n",
    "\n",
    "var a = 1;\n",
    "var b = 2;\n",
    "\n",
    "var result = 計算和的平方(a, b);\n",
    "Console.WriteLine(result);"
   ]
  },
  {
   "cell_type": "markdown",
   "metadata": {},
   "source": [
    "ConsoleAppDemo 程式優化_1"
   ]
  }
 ],
 "metadata": {
  "language_info": {
   "name": "python"
  },
  "orig_nbformat": 4
 },
 "nbformat": 4,
 "nbformat_minor": 2
}
