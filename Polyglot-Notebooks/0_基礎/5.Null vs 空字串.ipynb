{
 "cells": [
  {
   "cell_type": "code",
   "execution_count": null,
   "metadata": {
    "dotnet_interactive": {
     "language": "csharp"
    },
    "polyglot_notebook": {
     "kernelName": "csharp"
    },
    "vscode": {
     "languageId": "polyglot-notebook"
    }
   },
   "outputs": [],
   "source": [
    "//引用 Library\n",
    "#r \"../Library/Library.dll\"\n",
    "using Library.Extensions;"
   ]
  },
  {
   "cell_type": "markdown",
   "metadata": {},
   "source": [
    "# Null vs 空字串"
   ]
  },
  {
   "cell_type": "markdown",
   "metadata": {},
   "source": [
    "空字串 \"\" 有沒有值?"
   ]
  },
  {
   "cell_type": "markdown",
   "metadata": {},
   "source": [
    "不同環境 Null 跟空字串可以有不同意義的解譯。"
   ]
  },
  {
   "cell_type": "code",
   "execution_count": null,
   "metadata": {
    "dotnet_interactive": {
     "language": "csharp"
    },
    "polyglot_notebook": {
     "kernelName": "csharp"
    },
    "vscode": {
     "languageId": "polyglot-notebook"
    }
   },
   "outputs": [],
   "source": [
    "public class People {\n",
    "\tpublic People(string pName) {\n",
    "\t\tName = pName;\n",
    "\t}\n",
    "\n",
    "\tpublic string Name { get; set; }\t\n",
    "\tpublic bool? 有汽車 {\n",
    "\t\tget { return _有汽車; }\n",
    "\t\tset {\n",
    "\t\t\t_有汽車 = value;\n",
    "\t\t\t// _有汽車被設定成 true 時，汽車車牌設成 \"\"\n",
    "\t\t\tif (value == true) {\n",
    "\t\t\t\t汽車車牌 = \"\";\n",
    "\t\t\t}\n",
    "\t\t}\n",
    "\t}\n",
    "\t\n",
    "\tpublic string 汽車車牌 { get; set; }\n",
    "\n",
    "\tprivate bool? _有汽車;\n",
    "}"
   ]
  },
  {
   "cell_type": "code",
   "execution_count": null,
   "metadata": {
    "dotnet_interactive": {
     "language": "csharp"
    },
    "polyglot_notebook": {
     "kernelName": "csharp"
    },
    "vscode": {
     "languageId": "polyglot-notebook"
    }
   },
   "outputs": [],
   "source": [
    "var tom = new People(\"Tom\");\n",
    "tom.有汽車 = true;\n",
    "tom.汽車車牌 = \"123-ABC\";\n",
    "tom.Dump();"
   ]
  },
  {
   "cell_type": "code",
   "execution_count": null,
   "metadata": {
    "dotnet_interactive": {
     "language": "csharp"
    },
    "polyglot_notebook": {
     "kernelName": "csharp"
    },
    "vscode": {
     "languageId": "polyglot-notebook"
    }
   },
   "outputs": [],
   "source": [
    "var tom = new People(\"Tom\");\n",
    "tom.有汽車 = false;\n",
    "tom.Dump();"
   ]
  },
  {
   "cell_type": "markdown",
   "metadata": {},
   "source": [
    "沒有汽車，自然連車牌都沒有。"
   ]
  },
  {
   "cell_type": "code",
   "execution_count": null,
   "metadata": {
    "dotnet_interactive": {
     "language": "csharp"
    },
    "polyglot_notebook": {
     "kernelName": "csharp"
    },
    "vscode": {
     "languageId": "polyglot-notebook"
    }
   },
   "outputs": [],
   "source": [
    "\n",
    "var tom = new People(\"Tom\");\n",
    "tom.有汽車 = true;\n",
    "tom.Dump();"
   ]
  },
  {
   "cell_type": "markdown",
   "metadata": {},
   "source": [
    "有汽車，但 Tom 可能不想提供車牌資料"
   ]
  },
  {
   "cell_type": "code",
   "execution_count": null,
   "metadata": {
    "dotnet_interactive": {
     "language": "csharp"
    },
    "polyglot_notebook": {
     "kernelName": "csharp"
    },
    "vscode": {
     "languageId": "polyglot-notebook"
    }
   },
   "outputs": [],
   "source": [
    "var tom = new People(\"Tom\");\n",
    "tom.Dump();"
   ]
  },
  {
   "cell_type": "markdown",
   "metadata": {},
   "source": [
    "Tom 沒說他有沒有車，所以我也不知道有沒有車牌。"
   ]
  }
 ],
 "metadata": {
  "language_info": {
   "name": "python"
  },
  "orig_nbformat": 4
 },
 "nbformat": 4,
 "nbformat_minor": 2
}
