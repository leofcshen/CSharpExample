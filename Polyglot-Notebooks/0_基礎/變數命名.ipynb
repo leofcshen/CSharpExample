{
 "cells": [
  {
   "cell_type": "markdown",
   "metadata": {},
   "source": [
    "# 變數命名\n",
    "實際作業依各組或各專案習慣，遵循一樣的規則即可"
   ]
  },
  {
   "cell_type": "markdown",
   "metadata": {},
   "source": [
    "## 參考資料\n",
    "* 黑暗執行緒：[縮略字大小寫之惑：LINQHelper還是LinqHelper？](https://blog.darkthread.net/blog/acronym-capital-convention/ \"縮略字大小寫之惑：LINQHelper還是LinqHelper？\")\n",
    "* 保哥 Youtube：[為什麼不能用簡單的英文加上母語來寫 Code](https://www.youtube.com/watch?v=mOLmlr0eusg \"為什麼不能用簡單的英文加上母語來寫 Code\")\n"
   ]
  },
  {
   "cell_type": "markdown",
   "metadata": {},
   "source": [
    "# 駝峰式命名法 (Camel Case)"
   ]
  },
  {
   "cell_type": "markdown",
   "metadata": {},
   "source": [
    "第一個字母SA及所有單字的第一個字母都用大寫  \n",
    "變數通常使用 Camel Case"
   ]
  },
  {
   "cell_type": "code",
   "execution_count": 1,
   "metadata": {
    "dotnet_interactive": {
     "language": "csharp"
    },
    "polyglot_notebook": {
     "kernelName": "csharp"
    },
    "vscode": {
     "languageId": "polyglot-notebook"
    }
   },
   "outputs": [],
   "source": [
    "int myNumberTest = 0;"
   ]
  },
  {
   "cell_type": "markdown",
   "metadata": {},
   "source": [
    "# Pascal 命名法 (Pascal Case)"
   ]
  },
  {
   "cell_type": "markdown",
   "metadata": {},
   "source": [
    "第一個字母及所有單字的第一個字母都用大寫    \n",
    "除了變數機乎都用 Pascal Case，例如方法、類別、屬性...  \n",
    "欄位常見會以 Camel Case、底線 Camel Case、底線 Pascal Case 表示"
   ]
  },
  {
   "cell_type": "code",
   "execution_count": 2,
   "metadata": {
    "dotnet_interactive": {
     "language": "csharp"
    },
    "polyglot_notebook": {
     "kernelName": "csharp"
    },
    "vscode": {
     "languageId": "polyglot-notebook"
    }
   },
   "outputs": [],
   "source": [
    "int GetMyNumber(int pNumber) => 0;\n",
    "MyClass myClass = new MyClass() { MyName = \"\" };\n",
    "\n",
    "internal class MyClass {\n",
    "\t//Property 屬性\n",
    "\tpublic string MyName {\n",
    "\t\tget { return _MyName; }\n",
    "\t\tset { _MyName = value; }\n",
    "\t}\n",
    "\n",
    "\tpublic int MyAge {\n",
    "\t\tget { return myAge; }\n",
    "\t\tset { myAge = value; }\n",
    "\t}\n",
    "\n",
    "\tpublic DateTime MyBirthday {\n",
    "\t\tget { return _myBirthday; }\n",
    "\t\tset { _myBirthday = value; }\n",
    "\t}\n",
    "\n",
    "\t//Field 欄位，通常是 private\n",
    "\tprivate string _MyName = \"\";\n",
    "\tprivate int myAge = 0;\n",
    "\tprivate DateTime _myBirthday = new DateTime();\n",
    "}"
   ]
  },
  {
   "cell_type": "markdown",
   "metadata": {},
   "source": [
    "# 縮略字(Acronym)"
   ]
  },
  {
   "cell_type": "markdown",
   "metadata": {},
   "source": [
    "SSO = Single Sign-On、JSON = JavaScript Object Notation  \n",
    "只有眾所周知且通用的縮略字，才適合直接用在識別名稱上，例如：HTML、XML。不過「眾所周知且通用」是相對性的  \n",
    "以組件的使用者為範圍，系統代號、自訂的協定名稱，只要你有自信使用組件的相關人員一定懂，就大方用下去吧！"
   ]
  },
  {
   "cell_type": "markdown",
   "metadata": {},
   "source": [
    "兩個字母的縮略字原則都寫大寫，但用於字首又遇上 Camel，則都改用小寫"
   ]
  },
  {
   "cell_type": "code",
   "execution_count": 3,
   "metadata": {
    "dotnet_interactive": {
     "language": "csharp"
    },
    "polyglot_notebook": {
     "kernelName": "csharp"
    },
    "vscode": {
     "languageId": "polyglot-notebook"
    }
   },
   "outputs": [],
   "source": [
    "using System.IO;\n",
    "\n",
    "int myIO = 0;\n",
    "int IOSpeed() => 0;\n",
    "void MyFunction(IOException ioException) { }"
   ]
  },
  {
   "cell_type": "markdown",
   "metadata": {},
   "source": [
    "超過兩個字母的縮略字遵循 Camel 或 Pascal"
   ]
  },
  {
   "cell_type": "code",
   "execution_count": 4,
   "metadata": {
    "dotnet_interactive": {
     "language": "csharp"
    },
    "polyglot_notebook": {
     "kernelName": "csharp"
    },
    "vscode": {
     "languageId": "polyglot-notebook"
    }
   },
   "outputs": [],
   "source": [
    "int jsonData = 0;\n",
    "int JsonData() => 0;"
   ]
  },
  {
   "cell_type": "markdown",
   "metadata": {},
   "source": [
    "這就是為什麼會有下列引用命名空間的大小寫差異"
   ]
  },
  {
   "cell_type": "code",
   "execution_count": 5,
   "metadata": {
    "dotnet_interactive": {
     "language": "csharp"
    },
    "polyglot_notebook": {
     "kernelName": "csharp"
    },
    "vscode": {
     "languageId": "polyglot-notebook"
    }
   },
   "outputs": [],
   "source": [
    "using System.Xml;\n",
    "using System.IO;"
   ]
  },
  {
   "cell_type": "markdown",
   "metadata": {},
   "source": [
    "## 部份派系作法"
   ]
  },
  {
   "cell_type": "markdown",
   "metadata": {},
   "source": [
    "縮略字全大寫"
   ]
  },
  {
   "cell_type": "code",
   "execution_count": 6,
   "metadata": {
    "dotnet_interactive": {
     "language": "csharp"
    },
    "polyglot_notebook": {
     "kernelName": "csharp"
    },
    "vscode": {
     "languageId": "polyglot-notebook"
    }
   },
   "outputs": [],
   "source": [
    "var myJSONData = 0;\n",
    "int GetJSONData() => 0;"
   ]
  },
  {
   "cell_type": "markdown",
   "metadata": {},
   "source": [
    "全大寫再接一個詞時因首字母大寫造成不好辨視，有的人會改以底線串接"
   ]
  },
  {
   "cell_type": "code",
   "execution_count": 7,
   "metadata": {
    "dotnet_interactive": {
     "language": "csharp"
    },
    "polyglot_notebook": {
     "kernelName": "csharp"
    },
    "vscode": {
     "languageId": "polyglot-notebook"
    }
   },
   "outputs": [],
   "source": [
    "var myJSON_Data = 0;\n",
    "int GetJSON_Data() => 0; "
   ]
  },
  {
   "cell_type": "markdown",
   "metadata": {},
   "source": [
    "# 縮寫字(Abbreviation)"
   ]
  },
  {
   "cell_type": "markdown",
   "metadata": {},
   "source": [
    "ID = Identiication，OK = Okay  \n",
    "兩個字母的「縮寫」不套用全部大寫規則，如：ID、OK，Pascal時寫Id、Ok，Camel時則為id、ok。"
   ]
  },
  {
   "cell_type": "code",
   "execution_count": 8,
   "metadata": {
    "dotnet_interactive": {
     "language": "csharp"
    },
    "polyglot_notebook": {
     "kernelName": "csharp"
    },
    "vscode": {
     "languageId": "polyglot-notebook"
    }
   },
   "outputs": [],
   "source": [
    "bool isOk = false;\n",
    "bool isIdCorrect = true;\n",
    "bool idCorrect = false;"
   ]
  },
  {
   "cell_type": "markdown",
   "metadata": {},
   "source": [
    "# 其他注意事項"
   ]
  },
  {
   "cell_type": "markdown",
   "metadata": {},
   "source": [
    "## 避免濫用縮寫"
   ]
  },
  {
   "cell_type": "markdown",
   "metadata": {},
   "source": [
    "有一派是完全不使用縮寫，見仁見智，自行找個平衡點"
   ]
  },
  {
   "cell_type": "code",
   "execution_count": 9,
   "metadata": {
    "dotnet_interactive": {
     "language": "csharp"
    },
    "polyglot_notebook": {
     "kernelName": "csharp"
    },
    "vscode": {
     "languageId": "polyglot-notebook"
    }
   },
   "outputs": [],
   "source": [
    "bool CheckAcctValid() => true;\n",
    "bool CheckAccountValid() => true;"
   ]
  },
  {
   "cell_type": "markdown",
   "metadata": {},
   "source": [
    "寫一個方法：取得權限是管理員的帳號清單"
   ]
  },
  {
   "cell_type": "code",
   "execution_count": 10,
   "metadata": {
    "dotnet_interactive": {
     "language": "csharp"
    },
    "polyglot_notebook": {
     "kernelName": "csharp"
    },
    "vscode": {
     "languageId": "polyglot-notebook"
    }
   },
   "outputs": [],
   "source": [
    "List<string> GetPermissionIsAdministratorAccountList() => new List<string>() {};\n",
    "\n",
    "//使用\n",
    "var listA = GetPermissionIsAdministratorAccountList().Concat(GetPermissionIsAdministratorAccountList()).Concat(GetPermissionIsAdministratorAccountList());\n",
    "\n",
    "List<string> GetAdminList() => new List<string>() { };\n",
    "var listB = GetAdminList().Concat(GetAdminList()).Concat(GetAdminList());"
   ]
  },
  {
   "cell_type": "markdown",
   "metadata": {},
   "source": [
    "## 命名該不該有中文? 見仁見智"
   ]
  },
  {
   "cell_type": "markdown",
   "metadata": {},
   "source": [
    "正方主張：使用中文比較好準確描述變數或方法的用途，命名也會縮短。  \n",
    "反方主張：如果未來專案擴大，維護的人員可能有多國的人員時，會造成協作困難，英文才是共通語言，但通常要公司規模大到要上市上櫃才有可能發生。"
   ]
  },
  {
   "cell_type": "code",
   "execution_count": 11,
   "metadata": {
    "dotnet_interactive": {
     "language": "csharp"
    },
    "polyglot_notebook": {
     "kernelName": "csharp"
    },
    "vscode": {
     "languageId": "polyglot-notebook"
    }
   },
   "outputs": [],
   "source": [
    "List<string> adminidtratorList = new List<string> { };\n",
    "List<string> 管理員清單 = new List<string> { };\n",
    "int GetMaximumSpeedLimit() => 100;\n",
    "int 取得最高速度限制() => 100;"
   ]
  },
  {
   "cell_type": "markdown",
   "metadata": {},
   "source": [
    "使用中文建議，有條件的使用，以英文動詞開頭，方便 IDE 輸入開頭即自動顯示可用方法，也避免調用時需要頻繁切換輸入法"
   ]
  },
  {
   "cell_type": "code",
   "execution_count": 12,
   "metadata": {
    "dotnet_interactive": {
     "language": "csharp"
    },
    "polyglot_notebook": {
     "kernelName": "csharp"
    },
    "vscode": {
     "languageId": "polyglot-notebook"
    }
   },
   "outputs": [],
   "source": [
    "int Get最高速度限制() => 100;"
   ]
  }
 ],
 "metadata": {
  "language_info": {
   "name": "python"
  },
  "orig_nbformat": 4
 },
 "nbformat": 4,
 "nbformat_minor": 2
}
