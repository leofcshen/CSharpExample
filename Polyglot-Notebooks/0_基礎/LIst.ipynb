{
 "cells": [
  {
   "cell_type": "markdown",
   "metadata": {},
   "source": [
    "# List"
   ]
  },
  {
   "cell_type": "code",
   "execution_count": null,
   "metadata": {
    "dotnet_interactive": {
     "language": "csharp"
    },
    "polyglot_notebook": {
     "kernelName": "csharp"
    },
    "vscode": {
     "languageId": "polyglot-notebook"
    }
   },
   "outputs": [],
   "source": [
    "List<string> lisNames = new List<string>();\n",
    "lisNames.Add(\"Brian\");\n",
    "lisNames.Add(\"Chris\");\n",
    "lisNames.Add(\"Joe\");\n",
    "lisNames.Add(\"Mary\");\n",
    "lisNames.Display();"
   ]
  },
  {
   "cell_type": "code",
   "execution_count": null,
   "metadata": {
    "dotnet_interactive": {
     "language": "csharp"
    },
    "polyglot_notebook": {
     "kernelName": "csharp"
    },
    "vscode": {
     "languageId": "polyglot-notebook"
    }
   },
   "outputs": [],
   "source": [
    "List<string> lisNames = new List<string>() { \"Brian\", \"Chris\", \"Joe\", \"Mary\" };\n",
    "lisNames.Display();"
   ]
  },
  {
   "cell_type": "markdown",
   "metadata": {},
   "source": [
    "List\\<string\\> 轉成 string"
   ]
  },
  {
   "cell_type": "code",
   "execution_count": null,
   "metadata": {
    "dotnet_interactive": {
     "language": "csharp"
    },
    "polyglot_notebook": {
     "kernelName": "csharp"
    },
    "vscode": {
     "languageId": "polyglot-notebook"
    }
   },
   "outputs": [],
   "source": [
    "// 方法一\n",
    "List<string> lisNames = new List<string>() { \"Brian\", \"Chris\", \"Joe\", \"Mary\" };\n",
    "string names = string.Join(\",\", lisNames);\n",
    "names.Display();"
   ]
  },
  {
   "cell_type": "code",
   "execution_count": null,
   "metadata": {
    "dotnet_interactive": {
     "language": "csharp"
    },
    "polyglot_notebook": {
     "kernelName": "csharp"
    },
    "vscode": {
     "languageId": "polyglot-notebook"
    }
   },
   "outputs": [],
   "source": [
    "// 方法二\n",
    "List<string> lisNames = new List<string>() { \"Brian\", \"Chris\", \"Joe\", \"Mary\" };\n",
    "string names = lisNames.Aggregate((a, b) => a + \",\" + b);\n",
    "names.Display();"
   ]
  },
  {
   "cell_type": "code",
   "execution_count": null,
   "metadata": {
    "dotnet_interactive": {
     "language": "csharp"
    },
    "polyglot_notebook": {
     "kernelName": "csharp"
    },
    "vscode": {
     "languageId": "polyglot-notebook"
    }
   },
   "outputs": [],
   "source": [
    "//方法三\n",
    "List<string> lisNames = new List<string>() { \"Brian\", \"Chris\", \"Joe\", \"Mary\" };\n",
    "string names = \"'\";\n",
    "Parallel.ForEach(lisNames, item => {\n",
    "\tnames += item;\n",
    "\tnames += \"','\";\n",
    "});\n",
    "names.Display();"
   ]
  },
  {
   "cell_type": "markdown",
   "metadata": {},
   "source": [
    "## 去除重覆"
   ]
  },
  {
   "cell_type": "code",
   "execution_count": null,
   "metadata": {
    "dotnet_interactive": {
     "language": "csharp"
    },
    "polyglot_notebook": {
     "kernelName": "csharp"
    },
    "vscode": {
     "languageId": "polyglot-notebook"
    }
   },
   "outputs": [],
   "source": [
    "List<string> lisNames = new List<string>() { \"Brian\", \"Chris\", \"Joe\", \"Chris\" };\n",
    "lisNames.Display();\n",
    "List<string> lisNamesDistinct = lisNames.GroupBy(x => x).Select(g => g.First()).ToList();\n",
    "lisNamesDistinct.Display();"
   ]
  },
  {
   "cell_type": "markdown",
   "metadata": {},
   "source": [
    "# ReadOnly 唯讀"
   ]
  },
  {
   "cell_type": "code",
   "execution_count": null,
   "metadata": {
    "dotnet_interactive": {
     "language": "csharp"
    },
    "polyglot_notebook": {
     "kernelName": "csharp"
    },
    "vscode": {
     "languageId": "polyglot-notebook"
    }
   },
   "outputs": [],
   "source": [
    "using System.Collections.ObjectModel;\n",
    "\n",
    "List<string> lisNames = new List<string>() { \"Brian\", \"Chris\", \"Joe\", \"Chris\" };\n",
    "\n",
    "//方法一\n",
    "ReadOnlyCollection<string> rocList1 = lisNames.AsReadOnly();\n",
    "//方法二\n",
    "ReadOnlyCollection<string> rocList2 = new ReadOnlyCollection<string>(lisNames);\n",
    "//方法三\n",
    "ReadOnlyCollection<string> rocList3 =\n",
    "new ReadOnlyCollection<string>(new string[] { \"Brian\", \"Chris\", \"Joe\", \"Chris\" });"
   ]
  }
 ],
 "metadata": {
  "language_info": {
   "name": "python"
  }
 },
 "nbformat": 4,
 "nbformat_minor": 2
}
