{
 "cells": [
  {
   "cell_type": "markdown",
   "metadata": {},
   "source": [
    "# OOP_物件導向"
   ]
  },
  {
   "cell_type": "markdown",
   "metadata": {},
   "source": [
    "有下列三個特性\n",
    "* 封裝 (Encapsulation)\n",
    "* 繼承 (Inheritance)\n",
    "* 多型 (Polymorphism)"
   ]
  },
  {
   "cell_type": "markdown",
   "metadata": {},
   "source": [
    "# 封裝 (Encapsulation)"
   ]
  },
  {
   "cell_type": "markdown",
   "metadata": {},
   "source": [
    "物件都會擁有物件內部的私有部分(屬性、方法...)而這些部分必須是外界無法直接存取，這樣才能保有物件的完整性。  \n",
    "如果\"破壞封裝\"的話，會有可能無法恢復原來的功能，因此物件必須將私有的部分封裝在物件的內部  \n",
    "而使用者只能藉由物件所提供的方法、屬性來操控物件，以保持物件的完整性，這就是封裝的特性。"
   ]
  },
  {
   "cell_type": "markdown",
   "metadata": {},
   "source": [
    "\n",
    "封裝當中也有另一個概念就是所謂的`抽象化`，也就是對於一個事物來說，我們只需要知道他怎麼操作就好，但是它的內部構造或實作方法是怎麼樣的我們不需要去理解，所以我們在實施封裝的特性時，就要讓別人不知道類別的內部成員是如何實作，只能透過該物件提供的公開類別成員來進行操作。"
   ]
  },
  {
   "cell_type": "markdown",
   "metadata": {},
   "source": [
    "一台車子，使用者只要知道`怎麼開`就好，不需要知道`背後原理`或`詳細做了什麼事`"
   ]
  },
  {
   "cell_type": "code",
   "execution_count": null,
   "metadata": {
    "dotnet_interactive": {
     "language": "csharp"
    },
    "polyglot_notebook": {
     "kernelName": "csharp"
    },
    "vscode": {
     "languageId": "polyglot-notebook"
    }
   },
   "outputs": [],
   "source": [
    "public class Car {\n",
    "\tpublic void 踩油門() {\t\t\n",
    "\t\tSend_踩油門訊息到電子控制單元();\n",
    "\t\tRaise_油氣混和比();\n",
    "\t\tSend_油氣混和物到燃燒室();\n",
    "\t\tFire_點火產生氣體推動活塞();\n",
    "\t\tRaise_引擎轉速();\n",
    "\t\tSend_動力到輪胎();\n",
    "\t\tRaise_輪胎轉速();\n",
    "\t\tConsole.WriteLine(\"車子開始加速\");\n",
    "\t}\n",
    "\n",
    "\tpublic void Send_踩油門訊息到電子控制單元() { }\n",
    "\tpublic void Raise_油氣混和比() { }\n",
    "\tpublic void Send_油氣混和物到燃燒室() { }\n",
    "\tpublic void Fire_點火產生氣體推動活塞() { }\n",
    "\tpublic void Raise_引擎轉速() { }\n",
    "\tpublic void Send_動力到輪胎() { }\n",
    "\tpublic void Raise_輪胎轉速() { }\n",
    "}\n",
    "\n",
    "var car = new Car();\n",
    "car.踩油門();"
   ]
  },
  {
   "cell_type": "markdown",
   "metadata": {},
   "source": [
    "## 不封裝或封裝不完全會怎麼樣?"
   ]
  },
  {
   "cell_type": "markdown",
   "metadata": {},
   "source": [
    "![核彈發射器.jpg](../Content/核彈發射器.jpg)"
   ]
  },
  {
   "cell_type": "code",
   "execution_count": null,
   "metadata": {
    "dotnet_interactive": {
     "language": "csharp"
    },
    "polyglot_notebook": {
     "kernelName": "csharp"
    },
    "vscode": {
     "languageId": "polyglot-notebook"
    }
   },
   "outputs": [],
   "source": [
    "public class 核彈管理員 {\n",
    "\tpublic 核彈管理員(string key) { Key = key; }\n",
    "\tpublic string Key { get; set; }\n",
    "}\n",
    "\n",
    "public class 總統 : 核彈管理員 {\n",
    "\tpublic 總統(string key) : base(key) {}\n",
    "}\n",
    "public class 國防部長 : 核彈管理員 {\n",
    "\tpublic 國防部長(string key) : base(key) { }\n",
    "}\n",
    "\n",
    "class 核彈發射器 {\n",
    "\tpublic bool IsIDPass總統 { get; set; }\n",
    "\tpublic bool IsIDPass國防部長 { get; set; }\n",
    "\tpublic DateTime? KeyTime總統 { get; set; }\n",
    "\tpublic DateTime? KeyTime國防部長 { get; set; }\n",
    "\t\n",
    "\tpublic bool Is發射器就緒 { get; set; }\n",
    "\t//public bool Is發射器就緒 { get; private set; }\n",
    "\t//private bool Is發射器就緒 { get; set; }\n",
    "\n",
    "\tpublic 核彈發射器() => Console.WriteLine(\"核彈發射井已建置成功，等待插入管理員鑰匙。\");\n",
    "\n",
    "\tpublic void Insert_鑰匙(核彈管理員 manager) {\n",
    "\t\tbool IsKeyPass = Check_鑰匙檢查通過(manager);\n",
    "\n",
    "\t\tif (IsKeyPass) {\n",
    "\t\t\tSet_鑰匙插入時間(manager);\n",
    "\t\t} else {\n",
    "\t\t\tConsole.WriteLine(\"身份認證失敗\");\n",
    "\t\t\tReset_發射器();\n",
    "\t\t}\n",
    "\t\t\n",
    "\t\tvar 總驗證結果 = Get_總驗證結果();\n",
    "\t\tConsole.WriteLine(總驗證結果);\n",
    "\t}\n",
    "\n",
    "\tpublic void Push_發射鈕() => Console.WriteLine(Is發射器就緒 ? \"發射核彈，Goobye World!\" : \"發射器尚未就緒\");\n",
    "\n",
    "\tpublic bool Check_鑰匙檢查通過(核彈管理員 manager) => manager.Key switch {\n",
    "\t\t\"總統Key\" => IsIDPass總統 = true,\n",
    "\t\t\"國防部長Key\" => IsIDPass國防部長 = true,\n",
    "\t\t_ => false\n",
    "\t};\n",
    "\n",
    "\tpublic bool Is所有管理員已插入鑰匙() => IsIDPass總統 && IsIDPass國防部長;\n",
    "\n",
    "\tpublic string Get_總驗證結果() {\n",
    "\t\tif (Is所有管理員已插入鑰匙()) {\n",
    "\t\t\tif (Check_鑰匙插入時間()) {\n",
    "\t\t\t\tSet_發射器就緒();\n",
    "\t\t\t\treturn \"管理員身份確認完成，發射器已就緒\";\n",
    "\t\t\t} else {\n",
    "\t\t\t\tReset_發射器();\n",
    "\t\t\t\treturn \"身份驗證時間差超過 500ms\";\t\t\t\t\n",
    "\t\t\t}\n",
    "\t\t}\n",
    "\n",
    "\t\treturn \"管理員鑰匙未全部插入\";\n",
    "\t}\n",
    "\n",
    "\tpublic void Set_鑰匙插入時間(核彈管理員 manager) {\n",
    "\t\tConsole.WriteLine($\"{manager.Key} => 身份已認證\");\n",
    "\t\tDateTime now = DateTime.Now;\n",
    "\t\tif (manager.Key == \"總統Key\")\n",
    "\t\t\tKeyTime總統 = now;\n",
    "\t\tif (manager.Key == \"國防部長Key\")\n",
    "\t\t\tKeyTime國防部長 = now;\n",
    "\t}\n",
    "\n",
    "\tpublic bool Check_鑰匙插入時間() => Math.Abs(((DateTime)KeyTime總統 - (DateTime)KeyTime國防部長).TotalMilliseconds) < 500;\n",
    "\n",
    "\tpublic void Set_發射器就緒() => Is發射器就緒 = true;\n",
    "\n",
    "\tpublic void Reset_發射器() {\n",
    "\t\tIsIDPass總統 = false;\n",
    "\t\tIsIDPass國防部長 = false;\n",
    "\t\tKeyTime總統 = null;\n",
    "\t\tKeyTime國防部長 = null;\n",
    "\t\tIs發射器就緒 = false;\n",
    "\n",
    "\t\tConsole.WriteLine(\"發射器設定已重置，請重新執行發射流程。\");\n",
    "\t}\n",
    "}"
   ]
  },
  {
   "cell_type": "code",
   "execution_count": null,
   "metadata": {
    "dotnet_interactive": {
     "language": "csharp"
    },
    "polyglot_notebook": {
     "kernelName": "csharp"
    },
    "vscode": {
     "languageId": "polyglot-notebook"
    }
   },
   "outputs": [],
   "source": [
    "var my總統 = new 總統(\"總統Key\");\n",
    "var my國防部長 = new 國防部長(\"國防部長Key\");\n",
    "var my核彈發射器 = new 核彈發射器();"
   ]
  },
  {
   "cell_type": "code",
   "execution_count": null,
   "metadata": {
    "dotnet_interactive": {
     "language": "csharp"
    },
    "polyglot_notebook": {
     "kernelName": "csharp"
    },
    "vscode": {
     "languageId": "polyglot-notebook"
    }
   },
   "outputs": [],
   "source": [
    "my核彈發射器.Insert_鑰匙(my總統);"
   ]
  },
  {
   "cell_type": "code",
   "execution_count": null,
   "metadata": {
    "dotnet_interactive": {
     "language": "csharp"
    },
    "polyglot_notebook": {
     "kernelName": "csharp"
    },
    "vscode": {
     "languageId": "polyglot-notebook"
    }
   },
   "outputs": [],
   "source": [
    "my核彈發射器.Insert_鑰匙(my國防部長);"
   ]
  },
  {
   "cell_type": "code",
   "execution_count": null,
   "metadata": {
    "dotnet_interactive": {
     "language": "csharp"
    },
    "polyglot_notebook": {
     "kernelName": "csharp"
    },
    "vscode": {
     "languageId": "polyglot-notebook"
    }
   },
   "outputs": [],
   "source": [
    "my核彈發射器.Insert_鑰匙(my總統);\n",
    "my核彈發射器.Insert_鑰匙(my國防部長);"
   ]
  },
  {
   "cell_type": "code",
   "execution_count": null,
   "metadata": {
    "dotnet_interactive": {
     "language": "csharp"
    },
    "polyglot_notebook": {
     "kernelName": "csharp"
    },
    "vscode": {
     "languageId": "polyglot-notebook"
    }
   },
   "outputs": [],
   "source": [
    "my核彈發射器.Push_發射鈕();"
   ]
  },
  {
   "cell_type": "code",
   "execution_count": null,
   "metadata": {
    "dotnet_interactive": {
     "language": "csharp"
    },
    "polyglot_notebook": {
     "kernelName": "csharp"
    },
    "vscode": {
     "languageId": "polyglot-notebook"
    }
   },
   "outputs": [],
   "source": [
    "var my總統 = new 總統(\"總統Key\");\n",
    "var my國防部長 = new 國防部長(\"國防部長Key\");\n",
    "var my核彈發射器 = new 核彈發射器();\n",
    "my核彈發射器.Set_發射器就緒();\n",
    "my核彈發射器.Is發射器就緒 = true;\n",
    "my核彈發射器.Push_發射鈕();"
   ]
  },
  {
   "cell_type": "markdown",
   "metadata": {},
   "source": [
    "# 繼承\n",
    "就是繼承"
   ]
  },
  {
   "cell_type": "markdown",
   "metadata": {},
   "source": [
    "# 多型 Polymorphism"
   ]
  },
  {
   "cell_type": "markdown",
   "metadata": {},
   "source": [
    "> Polymorphism means that the sender of a stimulus does not need to know the receiving instance’s class. The receiving instance can belong to an arbitrary class.\n",
    ">\n",
    "> If an instance sends a stimulus to another instance, but does not have to be aware of which class the receiving instance belongs to, we say that we have polymorphism.\n",
    ">\n",
    ">                          --節錄自 Object-Oriented Software Engineering: A  Use Case Driven Approach 一書"
   ]
  },
  {
   "cell_type": "markdown",
   "metadata": {},
   "source": [
    "翻成中文就是一個訊息(or event or stimulus) 的意義是由接收者(接收到的物件)來解釋，而不是由發訊者(sender)來解譯。只要接收者換成不同的物件或是 instance，系統的行為就會改變，具有這樣的特性就稱之為 polymorphism。"
   ]
  },
  {
   "cell_type": "markdown",
   "metadata": {},
   "source": [
    "## 生活範例"
   ]
  },
  {
   "cell_type": "markdown",
   "metadata": {},
   "source": [
    "`金城武`跟`路人`(準備接收訊息的兩個物件)在早餐店買早餐，  \n",
    "`金城武`的早餐做好了，`早餐店阿姨(sender)`於是喊了一聲 “帥哥~你的好了哦。”  \n",
    "理論上，`阿姨(sender)`期待只有`金城武`會上前取餐(接收者的行為)，沒想到另一個`路人`也上前了。  \n",
    "所以說，一個訊息的解釋是由接收者來決定而不是送出者。"
   ]
  },
  {
   "cell_type": "markdown",
   "metadata": {},
   "source": [
    "## 實作範例"
   ]
  },
  {
   "cell_type": "markdown",
   "metadata": {},
   "source": [
    "當`子類別`的物件宣告或轉型成`父類別`或`祖先類別`的型別時，還可以正確執行該子類別的行為。"
   ]
  },
  {
   "cell_type": "code",
   "execution_count": null,
   "metadata": {
    "dotnet_interactive": {
     "language": "csharp"
    },
    "polyglot_notebook": {
     "kernelName": "csharp"
    },
    "vscode": {
     "languageId": "polyglot-notebook"
    }
   },
   "outputs": [],
   "source": [
    "public class Parent {\n",
    "\tpublic Parent(string name ) {\tName = name; }\n",
    "\tpublic string Name { get; set; }\n",
    "\tpublic void Print() => Console.WriteLine(\"Parent Name: \" + this.Name );     \n",
    "}\n",
    "\n",
    "public class Child : Parent {\n",
    "\tpublic Child(string name ) : base(name) {\t}\n",
    "\tnew public void Print() => Console.WriteLine(\"Child Name: \" + this.Name );     \n",
    "}"
   ]
  },
  {
   "cell_type": "code",
   "execution_count": null,
   "metadata": {
    "dotnet_interactive": {
     "language": "csharp"
    },
    "polyglot_notebook": {
     "kernelName": "csharp"
    },
    "vscode": {
     "languageId": "polyglot-notebook"
    }
   },
   "outputs": [],
   "source": [
    "Parent p = new Parent(\"Tom\");\n",
    "p.Print();\n",
    "Child c = new Child(\"John\");\n",
    "c.Print();"
   ]
  },
  {
   "cell_type": "code",
   "execution_count": null,
   "metadata": {
    "dotnet_interactive": {
     "language": "csharp"
    },
    "polyglot_notebook": {
     "kernelName": "csharp"
    },
    "vscode": {
     "languageId": "polyglot-notebook"
    }
   },
   "outputs": [],
   "source": [
    "Parent p = new Child(\"Mary\");\n",
    "p.Print();"
   ]
  }
 ],
 "metadata": {
  "language_info": {
   "name": "python"
  },
  "orig_nbformat": 4
 },
 "nbformat": 4,
 "nbformat_minor": 2
}
