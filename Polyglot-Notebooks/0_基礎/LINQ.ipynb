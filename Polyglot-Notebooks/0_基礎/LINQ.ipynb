{
 "cells": [
  {
   "cell_type": "markdown",
   "metadata": {},
   "source": [
    "# LINQ"
   ]
  },
  {
   "cell_type": "markdown",
   "metadata": {},
   "source": [
    "## 條件式過濾"
   ]
  },
  {
   "cell_type": "code",
   "execution_count": null,
   "metadata": {
    "dotnet_interactive": {
     "language": "csharp"
    },
    "polyglot_notebook": {
     "kernelName": "csharp"
    },
    "vscode": {
     "languageId": "polyglot-notebook"
    }
   },
   "outputs": [],
   "source": [
    "List<string> listSource =new(){\"aaa\",\"bbb\",\"cc\"};\n",
    "List<string> listFilter =new() {\"bbb\", \"cc\", \"eeee\" };\n",
    "\n",
    "// 是否要過濾\n",
    "bool isFilter = true;\n",
    "// 要過濾時才會 where\n",
    "var afterFilter = listSource.Where(x => !isFilter || listFilter.Contains(x)).ToList();\n",
    "afterFilter.Display();"
   ]
  }
 ],
 "metadata": {
  "language_info": {
   "name": "python"
  }
 },
 "nbformat": 4,
 "nbformat_minor": 2
}
