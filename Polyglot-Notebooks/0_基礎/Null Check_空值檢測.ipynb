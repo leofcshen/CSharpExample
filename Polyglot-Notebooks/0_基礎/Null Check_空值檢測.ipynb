{
 "cells": [
  {
   "cell_type": "markdown",
   "metadata": {},
   "source": [
    "# Null Check_空值檢測"
   ]
  },
  {
   "cell_type": "code",
   "execution_count": null,
   "metadata": {
    "dotnet_interactive": {
     "language": "csharp"
    },
    "polyglot_notebook": {
     "kernelName": "csharp"
    },
    "vscode": {
     "languageId": "polyglot-notebook"
    }
   },
   "outputs": [],
   "source": [
    "public class MyClass {\n",
    "\tpublic string Name { get; }\n",
    "\tpublic MyClass(string name) {\n",
    "\t\tName = name;\n",
    "\t}\n",
    "}"
   ]
  },
  {
   "cell_type": "markdown",
   "metadata": {},
   "source": [
    "# C# 6"
   ]
  },
  {
   "cell_type": "code",
   "execution_count": null,
   "metadata": {
    "dotnet_interactive": {
     "language": "csharp"
    },
    "polyglot_notebook": {
     "kernelName": "csharp"
    },
    "vscode": {
     "languageId": "polyglot-notebook"
    }
   },
   "outputs": [],
   "source": [
    "MyClass myClass = new MyClass(\"Tom\");\n",
    "bool isNull = myClass == null;\n",
    "bool isNotNull = myClass != null;\n",
    "Console.WriteLine($\"null check => {isNull}\");\n",
    "Console.WriteLine($\"not null check => {isNotNull}\");"
   ]
  },
  {
   "cell_type": "code",
   "execution_count": null,
   "metadata": {
    "dotnet_interactive": {
     "language": "csharp"
    },
    "polyglot_notebook": {
     "kernelName": "csharp"
    },
    "vscode": {
     "languageId": "polyglot-notebook"
    }
   },
   "outputs": [],
   "source": [
    "\n",
    "MyClass myClass;\n",
    "bool isNull = myClass == null;\n",
    "bool isNotNull = myClass != null;\n",
    "Console.WriteLine($\"null check => {isNull}\");\n",
    "Console.WriteLine($\"not null check => {isNotNull}\");\n"
   ]
  },
  {
   "cell_type": "markdown",
   "metadata": {},
   "source": [
    "# C#7"
   ]
  },
  {
   "cell_type": "code",
   "execution_count": null,
   "metadata": {
    "dotnet_interactive": {
     "language": "csharp"
    },
    "polyglot_notebook": {
     "kernelName": "csharp"
    },
    "vscode": {
     "languageId": "polyglot-notebook"
    }
   },
   "outputs": [],
   "source": [
    "public class MyClass {\n",
    "\tpublic string Name { get; }\n",
    "\tpublic MyClass(string name) {\n",
    "\t\tName = name;\n",
    "\t}\n",
    "\t\n",
    "\tpublic static bool operator ==(MyClass left, MyClass right) {\n",
    "\t\treturn true;\n",
    "\t}\n",
    "\tpublic static bool operator !=(MyClass left, MyClass right) {\n",
    "\t\treturn true;\n",
    "\t}\n",
    "}"
   ]
  },
  {
   "cell_type": "markdown",
   "metadata": {},
   "source": [
    "使用 is null 比 == null 安全"
   ]
  },
  {
   "cell_type": "code",
   "execution_count": null,
   "metadata": {
    "dotnet_interactive": {
     "language": "csharp"
    },
    "polyglot_notebook": {
     "kernelName": "csharp"
    },
    "vscode": {
     "languageId": "polyglot-notebook"
    }
   },
   "outputs": [],
   "source": [
    "MyClass myClass = new MyClass(\"Tom\");\n",
    "bool isNull = myClass == null;\n",
    "bool isNotNull = myClass != null;\n",
    "bool isNullByIs = myClass is null;\n",
    "bool isNotNullByIs = !(myClass is null);\n",
    "bool isNotNullByObject = myClass is object;\n",
    "Console.WriteLine($\"null check => {isNull}\");\n",
    "Console.WriteLine($\"not null check => {isNotNull}\");\n",
    "Console.WriteLine($\"null check by is => {isNullByIs}\");\n",
    "Console.WriteLine($\"not null check by is => {isNotNullByIs}\");\n",
    "Console.WriteLine($\"not null check by object => {isNotNullByObject}\");"
   ]
  },
  {
   "cell_type": "code",
   "execution_count": null,
   "metadata": {
    "dotnet_interactive": {
     "language": "csharp"
    },
    "polyglot_notebook": {
     "kernelName": "csharp"
    },
    "vscode": {
     "languageId": "polyglot-notebook"
    }
   },
   "outputs": [],
   "source": [
    "MyClass myClass;\n",
    "bool isNull = myClass == null;\n",
    "bool isNotNull = myClass != null;\n",
    "bool isNullByIs = myClass is null;\n",
    "bool isNotNullByIs = !(myClass is null);\n",
    "bool isNotNullByObject = myClass is object;\n",
    "Console.WriteLine($\"null check => {isNull}\");\n",
    "Console.WriteLine($\"not null check => {isNotNull}\");\n",
    "Console.WriteLine($\"null check by is => {isNullByIs}\");\n",
    "Console.WriteLine($\"not null check by is => {isNotNullByIs}\");\n",
    "Console.WriteLine($\"not null check by object => {isNotNullByObject}\");"
   ]
  },
  {
   "cell_type": "markdown",
   "metadata": {},
   "source": [
    "# C# 8"
   ]
  },
  {
   "cell_type": "markdown",
   "metadata": {},
   "source": [
    "is { }  \n",
    "not null check, 等同 is object，一樣難讀  \n",
    "原理：C# 7 有模式比對的能力後，C# 8 is 擴充此能力增加了屬性比對(Proerty Pattern)能力，就可以判斷某物件是否包含於 {}  \n",
    "除了 null 之外的物件都是會被包含於 {} (等同於 objcet 物件)，true 就代表該物件 not null"
   ]
  },
  {
   "cell_type": "code",
   "execution_count": null,
   "metadata": {
    "dotnet_interactive": {
     "language": "csharp"
    },
    "polyglot_notebook": {
     "kernelName": "csharp"
    },
    "vscode": {
     "languageId": "polyglot-notebook"
    }
   },
   "outputs": [],
   "source": [
    "MyClass myClass = new MyClass(\"Tom\");\n",
    "bool isNotNull = myClass is {};\n",
    "\n",
    "Console.WriteLine($\"not null check by {{}} => {isNotNull}\");"
   ]
  },
  {
   "cell_type": "code",
   "execution_count": null,
   "metadata": {
    "dotnet_interactive": {
     "language": "csharp"
    },
    "polyglot_notebook": {
     "kernelName": "csharp"
    },
    "vscode": {
     "languageId": "polyglot-notebook"
    }
   },
   "outputs": [],
   "source": [
    "MyClass myClass;\n",
    "bool isNotNull = myClass is {};\n",
    "\n",
    "Console.WriteLine($\"not null check by {{}} => {isNotNull}\");"
   ]
  },
  {
   "cell_type": "markdown",
   "metadata": {},
   "source": [
    "# C# 9"
   ]
  },
  {
   "cell_type": "code",
   "execution_count": null,
   "metadata": {
    "dotnet_interactive": {
     "language": "csharp"
    },
    "polyglot_notebook": {
     "kernelName": "csharp"
    },
    "vscode": {
     "languageId": "polyglot-notebook"
    }
   },
   "outputs": [],
   "source": [
    "MyClass myClass = new MyClass(\"Tom\");\n",
    "bool isNotNull = myClass is not null;\n",
    "\n",
    "Console.WriteLine($\"not null check by is not null => {isNotNull}\");"
   ]
  },
  {
   "cell_type": "code",
   "execution_count": null,
   "metadata": {
    "dotnet_interactive": {
     "language": "csharp"
    },
    "polyglot_notebook": {
     "kernelName": "csharp"
    },
    "vscode": {
     "languageId": "polyglot-notebook"
    }
   },
   "outputs": [],
   "source": [
    "MyClass myClass;\n",
    "bool isNotNull = myClass is not null;\n",
    "\n",
    "Console.WriteLine($\"not null check by is not null => {isNotNull}\");"
   ]
  },
  {
   "cell_type": "markdown",
   "metadata": {},
   "source": [
    "# 其他用法"
   ]
  },
  {
   "cell_type": "code",
   "execution_count": null,
   "metadata": {
    "dotnet_interactive": {
     "language": "csharp"
    },
    "polyglot_notebook": {
     "kernelName": "csharp"
    },
    "vscode": {
     "languageId": "polyglot-notebook"
    }
   },
   "outputs": [],
   "source": [
    "MyClass myClass = new MyClass(\"Tom\");\n",
    "bool isNullByEquals = object.Equals(null, myClass);\n",
    "bool isNullByReferenceEquals = object.ReferenceEquals(null, myClass);\n",
    "\n",
    "Console.WriteLine($\"not null check by Equals => {isNullByEquals}\");\n",
    "Console.WriteLine($\"not null check by ReferenceEquals => {isNullByReferenceEquals}\");"
   ]
  },
  {
   "cell_type": "code",
   "execution_count": null,
   "metadata": {
    "dotnet_interactive": {
     "language": "csharp"
    },
    "polyglot_notebook": {
     "kernelName": "csharp"
    },
    "vscode": {
     "languageId": "polyglot-notebook"
    }
   },
   "outputs": [],
   "source": [
    "MyClass myClass;\n",
    "bool isNullByEquals = object.Equals(null, myClass);\n",
    "bool isNullByReferenceEquals = object.ReferenceEquals(null, myClass);\n",
    "\n",
    "Console.WriteLine($\"not null check by Equals => {isNullByEquals}\");\n",
    "Console.WriteLine($\"not null check by ReferenceEquals => {isNullByReferenceEquals}\");"
   ]
  }
 ],
 "metadata": {
  "language_info": {
   "name": "python"
  },
  "orig_nbformat": 4
 },
 "nbformat": 4,
 "nbformat_minor": 2
}
