{
 "cells": [
  {
   "cell_type": "markdown",
   "metadata": {},
   "source": [
    "# is VS as VS typeof"
   ]
  },
  {
   "cell_type": "markdown",
   "metadata": {},
   "source": [
    "is as 測試失敗不像 (cast)parameter 轉型失敗會 throw exception"
   ]
  },
  {
   "cell_type": "markdown",
   "metadata": {},
   "source": [
    "# is 檢查物件兼容性回傳 bool，物件為 null 回傳 false"
   ]
  },
  {
   "cell_type": "code",
   "execution_count": null,
   "metadata": {
    "dotnet_interactive": {
     "language": "csharp"
    },
    "polyglot_notebook": {
     "kernelName": "csharp"
    },
    "vscode": {
     "languageId": "polyglot-notebook"
    }
   },
   "outputs": [],
   "source": [
    "//object o = \"aa\";\n",
    "object o = null;\n",
    "\n",
    "if (o is string) {\n",
    "\tstring s1 = (string)o;\n",
    "\tConsole.WriteLine(\"Y\");\n",
    "\tConsole.WriteLine(s1);\n",
    "} else {\n",
    "\tConsole.WriteLine(\"N\");\n",
    "}"
   ]
  },
  {
   "cell_type": "markdown",
   "metadata": {},
   "source": [
    "檢查同時宣告轉型後的參數"
   ]
  },
  {
   "cell_type": "code",
   "execution_count": null,
   "metadata": {
    "dotnet_interactive": {
     "language": "csharp"
    },
    "polyglot_notebook": {
     "kernelName": "csharp"
    },
    "vscode": {
     "languageId": "polyglot-notebook"
    }
   },
   "outputs": [],
   "source": [
    "object o = \"aa\";\n",
    "//object o = null;\n",
    "\n",
    "if (o is string s1) {\n",
    "\tConsole.WriteLine(\"Y\");\n",
    "\tConsole.WriteLine(s1);\n",
    "} else\n",
    "\tConsole.WriteLine(\"N\");"
   ]
  },
  {
   "cell_type": "code",
   "execution_count": null,
   "metadata": {
    "dotnet_interactive": {
     "language": "csharp"
    },
    "polyglot_notebook": {
     "kernelName": "csharp"
    },
    "vscode": {
     "languageId": "polyglot-notebook"
    }
   },
   "outputs": [],
   "source": [
    "int i = 20;\n",
    "Console.WriteLine(i is IFormattable);\n",
    "\n",
    "object iBoxed = i;\n",
    "Console.WriteLine(iBoxed is int);\n",
    "Console.WriteLine(iBoxed is long);"
   ]
  },
  {
   "cell_type": "code",
   "execution_count": null,
   "metadata": {
    "dotnet_interactive": {
     "language": "csharp"
    },
    "polyglot_notebook": {
     "kernelName": "csharp"
    },
    "vscode": {
     "languageId": "polyglot-notebook"
    }
   },
   "outputs": [],
   "source": [
    "int i = 23;\n",
    "object iBoxed = i;\n",
    "int? jNullable = 7;\n",
    "if (iBoxed is int a && jNullable is int b) {\n",
    "\tConsole.WriteLine(a + b);\n",
    "}"
   ]
  },
  {
   "cell_type": "markdown",
   "metadata": {},
   "source": [
    "# as 檢查物件兼容性，兼容回傳轉換結果，不兼容回傳 null"
   ]
  },
  {
   "cell_type": "code",
   "execution_count": null,
   "metadata": {
    "dotnet_interactive": {
     "language": "csharp"
    },
    "polyglot_notebook": {
     "kernelName": "csharp"
    },
    "vscode": {
     "languageId": "polyglot-notebook"
    }
   },
   "outputs": [],
   "source": [
    "object o;\n",
    "string a = o as string;\n",
    "\n",
    "// 轉換完需要與 null 比較以檢查轉換是否成功\n",
    "Console.WriteLine(a != null ? \"Y\" : \"N\");\n",
    "\n",
    "// c# 7.0 開始可以使用 is 在成功時將轉換結果指派給新變數\n",
    "Console.WriteLine(o is string b ? $\"Y:{b}\" : \"N\");"
   ]
  },
  {
   "cell_type": "markdown",
   "metadata": {},
   "source": [
    "# typeof 取得型別的執行個體\n",
    "引數必需是型別名稱或型別參數"
   ]
  },
  {
   "cell_type": "code",
   "execution_count": null,
   "metadata": {
    "dotnet_interactive": {
     "language": "csharp"
    },
    "polyglot_notebook": {
     "kernelName": "csharp"
    },
    "vscode": {
     "languageId": "polyglot-notebook"
    }
   },
   "outputs": [],
   "source": [
    "void PrintType<T>() => Console.WriteLine(typeof(T));\n",
    "\n",
    "PrintType<string>();    \n",
    "PrintType<List<string>>();\n",
    "PrintType<int>();\n",
    "PrintType<System.Int32>();\n",
    "PrintType<Dictionary<int,char>>();\n",
    "PrintType<dynamic>();"
   ]
  },
  {
   "cell_type": "markdown",
   "metadata": {},
   "source": [
    "# GetType() 取得參數的型別"
   ]
  },
  {
   "cell_type": "code",
   "execution_count": null,
   "metadata": {
    "dotnet_interactive": {
     "language": "csharp"
    },
    "polyglot_notebook": {
     "kernelName": "csharp"
    },
    "vscode": {
     "languageId": "polyglot-notebook"
    }
   },
   "outputs": [],
   "source": [
    "string a = \"abc\";\n",
    "Console.WriteLine(a.GetType());\n",
    "//Console.WriteLine(typeof(a));"
   ]
  }
 ],
 "metadata": {
  "language_info": {
   "name": "python"
  },
  "orig_nbformat": 4
 },
 "nbformat": 4,
 "nbformat_minor": 2
}
