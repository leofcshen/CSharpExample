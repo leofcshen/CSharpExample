{
 "cells": [
  {
   "cell_type": "markdown",
   "metadata": {},
   "source": [
    "#  Swtich"
   ]
  },
  {
   "cell_type": "code",
   "execution_count": null,
   "metadata": {
    "dotnet_interactive": {
     "language": "csharp"
    },
    "polyglot_notebook": {
     "kernelName": "csharp"
    },
    "vscode": {
     "languageId": "polyglot-notebook"
    }
   },
   "outputs": [],
   "source": [
    "void GetComment(int number) {\n",
    "\tstring comment = string.Empty;\n",
    "\n",
    "\tswitch (number) {\n",
    "\t\tcase < 0:\n",
    "\t\tcase > 100:\n",
    "\t\t\tcomment = \"分數異常\";\n",
    "\t\t\tbreak;\n",
    "\t\tcase 100:\n",
    "\t\t\tcomment = \"你是神\";\n",
    "\t\t\tbreak;\n",
    "\t\tcase >= 90:\n",
    "\t\t\tcomment = \"你超棒\";\t\t\t\n",
    "\t\t\tbreak;\n",
    "\t\tcase >= 60:\n",
    "\t\t\tcomment = \"你還行\";\t\t\t\n",
    "\t\t\tbreak;\t\t\n",
    "\t\tdefault:\n",
    "\t\t\tcomment = \"你就爛\";\t\t\t\n",
    "\t\t\tbreak;\n",
    "\t}\n",
    "\t\n",
    "\tConsole.WriteLine($\"輸入值：{number} {comment}\");\n",
    "}"
   ]
  },
  {
   "cell_type": "markdown",
   "metadata": {},
   "source": [
    "c# 8 swtich expression 寫法"
   ]
  },
  {
   "cell_type": "code",
   "execution_count": null,
   "metadata": {
    "dotnet_interactive": {
     "language": "csharp"
    },
    "polyglot_notebook": {
     "kernelName": "csharp"
    },
    "vscode": {
     "languageId": "polyglot-notebook"
    }
   },
   "outputs": [],
   "source": [
    "void GetComment(int number) {\n",
    "\tstring comment = number switch {\n",
    "\t\t< 0 or > 100 => \"分數異常\",\n",
    "\t\t100 => \"你是神\",\n",
    "\t\t>= 90 => \"你超棒\",\n",
    "\t\t>= 60 => \"你還行\",\n",
    "\t\t_ => \"你就爛\"\n",
    "\t};\n",
    "\t\n",
    "\tConsole.WriteLine($\"輸入值：{number} {comment}\");\n",
    "}"
   ]
  },
  {
   "cell_type": "code",
   "execution_count": null,
   "metadata": {
    "dotnet_interactive": {
     "language": "csharp"
    },
    "polyglot_notebook": {
     "kernelName": "csharp"
    },
    "vscode": {
     "languageId": "polyglot-notebook"
    }
   },
   "outputs": [],
   "source": [
    "GetComment(100);\n",
    "GetComment(90);\n",
    "GetComment(60);\n",
    "GetComment(0);\n",
    "GetComment(-1);\n",
    "GetComment(101);"
   ]
  }
 ],
 "metadata": {
  "language_info": {
   "name": "python"
  },
  "orig_nbformat": 4
 },
 "nbformat": 4,
 "nbformat_minor": 2
}
