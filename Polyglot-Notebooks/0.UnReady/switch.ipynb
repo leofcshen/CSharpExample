{
 "cells": [
  {
   "cell_type": "markdown",
   "metadata": {},
   "source": [
    "#  Swtich"
   ]
  },
  {
   "cell_type": "markdown",
   "metadata": {},
   "source": [
    "C# 7 pattern matching 搭配 when"
   ]
  },
  {
   "cell_type": "code",
   "execution_count": null,
   "metadata": {
    "dotnet_interactive": {
     "language": "csharp"
    },
    "polyglot_notebook": {
     "kernelName": "csharp"
    },
    "vscode": {
     "languageId": "polyglot-notebook"
    }
   },
   "outputs": [],
   "source": [
    "public class Box {\n",
    "\tpublic int Width { get; set; }\n",
    "\tpublic int Height { get; set; }\n",
    "}\n",
    "\n",
    "void Print(object obj) {\n",
    "\tswitch (obj) {\n",
    "\t\tcase null:\n",
    "\t\t\tConsole.WriteLine($\"null\");\n",
    "\t\t\treturn;\n",
    "\t\tcase string s:\n",
    "\t\t\tConsole.WriteLine($\"{s.Length}\");\n",
    "\t\t\tbreak;\n",
    "\t\tcase DateTime date:\n",
    "\t\t\tConsole.WriteLine(date.Year);\n",
    "\t\t\tbreak;\n",
    "\t\tcase int[] numbers when numbers.Length > 0:\n",
    "\t\t\tforeach (int n in numbers)\n",
    "\t\t\t\tConsole.WriteLine(n);\n",
    "\t\t\tbreak;\n",
    "\t\tcase Box box when (box.Width > 0 && box.Width == box.Height):\n",
    "\t\t\t\tConsole.WriteLine(\"合格的 Box\");\n",
    "\t\t\tbreak;\n",
    "\t\tcase Box box:\n",
    "\t\t\t\tConsole.WriteLine(\"不合格的 Box\");\n",
    "\t\t\tbreak;\n",
    "\t\tdefault:\n",
    "\t\t\tConsole.WriteLine(obj.ToString());\n",
    "\t\t\tbreak;\n",
    "\t}\n",
    "}\n",
    "\n",
    "Print(null);\n",
    "Print(\"ABC\");\n",
    "Print(DateTime.Now);\n",
    "Print(new int[3]{1,2,3});\n",
    "Print(new Box(){ Width = 2, Height = 2});\n",
    "Print(new Box(){ Width = 2, Height = 3});\n",
    "Print(true);"
   ]
  },
  {
   "cell_type": "code",
   "execution_count": null,
   "metadata": {
    "dotnet_interactive": {
     "language": "csharp"
    },
    "polyglot_notebook": {
     "kernelName": "csharp"
    },
    "vscode": {
     "languageId": "polyglot-notebook"
    }
   },
   "outputs": [],
   "source": [
    "string CheckNumber(int number) {\n",
    "\tstring value = string.Empty;\n",
    "\tswitch(number) {\n",
    "\t\tcase 0:\n",
    "\t\t\tvalue = \"Value0\";\n",
    "\t\t\tbreak;\n",
    "\t\tcase 1:\n",
    "\t\t\tvalue = \"Value1\";\n",
    "\t\t\tbreak;\n",
    "\t\tcase 2:\n",
    "\t\t\tvalue = \"Value2\";\n",
    "\t\t\tbreak;\n",
    "\t\tdefault:\n",
    "\t\t\tvalue = \"ValueError\";\n",
    "\t\t\tbreak;\n",
    "\t}\n",
    "\n",
    "\treturn value;\n",
    "}"
   ]
  },
  {
   "cell_type": "markdown",
   "metadata": {},
   "source": [
    "C# 8 switch expression"
   ]
  },
  {
   "cell_type": "code",
   "execution_count": null,
   "metadata": {
    "dotnet_interactive": {
     "language": "csharp"
    },
    "polyglot_notebook": {
     "kernelName": "csharp"
    },
    "vscode": {
     "languageId": "polyglot-notebook"
    }
   },
   "outputs": [],
   "source": [
    "string CheckNumber(int number) => number switch {\t\n",
    "\t0 => \"Value0\",\n",
    "\t1 => \"Value1\",\n",
    "\t2 => \"Value2\",\n",
    "\t_ => \"ValueError\",\n",
    "};"
   ]
  },
  {
   "cell_type": "code",
   "execution_count": null,
   "metadata": {
    "dotnet_interactive": {
     "language": "csharp"
    },
    "polyglot_notebook": {
     "kernelName": "csharp"
    },
    "vscode": {
     "languageId": "polyglot-notebook"
    }
   },
   "outputs": [],
   "source": [
    "Console.WriteLine(CheckNumber(0));\n",
    "Console.WriteLine(CheckNumber(1));\n",
    "Console.WriteLine(CheckNumber(2));\n",
    "Console.WriteLine(CheckNumber(3));"
   ]
  },
  {
   "cell_type": "code",
   "execution_count": null,
   "metadata": {
    "dotnet_interactive": {
     "language": "csharp"
    },
    "polyglot_notebook": {
     "kernelName": "csharp"
    },
    "vscode": {
     "languageId": "polyglot-notebook"
    }
   },
   "outputs": [],
   "source": [
    "void GetComment(int number) {\n",
    "\tstring comment = string.Empty;\n",
    "\n",
    "\tswitch (number) {\n",
    "\t\tcase < 0:\n",
    "\t\tcase > 100:\n",
    "\t\t\tcomment = \"分數異常\";\n",
    "\t\t\tbreak;\n",
    "\t\tcase 100:\n",
    "\t\t\tcomment = \"你是神\";\n",
    "\t\t\tbreak;\n",
    "\t\tcase >= 90:\n",
    "\t\t\tcomment = \"你超棒\";\t\t\t\n",
    "\t\t\tbreak;\n",
    "\t\tcase >= 60:\n",
    "\t\t\tcomment = \"你還行\";\t\t\t\n",
    "\t\t\tbreak;\t\t\n",
    "\t\tdefault:\n",
    "\t\t\tcomment = \"你就爛\";\t\t\t\n",
    "\t\t\tbreak;\n",
    "\t}\n",
    "\t\n",
    "\tConsole.WriteLine($\"輸入值：{number} {comment}\");\n",
    "}"
   ]
  },
  {
   "cell_type": "markdown",
   "metadata": {},
   "source": [
    "c# 8 swtich expression 寫法"
   ]
  },
  {
   "cell_type": "code",
   "execution_count": null,
   "metadata": {
    "dotnet_interactive": {
     "language": "csharp"
    },
    "polyglot_notebook": {
     "kernelName": "csharp"
    },
    "vscode": {
     "languageId": "polyglot-notebook"
    }
   },
   "outputs": [],
   "source": [
    "void GetComment(int number) {\n",
    "\tstring comment = number switch {\n",
    "\t\t< 0 or > 100 => \"分數異常\",\n",
    "\t\t100 => \"你是神\",\n",
    "\t\t>= 90 => \"你超棒\",\n",
    "\t\t>= 60 => \"你還行\",\n",
    "\t\t_ => \"你就爛\"\n",
    "\t};\n",
    "\t\n",
    "\tConsole.WriteLine($\"輸入值：{number} {comment}\");\n",
    "}"
   ]
  },
  {
   "cell_type": "code",
   "execution_count": null,
   "metadata": {
    "dotnet_interactive": {
     "language": "csharp"
    },
    "polyglot_notebook": {
     "kernelName": "csharp"
    },
    "vscode": {
     "languageId": "polyglot-notebook"
    }
   },
   "outputs": [],
   "source": [
    "GetComment(100);\n",
    "GetComment(90);\n",
    "GetComment(60);\n",
    "GetComment(0);\n",
    "GetComment(-1);\n",
    "GetComment(101);"
   ]
  },
  {
   "cell_type": "markdown",
   "metadata": {},
   "source": [
    "C# 9 Pattern matching enhancements 增強模式比對"
   ]
  },
  {
   "cell_type": "code",
   "execution_count": null,
   "metadata": {
    "dotnet_interactive": {
     "language": "csharp"
    },
    "polyglot_notebook": {
     "kernelName": "csharp"
    },
    "vscode": {
     "languageId": "polyglot-notebook"
    }
   },
   "outputs": [],
   "source": [
    "public static string Check(int iIndex, System.Object oTemp) => oTemp switch {\n",
    "\t//string\n",
    "\tstring x when x.Equals(\"TheBoySayWannaDrink\", System.StringComparison.CurrentCultureIgnoreCase) => $\"{iIndex}. 字串Ａ：傳入值為 / {x}\",\n",
    "\t\"TheGirlSayWannaEat\" => $\"{iIndex}. 字串Ｂ\",\n",
    "\tstring => $\"{iIndex}. 只知道是字串\",\n",
    "\t\n",
    "\t//int\n",
    "\tint x and < 0 => $\"{iIndex}. 整數Ａ：傳入值為 / {x}\",\n",
    "\t123 => $\"{iIndex}. 整數Ｂ：\",\n",
    "\tint and > 0 and ( >= 100 and <= 200) => $\"{iIndex}. 整數Ｃ\",\n",
    "\tint => $\"{iIndex}. 只知道是整數\",\n",
    "\t\n",
    "\t//VauleTuple\n",
    "\tSystem.ValueTuple<string, int> x when x == (\"John\", 17) => $\"{iIndex}. ValueTupleＡ：傳入值為 / {x.Item1}\",\n",
    "\t(\"John\", 18) => $\"{iIndex}. ValueTupleＢ\",\n",
    "\t(_, _) => $\"{iIndex}. 只知道是ValueTuple\",\n",
    "\t\n",
    "\t//ClassObject-1\n",
    "\tHuman1 { cName: \"John\", iAge: 17 } x => $\"{iIndex}. 物件Ａ：傳入值為 / {x.cName}\",\n",
    "\tHuman1(\"John\", 18) => $\"{iIndex}. 物件Ａ\",\n",
    "\tHuman1 x => $\"{iIndex}. 只知道是 / {x.GetType()}\",\n",
    "\n",
    "\t//ClassObject-2\n",
    "\tHuman2 { cName: \"John\", iAge: 17 } x => $\"{iIndex}. 物件Ｂ：傳入值為 / {x.cName}\",\n",
    "\tHuman2 { cName: \"John\", iAge: 18 } => $\"{iIndex}. 物件Ｂ\",\n",
    "\tHuman2 x => $\"{iIndex}. 只知道是 / {x.GetType()}\",\n",
    "\n",
    "\t//default\n",
    "\t_ => $\"{iIndex}. 無法識別物件\"\n",
    "};\n",
    "\n",
    "public static void Show(string cTemp) => Console.WriteLine(cTemp);\n",
    "\n",
    "public record Human1(string cName, int iAge);\n",
    "\n",
    "public class Human2 {\n",
    "\tpublic string cName;\n",
    "\tpublic int iAge;\n",
    "}"
   ]
  },
  {
   "cell_type": "code",
   "execution_count": null,
   "metadata": {
    "dotnet_interactive": {
     "language": "csharp"
    },
    "polyglot_notebook": {
     "kernelName": "csharp"
    },
    "vscode": {
     "languageId": "polyglot-notebook"
    }
   },
   "outputs": [],
   "source": [
    "Show(Check( 0, \"TheBOYSayWANNADrink\"));\n",
    "Show(Check( 1, \"TheGirlSayWannaEat\"));\n",
    "Show(Check( 2, \"OthersString\"));\n",
    "Show(Check( 3, -100));\n",
    "Show(Check( 4, 123));\n",
    "Show(Check( 5, 199));\n",
    "Show(Check( 6, 201));\n",
    "Show(Check( 7, (\"John\", 17)));\n",
    "Show(Check( 8, (\"John\", 18)));\n",
    "Show(Check( 9, (\"John\", 19)));\n",
    "Show(Check(10, new Human1(\"John\", 17)));\n",
    "Show(Check(11, new Human1(\"John\", 18)));\n",
    "Show(Check(12, new Human1(\"John\", 19)));\n",
    "Show(Check(13, new Human2() { cName=\"John\", iAge = 17}));\n",
    "Show(Check(14, new Human2() { cName=\"John\", iAge = 18}));\n",
    "Show(Check(15, new Human2() { cName=\"John\", iAge = 19}));\n",
    "Show(Check(16, true));"
   ]
  }
 ],
 "metadata": {
  "language_info": {
   "name": "python"
  },
  "orig_nbformat": 4
 },
 "nbformat": 4,
 "nbformat_minor": 2
}
