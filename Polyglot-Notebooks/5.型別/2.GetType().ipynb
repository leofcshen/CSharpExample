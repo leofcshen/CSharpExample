{
 "cells": [
  {
   "cell_type": "markdown",
   "metadata": {},
   "source": [
    "# GetType()"
   ]
  },
  {
   "cell_type": "markdown",
   "metadata": {},
   "source": [
    "任何對象都有 GetType() 方法，回傳當前對象的類型"
   ]
  },
  {
   "cell_type": "code",
   "execution_count": null,
   "metadata": {
    "dotnet_interactive": {
     "language": "csharp"
    },
    "polyglot_notebook": {
     "kernelName": "csharp"
    },
    "vscode": {
     "languageId": "polyglot-notebook"
    }
   },
   "outputs": [],
   "source": [
    "string a = \"abc\";\n",
    "a.GetType().Display();\n",
    "1.GetType().Display();"
   ]
  },
  {
   "cell_type": "code",
   "execution_count": null,
   "metadata": {
    "dotnet_interactive": {
     "language": "csharp"
    },
    "polyglot_notebook": {
     "kernelName": "csharp"
    },
    "vscode": {
     "languageId": "polyglot-notebook"
    }
   },
   "outputs": [],
   "source": [
    "public class BaseClass { }\n",
    "public class DerivedClass: BaseClass { }\n",
    "\n",
    "BaseClass myBase = new BaseClass();\n",
    "DerivedClass myDerived = new DerivedClass();\n",
    "object o = myDerived;\n",
    "BaseClass b = myDerived;\n",
    "\n",
    "Console.WriteLine(\"mybase: Type is {0}\", myBase.GetType());\n",
    "Console.WriteLine(\"myDerived: Type is {0}\", myDerived.GetType());\n",
    "Console.WriteLine(\"object o = myDerived: Type is {0}\", o.GetType());\n",
    "Console.WriteLine(\"MyBaseClass b = myDerived: Type is {0}\", b.GetType());"
   ]
  },
  {
   "cell_type": "markdown",
   "metadata": {},
   "source": [
    "## 靜態 Type.GetType()\n",
    "尋找當前 (Library 裡的特定類型, 找不到是否拋出 exception, 是否忽略大小寫)"
   ]
  },
  {
   "cell_type": "code",
   "execution_count": null,
   "metadata": {
    "dotnet_interactive": {
     "language": "csharp"
    },
    "polyglot_notebook": {
     "kernelName": "csharp"
    },
    "vscode": {
     "languageId": "polyglot-notebook"
    }
   },
   "outputs": [],
   "source": [
    "Type type = Type.GetType(\"System.String\", false, true);\n",
    "type.Display();"
   ]
  },
  {
   "cell_type": "code",
   "execution_count": null,
   "metadata": {
    "dotnet_interactive": {
     "language": "csharp"
    },
    "polyglot_notebook": {
     "kernelName": "csharp"
    },
    "vscode": {
     "languageId": "polyglot-notebook"
    }
   },
   "outputs": [],
   "source": [
    "public class MyClass {}\n",
    "Type type = Type.GetType(\"GetType___typeof__.MyClass\", false, true);\n",
    "Console.WriteLine(type2);"
   ]
  },
  {
   "cell_type": "markdown",
   "metadata": {},
   "source": [
    "如果要尋找一個外部 Library 的特定類型時，參數必須使用完全限定名加上類型所在的程序集名稱(用逗號隔開)"
   ]
  },
  {
   "cell_type": "code",
   "execution_count": 13,
   "metadata": {
    "dotnet_interactive": {
     "language": "csharp"
    },
    "polyglot_notebook": {
     "kernelName": "csharp"
    },
    "vscode": {
     "languageId": "polyglot-notebook"
    }
   },
   "outputs": [],
   "source": [
    "Type type = Type.GetType(\"ModelsNet6.Repository.Common.JTextAccessor,Models_Net6\");"
   ]
  },
  {
   "cell_type": "markdown",
   "metadata": {},
   "source": [
    "下列寫法也可以"
   ]
  },
  {
   "cell_type": "code",
   "execution_count": 12,
   "metadata": {
    "dotnet_interactive": {
     "language": "csharp"
    },
    "polyglot_notebook": {
     "kernelName": "csharp"
    },
    "vscode": {
     "languageId": "polyglot-notebook"
    }
   },
   "outputs": [],
   "source": [
    "using System.Reflection;\n",
    "\n",
    "Type type = Type.GetType(Assembly.CreateQualifiedName(\"Library\", \"Library.Extensions.GenericExtensions\"));"
   ]
  },
  {
   "cell_type": "code",
   "execution_count": null,
   "metadata": {
    "dotnet_interactive": {
     "language": "csharp"
    },
    "polyglot_notebook": {
     "kernelName": "csharp"
    },
    "vscode": {
     "languageId": "polyglot-notebook"
    }
   },
   "outputs": [],
   "source": [
    "object[] values = { (int) 12, (long) 10653, (byte) 12, (sbyte) -5, 16.3, \"string\" };\n",
    "\n",
    "foreach (var value in values) {\n",
    "\tType t = value.GetType();\n",
    "\tif (t.Equals(typeof(byte)))\n",
    "\t\tConsole.WriteLine(\"{0} is an unsigned byte.\", value);\n",
    "\telse if (t.Equals(typeof(sbyte)))\n",
    "\t\tConsole.WriteLine(\"{0} is a signed byte.\", value);\n",
    "\telse if (t.Equals(typeof(int)))\n",
    "\t\tConsole.WriteLine(\"{0} is a 32-bit integer.\", value);\n",
    "\telse if (t.Equals(typeof(long)))\n",
    "\t\tConsole.WriteLine(\"{0} is a 64-bit integer.\", value);\n",
    "\telse if (t.Equals(typeof(double)))\n",
    "\t\tConsole.WriteLine(\"{0} is a double-precision floating point.\",\tvalue);\n",
    "\telse\n",
    "\t\tConsole.WriteLine(\"'{0}' is another data type.\", value);\n",
    "}"
   ]
  }
 ],
 "metadata": {
  "language_info": {
   "name": "python"
  },
  "orig_nbformat": 4
 },
 "nbformat": 4,
 "nbformat_minor": 2
}
