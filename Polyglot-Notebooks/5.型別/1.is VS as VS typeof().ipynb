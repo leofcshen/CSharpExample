{
 "cells": [
  {
   "cell_type": "markdown",
   "metadata": {},
   "source": [
    "# is VS as VS typeof()"
   ]
  },
  {
   "cell_type": "markdown",
   "metadata": {},
   "source": [
    "# is 運算子：E is T (Expression is Type)\n",
    "檢查運算式結果的執行階段型別和給定的型別是否相容  \n",
    "運算式非 null 且符合下列任何條件時回傳 `true`\n",
    "* 運算式結果的執行階段型別為 `T`\n",
    "* 運算式結果的執行階段型別衍生自型別 `T`、實作介面 `T`、或另一個隱含參考轉換從它到 `T`\n",
    "* 運算式結果的執行階段型別是具有基礎型別 `T` 的可為 `Null` 實值型，且 `Nullable<T>.HasValue` 為 `true`。\n",
    "* 從運算式結果的執行階段型別到 `T` 型別，存在 `Boxing` 或 `unboxing` 轉換。"
   ]
  },
  {
   "cell_type": "code",
   "execution_count": null,
   "metadata": {
    "dotnet_interactive": {
     "language": "csharp"
    },
    "polyglot_notebook": {
     "kernelName": "csharp"
    },
    "vscode": {
     "languageId": "polyglot-notebook"
    }
   },
   "outputs": [],
   "source": [
    "public class Car { }\n",
    "public class Toyota : Car { }"
   ]
  },
  {
   "cell_type": "code",
   "execution_count": null,
   "metadata": {
    "dotnet_interactive": {
     "language": "csharp"
    },
    "polyglot_notebook": {
     "kernelName": "csharp"
    },
    "vscode": {
     "languageId": "polyglot-notebook"
    }
   },
   "outputs": [],
   "source": [
    "// expression 是 null\n",
    "object obj = null;\n",
    "Console.WriteLine(obj is Car);\n",
    "Console.WriteLine(obj is Toyota);"
   ]
  },
  {
   "cell_type": "code",
   "execution_count": null,
   "metadata": {
    "dotnet_interactive": {
     "language": "csharp"
    },
    "polyglot_notebook": {
     "kernelName": "csharp"
    },
    "vscode": {
     "languageId": "polyglot-notebook"
    }
   },
   "outputs": [],
   "source": [
    "object car = new Car();\n",
    "// car 運算式結果的執行階段型別為 Car\n",
    "Console.WriteLine(car is Car);\n",
    "Console.WriteLine(car is Toyota);"
   ]
  },
  {
   "cell_type": "code",
   "execution_count": null,
   "metadata": {
    "dotnet_interactive": {
     "language": "csharp"
    },
    "polyglot_notebook": {
     "kernelName": "csharp"
    },
    "vscode": {
     "languageId": "polyglot-notebook"
    }
   },
   "outputs": [],
   "source": [
    "object toyota = new Toyota();\n",
    "// toyota 運算式結果的執行階段型別衍生自型別自 Car\n",
    "Console.WriteLine(toyota is Car);\n",
    "Console.WriteLine(toyota is Toyota);"
   ]
  },
  {
   "cell_type": "code",
   "execution_count": null,
   "metadata": {
    "dotnet_interactive": {
     "language": "csharp"
    },
    "polyglot_notebook": {
     "kernelName": "csharp"
    },
    "vscode": {
     "languageId": "polyglot-notebook"
    }
   },
   "outputs": [],
   "source": [
    "Toyota toyota = new Toyota();\n",
    "// 隱含轉換\n",
    "Car car = toyota;\n",
    "\n",
    "// toyota 運算式結果的執行階段型別為 Toyota\n",
    "Console.WriteLine(toyota is Toyota);\n",
    "// toyota 運算式結果的執行階段型別衍生自型別 Car\n",
    "Console.WriteLine(toyota is Car);\n",
    "// car 運算式結果的執行階段型別指向 Toyota 的實例\n",
    "Console.WriteLine(car is Toyota);\n",
    "// car 運算式結果的執行階段型別為 Car\n",
    "Console.WriteLine(car is Car);"
   ]
  },
  {
   "cell_type": "code",
   "execution_count": null,
   "metadata": {
    "dotnet_interactive": {
     "language": "csharp"
    },
    "polyglot_notebook": {
     "kernelName": "csharp"
    },
    "vscode": {
     "languageId": "polyglot-notebook"
    }
   },
   "outputs": [],
   "source": [
    "public interface IRun { void Run(); }\n",
    "\n",
    "public class People : IRun {\n",
    "\tpublic void Run() { Console.WriteLine(\"人用雙腳跑了起來。\"); }\n",
    "}\n",
    "\n",
    "public class Dog : IRun {\n",
    "\tpublic void Run() { Console.WriteLine(\"狗用四隻腳跑了起來。\"); }\n",
    "}\n",
    "\n",
    "public class Cat {}\n",
    "\n",
    "// people 運算式結果的執行階段型別實作介面 IRun\n",
    "Console.WriteLine(new People() is IRun);\n",
    "// dog 運算式結果的執行階段型別實作介面 IRun\n",
    "Console.WriteLine(new Dog() is IRun);\n",
    "Console.WriteLine(new Cat() is IRun);"
   ]
  },
  {
   "cell_type": "code",
   "execution_count": null,
   "metadata": {
    "dotnet_interactive": {
     "language": "csharp"
    },
    "polyglot_notebook": {
     "kernelName": "csharp"
    },
    "vscode": {
     "languageId": "polyglot-notebook"
    }
   },
   "outputs": [],
   "source": [
    "int i = 1;\n",
    "// int 有實作 IFormattable 的 ToString()\n",
    "Console.WriteLine(i is IFormattable);\n",
    "Console.WriteLine(i is ICollection);\n",
    "\n",
    "object iBoxed = i;\n",
    "// 從運算式結果的執行階段型別到 int 型別，存在 Boxing 或 unboxing 轉換。\n",
    "Console.WriteLine(iBoxed is int);\n",
    "Console.WriteLine(iBoxed is long);"
   ]
  },
  {
   "cell_type": "code",
   "execution_count": null,
   "metadata": {
    "dotnet_interactive": {
     "language": "csharp"
    },
    "polyglot_notebook": {
     "kernelName": "csharp"
    },
    "vscode": {
     "languageId": "polyglot-notebook"
    }
   },
   "outputs": [],
   "source": [
    "int? a = 10;\n",
    "//int? a = null;\n",
    "\n",
    "// 運算式結果的執行階段型別是具有基礎型別 int 的可為 Null 實值型，且 Nullable<T>.HasValue 為 `true`。\n",
    "if (a is int valueOfA) {\n",
    "\tConsole.WriteLine($\"a.HasValue = {a.HasValue}\");\n",
    "\tConsole.WriteLine($\"a is {valueOfA}\");\n",
    "} else {\n",
    "\tConsole.WriteLine($\"a.HasValue = {a.HasValue}\");\n",
    "\tConsole.WriteLine(\"a does not have a value\");\n",
    "}"
   ]
  },
  {
   "cell_type": "code",
   "execution_count": null,
   "metadata": {
    "dotnet_interactive": {
     "language": "csharp"
    },
    "polyglot_notebook": {
     "kernelName": "csharp"
    },
    "vscode": {
     "languageId": "polyglot-notebook"
    }
   },
   "outputs": [],
   "source": [
    "object obj = \"abc\";\n",
    "string value;\n",
    "\n",
    "if (obj is string) {\t\n",
    "\tConsole.WriteLine(\"轉換成功\");\n",
    "\tvalue = (string)obj;\n",
    "\tConsole.WriteLine(value);\n",
    "} else {\n",
    "\tConsole.WriteLine(\"轉換失敗\");\n",
    "}"
   ]
  },
  {
   "cell_type": "markdown",
   "metadata": {},
   "source": [
    "C# 7.0 開始可以使用 is 在成功時將轉換結果指派給新變數"
   ]
  },
  {
   "cell_type": "code",
   "execution_count": null,
   "metadata": {
    "dotnet_interactive": {
     "language": "csharp"
    },
    "polyglot_notebook": {
     "kernelName": "csharp"
    },
    "vscode": {
     "languageId": "polyglot-notebook"
    }
   },
   "outputs": [],
   "source": [
    "object obj = \"abc\";\n",
    "\n",
    "if (obj is string value) {\t\n",
    "\tConsole.WriteLine(\"轉換成功\");\n",
    "\tConsole.WriteLine(value);\n",
    "} else {\n",
    "\tConsole.WriteLine(\"轉換失敗\");\n",
    "}"
   ]
  },
  {
   "cell_type": "code",
   "execution_count": null,
   "metadata": {
    "dotnet_interactive": {
     "language": "csharp"
    },
    "polyglot_notebook": {
     "kernelName": "csharp"
    },
    "vscode": {
     "languageId": "polyglot-notebook"
    }
   },
   "outputs": [],
   "source": [
    "int i = 23;\n",
    "object iBoxed = i;\n",
    "int? jNullable = 7;\n",
    "if (iBoxed is int a && jNullable is int b) {\n",
    "\tConsole.WriteLine(a + b);\n",
    "}"
   ]
  },
  {
   "cell_type": "markdown",
   "metadata": {},
   "source": [
    "# as 運算子：E as T\n",
    "將運算式的結果明確地轉換成給定參考或可為 `Null` 的實值型別"
   ]
  },
  {
   "cell_type": "code",
   "execution_count": null,
   "metadata": {
    "dotnet_interactive": {
     "language": "csharp"
    },
    "polyglot_notebook": {
     "kernelName": "csharp"
    },
    "vscode": {
     "languageId": "polyglot-notebook"
    }
   },
   "outputs": [],
   "source": [
    "string str = \"ABC\";\n",
    "string a = str as string;\n",
    "Console.WriteLine(a ?? \"轉換失敗\");"
   ]
  },
  {
   "cell_type": "markdown",
   "metadata": {},
   "source": [
    "\n",
    "如果無法轉換，則 `as` 運算子會傳回 `null`"
   ]
  },
  {
   "cell_type": "code",
   "execution_count": null,
   "metadata": {
    "dotnet_interactive": {
     "language": "csharp"
    },
    "polyglot_notebook": {
     "kernelName": "csharp"
    },
    "vscode": {
     "languageId": "polyglot-notebook"
    }
   },
   "outputs": [],
   "source": [
    "string str = null;\n",
    "string a = str as string;\n",
    "Console.WriteLine(a ?? \"轉換失敗\");"
   ]
  },
  {
   "cell_type": "code",
   "execution_count": null,
   "metadata": {
    "dotnet_interactive": {
     "language": "csharp"
    },
    "polyglot_notebook": {
     "kernelName": "csharp"
    },
    "vscode": {
     "languageId": "polyglot-notebook"
    }
   },
   "outputs": [],
   "source": [
    "object o = 1;\n",
    "string a = o as string;\n",
    "Console.WriteLine(a ?? \"轉換失敗\");"
   ]
  },
  {
   "cell_type": "markdown",
   "metadata": {},
   "source": [
    "\n",
    "不同於 cast expression `(T)E`，`as` 運算子不會擲回 `Excepion`"
   ]
  },
  {
   "cell_type": "markdown",
   "metadata": {},
   "source": [
    "`E as T` 等同於 `E is T ? (T)(E) : (T)null`，但只會評估 E 一次"
   ]
  },
  {
   "cell_type": "code",
   "execution_count": null,
   "metadata": {
    "dotnet_interactive": {
     "language": "csharp"
    },
    "polyglot_notebook": {
     "kernelName": "csharp"
    },
    "vscode": {
     "languageId": "polyglot-notebook"
    }
   },
   "outputs": [],
   "source": [
    "string GetString() {\n",
    "\tConsole.WriteLine(\"執行評估\");\n",
    "\treturn \"Hello World!\";\n",
    "}\n",
    "\n",
    "string a = GetString() is string ? (string)GetString() : (string)null;\n",
    "Console.WriteLine(a);\n",
    "\n",
    "string b = GetString() as string;\n",
    "Console.WriteLine(b);"
   ]
  },
  {
   "cell_type": "markdown",
   "metadata": {},
   "source": [
    "`E is T` 及 `E as T` 中 `E` 都不能是匿名方法或 `Lambda` 運算式"
   ]
  },
  {
   "cell_type": "code",
   "execution_count": null,
   "metadata": {
    "dotnet_interactive": {
     "language": "csharp"
    },
    "polyglot_notebook": {
     "kernelName": "csharp"
    },
    "vscode": {
     "languageId": "polyglot-notebook"
    }
   },
   "outputs": [],
   "source": [
    "string GetABC() => \"ABC\";\n",
    "Console.WriteLine(GetABC() is string);"
   ]
  },
  {
   "cell_type": "code",
   "execution_count": null,
   "metadata": {
    "dotnet_interactive": {
     "language": "csharp"
    },
    "polyglot_notebook": {
     "kernelName": "csharp"
    },
    "vscode": {
     "languageId": "polyglot-notebook"
    }
   },
   "outputs": [],
   "source": [
    "Console.WriteLine((() => \"ABC\") is string);"
   ]
  },
  {
   "cell_type": "code",
   "execution_count": null,
   "metadata": {
    "dotnet_interactive": {
     "language": "csharp"
    },
    "polyglot_notebook": {
     "kernelName": "csharp"
    },
    "vscode": {
     "languageId": "polyglot-notebook"
    }
   },
   "outputs": [],
   "source": [
    "string StringPlusWow() => \"ABC\";\n",
    "string a = StringPlusWow() as string;"
   ]
  },
  {
   "cell_type": "code",
   "execution_count": null,
   "metadata": {
    "dotnet_interactive": {
     "language": "csharp"
    },
    "polyglot_notebook": {
     "kernelName": "csharp"
    },
    "vscode": {
     "languageId": "polyglot-notebook"
    }
   },
   "outputs": [],
   "source": [
    "string a = (() => \"ABC\") as string;"
   ]
  },
  {
   "cell_type": "markdown",
   "metadata": {},
   "source": [
    "# typeof 運算子\n",
    "取得型別 `System.Type` 執行個體"
   ]
  },
  {
   "cell_type": "code",
   "execution_count": null,
   "metadata": {
    "dotnet_interactive": {
     "language": "csharp"
    },
    "polyglot_notebook": {
     "kernelName": "csharp"
    },
    "vscode": {
     "languageId": "polyglot-notebook"
    }
   },
   "outputs": [],
   "source": [
    "void PrintType<T>() => Console.WriteLine(typeof(T));\n",
    "\n",
    "Console.WriteLine(typeof(string));\n",
    "PrintType<string>();\n",
    "PrintType<List<string>>();\n",
    "PrintType<int>();\n",
    "PrintType<System.Int32>();\n",
    "PrintType<Dictionary<int,char>>();"
   ]
  },
  {
   "cell_type": "markdown",
   "metadata": {},
   "source": [
    "引數不得為動態類型或可為 `null` 的參考型別"
   ]
  },
  {
   "cell_type": "code",
   "execution_count": null,
   "metadata": {
    "dotnet_interactive": {
     "language": "csharp"
    },
    "polyglot_notebook": {
     "kernelName": "csharp"
    },
    "vscode": {
     "languageId": "polyglot-notebook"
    }
   },
   "outputs": [],
   "source": [
    "// 語法檢查不會過\n",
    "Console.WriteLine(typeof(string?));\n",
    "Console.WriteLine(typeof(dynamic));"
   ]
  },
  {
   "cell_type": "code",
   "execution_count": null,
   "metadata": {
    "dotnet_interactive": {
     "language": "csharp"
    },
    "polyglot_notebook": {
     "kernelName": "csharp"
    },
    "vscode": {
     "languageId": "polyglot-notebook"
    }
   },
   "outputs": [],
   "source": [
    "// 使用泛型\n",
    "PrintType<string?>();\n",
    "PrintType<dynamic>();"
   ]
  },
  {
   "cell_type": "markdown",
   "metadata": {},
   "source": [
    "未繫結的泛型型別。未繫結泛型型別的名稱必須包含適當數目的逗號，也就是比型別參數數目少一"
   ]
  },
  {
   "cell_type": "code",
   "execution_count": null,
   "metadata": {
    "dotnet_interactive": {
     "language": "csharp"
    },
    "polyglot_notebook": {
     "kernelName": "csharp"
    },
    "vscode": {
     "languageId": "polyglot-notebook"
    }
   },
   "outputs": [],
   "source": [
    "Console.WriteLine(typeof(Dictionary<,>));"
   ]
  },
  {
   "cell_type": "code",
   "execution_count": null,
   "metadata": {
    "dotnet_interactive": {
     "language": "csharp"
    },
    "polyglot_notebook": {
     "kernelName": "csharp"
    },
    "vscode": {
     "languageId": "polyglot-notebook"
    }
   },
   "outputs": [],
   "source": [
    "// 語法檢查不會過，使用泛型引數都要傳\n",
    "PrintType<Dictionary<,>>();"
   ]
  },
  {
   "cell_type": "markdown",
   "metadata": {},
   "source": [
    "`typeof` 的引數必須是型別名稱或型別參數"
   ]
  },
  {
   "cell_type": "code",
   "execution_count": null,
   "metadata": {
    "dotnet_interactive": {
     "language": "csharp"
    },
    "polyglot_notebook": {
     "kernelName": "csharp"
    },
    "vscode": {
     "languageId": "polyglot-notebook"
    }
   },
   "outputs": [],
   "source": [
    "Console.WriteLine(typeof(string));\n",
    "\n",
    "var a = \"ABC\";\n",
    "Console.WriteLine(typeof(a));"
   ]
  },
  {
   "cell_type": "code",
   "execution_count": null,
   "metadata": {
    "dotnet_interactive": {
     "language": "csharp"
    },
    "polyglot_notebook": {
     "kernelName": "csharp"
    },
    "vscode": {
     "languageId": "polyglot-notebook"
    }
   },
   "outputs": [],
   "source": [
    "public class Animal { }\n",
    "public class Cat : Animal { }\n",
    "\n",
    "object obj = new Cat();\n",
    "Console.WriteLine(obj is Animal);\n",
    "Console.WriteLine(obj.GetType() == typeof(Animal));\n",
    "\n",
    "Console.WriteLine(obj is Cat);  // output: True\n",
    "Console.WriteLine(obj.GetType() == typeof(Cat));  // output: True"
   ]
  }
 ],
 "metadata": {
  "language_info": {
   "name": "python"
  },
  "orig_nbformat": 4
 },
 "nbformat": 4,
 "nbformat_minor": 2
}
