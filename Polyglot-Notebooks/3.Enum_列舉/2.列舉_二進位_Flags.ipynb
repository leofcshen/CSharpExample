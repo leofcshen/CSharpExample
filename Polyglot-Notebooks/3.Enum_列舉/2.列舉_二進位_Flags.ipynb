{
 "cells": [
  {
   "cell_type": "code",
   "execution_count": null,
   "metadata": {
    "dotnet_interactive": {
     "language": "csharp"
    },
    "polyglot_notebook": {
     "kernelName": "csharp"
    },
    "vscode": {
     "languageId": "polyglot-notebook"
    }
   },
   "outputs": [],
   "source": [
    "//引用 Library\n",
    "#r \"../Library/Library.dll\"\n",
    "using Library.Extensions;"
   ]
  },
  {
   "cell_type": "code",
   "execution_count": null,
   "metadata": {
    "dotnet_interactive": {
     "language": "csharp"
    },
    "polyglot_notebook": {
     "kernelName": "csharp"
    },
    "vscode": {
     "languageId": "polyglot-notebook"
    }
   },
   "outputs": [],
   "source": [
    "[Flags]\n",
    "public enum EnumSkill {\n",
    "\tCSharp = 1,     //2^0 00000001 \n",
    "\tMSSQL = 2,      //2^1 00000010\n",
    "\tPython = 4,     //2^2 00000100\n",
    "\tJavaScript = 8, //2^3 00001000\n",
    "\tHtml = 16,      //2^4 00010000\n",
    "\tJava = 32,      //2^5 00100000\n",
    "\tMySQL = 64,     //2^6 01000000\n",
    "\tCSS = 128,      //2^7 10000000\n",
    "\tDBA = MSSQL | MySQL,\n",
    "\tFrontEnd = JavaScript | Html,\n",
    "\tBackEnd = CSharp | Python | Java,\n",
    "\t神人 = CSharp | MSSQL | Python | JavaScript | Html | Java | MySQL | CSS\n",
    "}"
   ]
  },
  {
   "cell_type": "markdown",
   "metadata": {},
   "source": [
    "檢查傳入的列舉包含的列舉"
   ]
  },
  {
   "cell_type": "code",
   "execution_count": null,
   "metadata": {
    "dotnet_interactive": {
     "language": "csharp"
    },
    "polyglot_notebook": {
     "kernelName": "csharp"
    },
    "vscode": {
     "languageId": "polyglot-notebook"
    }
   },
   "outputs": [],
   "source": [
    "List<string>  CheckEnum<T>(T input) where T : Enum {\n",
    "\tList<string> results = new List<string>();\n",
    "\t\n",
    "\tforeach (T permission in Enum.GetValues(typeof(T))) {\n",
    "\t\tif ((Convert.ToInt32(input) & Convert.ToInt32(permission)) == Convert.ToInt32(permission)) {\t\t\t\n",
    "\t\t\tresults.Add(\"包含列舉值 \" + permission);\n",
    "\t\t}\n",
    "\t}\n",
    "\t\n",
    "\treturn results;\n",
    "}"
   ]
  },
  {
   "cell_type": "code",
   "execution_count": null,
   "metadata": {
    "dotnet_interactive": {
     "language": "csharp"
    },
    "polyglot_notebook": {
     "kernelName": "csharp"
    },
    "vscode": {
     "languageId": "polyglot-notebook"
    }
   },
   "outputs": [],
   "source": [
    "public List<string> CheckEnum<T>(T input) where T : Enum =>\n",
    "\tEnum.GetValues(typeof(T))\n",
    "\t\t.Cast<T>()\n",
    "\t\t.Where(permission => input.HasFlag((Enum)(object)permission))\n",
    "\t\t.Select(permission => $\"包含列舉值 {permission}\")\n",
    "\t\t.ToList();"
   ]
  },
  {
   "cell_type": "code",
   "execution_count": null,
   "metadata": {
    "dotnet_interactive": {
     "language": "csharp"
    },
    "polyglot_notebook": {
     "kernelName": "csharp"
    },
    "vscode": {
     "languageId": "polyglot-notebook"
    }
   },
   "outputs": [],
   "source": [
    "var tom = EnumSkill.CSharp | EnumSkill.Html | EnumSkill.JavaScript;\n",
    "tom.Dump(nameof(tom));\n",
    "CheckEnum(tom).Dump();\n",
    "tom"
   ]
  },
  {
   "cell_type": "code",
   "execution_count": null,
   "metadata": {
    "dotnet_interactive": {
     "language": "csharp"
    },
    "polyglot_notebook": {
     "kernelName": "csharp"
    },
    "vscode": {
     "languageId": "polyglot-notebook"
    }
   },
   "outputs": [],
   "source": [
    "var john = EnumSkill.神人;\n",
    "john.Dump(nameof(john));\n",
    "CheckEnum(john).Dump();\n",
    "john"
   ]
  }
 ],
 "metadata": {
  "language_info": {
   "name": "python"
  },
  "orig_nbformat": 4
 },
 "nbformat": 4,
 "nbformat_minor": 2
}
