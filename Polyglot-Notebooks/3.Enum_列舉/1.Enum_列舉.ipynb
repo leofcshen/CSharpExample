{
 "cells": [
  {
   "cell_type": "markdown",
   "metadata": {},
   "source": [
    "# Enum_列舉"
   ]
  },
  {
   "cell_type": "code",
   "execution_count": null,
   "metadata": {
    "dotnet_interactive": {
     "language": "csharp"
    },
    "polyglot_notebook": {
     "kernelName": "csharp"
    },
    "vscode": {
     "languageId": "polyglot-notebook"
    }
   },
   "outputs": [],
   "source": [
    "using System.ComponentModel;\n",
    "using System.Reflection;\n",
    "\n",
    "enum Color {\n",
    "\t//不指派預設會從 0 開始\t\n",
    "\t紅色 = 2,\n",
    "\t藍色 = 3,\t\n",
    "\t綠色 = 4,\n",
    "\t白色 //不指派預設會從上一個遞增= 5\n",
    "}"
   ]
  },
  {
   "cell_type": "markdown",
   "metadata": {},
   "source": [
    "# int 轉型成 enum"
   ]
  },
  {
   "cell_type": "code",
   "execution_count": null,
   "metadata": {
    "dotnet_interactive": {
     "language": "csharp"
    },
    "polyglot_notebook": {
     "kernelName": "csharp"
    },
    "vscode": {
     "languageId": "polyglot-notebook"
    }
   },
   "outputs": [],
   "source": [
    "Color myColor = (Color)2;"
   ]
  },
  {
   "cell_type": "markdown",
   "metadata": {},
   "source": [
    "# string 轉為 enum"
   ]
  },
  {
   "cell_type": "markdown",
   "metadata": {},
   "source": [
    "## Enum.Parse()"
   ]
  },
  {
   "cell_type": "code",
   "execution_count": null,
   "metadata": {
    "dotnet_interactive": {
     "language": "csharp"
    },
    "polyglot_notebook": {
     "kernelName": "csharp"
    },
    "vscode": {
     "languageId": "polyglot-notebook"
    }
   },
   "outputs": [],
   "source": [
    "var myColor = Enum.Parse(typeof(Color), \"紅色\");\n",
    "myColor"
   ]
  },
  {
   "cell_type": "markdown",
   "metadata": {},
   "source": [
    "字串值如果不在列舉內會報錯，建議使用 Enum.TryParse()。 "
   ]
  },
  {
   "cell_type": "code",
   "execution_count": null,
   "metadata": {
    "dotnet_interactive": {
     "language": "csharp"
    },
    "polyglot_notebook": {
     "kernelName": "csharp"
    },
    "vscode": {
     "languageId": "polyglot-notebook"
    }
   },
   "outputs": [],
   "source": [
    "var myColor = Enum.Parse(typeof(Color), \"黑色\");"
   ]
  },
  {
   "cell_type": "markdown",
   "metadata": {},
   "source": [
    "也可轉換數值字串"
   ]
  },
  {
   "cell_type": "code",
   "execution_count": null,
   "metadata": {
    "dotnet_interactive": {
     "language": "csharp"
    },
    "polyglot_notebook": {
     "kernelName": "csharp"
    },
    "vscode": {
     "languageId": "polyglot-notebook"
    }
   },
   "outputs": [],
   "source": [
    "var myColor = Enum.Parse(typeof(Color), \"3\");\n",
    "myColor"
   ]
  },
  {
   "cell_type": "markdown",
   "metadata": {},
   "source": [
    "傳入不在列舉內的整數字串值會傳回原值"
   ]
  },
  {
   "cell_type": "code",
   "execution_count": null,
   "metadata": {
    "dotnet_interactive": {
     "language": "csharp"
    },
    "polyglot_notebook": {
     "kernelName": "csharp"
    },
    "vscode": {
     "languageId": "polyglot-notebook"
    }
   },
   "outputs": [],
   "source": [
    "var myColor = Enum.Parse(typeof(Color), \"6\");\n",
    "myColor"
   ]
  },
  {
   "cell_type": "markdown",
   "metadata": {},
   "source": [
    "## Enum.TryParse()"
   ]
  },
  {
   "cell_type": "code",
   "execution_count": null,
   "metadata": {
    "dotnet_interactive": {
     "language": "csharp"
    },
    "polyglot_notebook": {
     "kernelName": "csharp"
    },
    "vscode": {
     "languageId": "polyglot-notebook"
    }
   },
   "outputs": [],
   "source": [
    "bool tryParseResult = Enum.TryParse(\"紅色\", out Color value);\n",
    "value"
   ]
  },
  {
   "cell_type": "markdown",
   "metadata": {},
   "source": [
    "失敗的 value 會是 int 的 default 值 0"
   ]
  },
  {
   "cell_type": "code",
   "execution_count": null,
   "metadata": {
    "dotnet_interactive": {
     "language": "csharp"
    },
    "polyglot_notebook": {
     "kernelName": "csharp"
    },
    "vscode": {
     "languageId": "polyglot-notebook"
    }
   },
   "outputs": [],
   "source": [
    "bool tryParseResult = Enum.TryParse(\"黑色\", out Color value);\n",
    "value"
   ]
  },
  {
   "cell_type": "markdown",
   "metadata": {},
   "source": [
    "同 Enum.Parse() 也可傳入數值字串"
   ]
  },
  {
   "cell_type": "code",
   "execution_count": null,
   "metadata": {
    "dotnet_interactive": {
     "language": "csharp"
    },
    "polyglot_notebook": {
     "kernelName": "csharp"
    },
    "vscode": {
     "languageId": "polyglot-notebook"
    }
   },
   "outputs": [],
   "source": [
    "bool tryParseResult = Enum.TryParse(\"2\", out Color value);\n",
    "value"
   ]
  },
  {
   "cell_type": "markdown",
   "metadata": {},
   "source": [
    "同 Enum.Parse() 傳入不在列舉內的整數字串值會傳回原值"
   ]
  },
  {
   "cell_type": "code",
   "execution_count": null,
   "metadata": {
    "dotnet_interactive": {
     "language": "csharp"
    },
    "polyglot_notebook": {
     "kernelName": "csharp"
    },
    "vscode": {
     "languageId": "polyglot-notebook"
    }
   },
   "outputs": [],
   "source": [
    "bool tryParseResult = Enum.TryParse(\"6\", out Color value);\n",
    "value"
   ]
  },
  {
   "cell_type": "markdown",
   "metadata": {},
   "source": [
    "這是因為列舉有一個基礎類型，可以是下列任一種(byte、sbyte、short、ushort、int、uint、long 或 ulong)，預設是 int  \n",
    "這表示 Enum.TryParse(\"6\", out Color value4) 即便 6 不在列舉清單內也會 Return True  \n",
    "因此如果要確實檢測值是否在列舉內，建議使用 Enum.IsDefined()"
   ]
  },
  {
   "cell_type": "markdown",
   "metadata": {},
   "source": [
    "# Enum.IsDefined() 檢測值是否在列舉清單內"
   ]
  },
  {
   "cell_type": "code",
   "execution_count": null,
   "metadata": {
    "dotnet_interactive": {
     "language": "csharp"
    },
    "polyglot_notebook": {
     "kernelName": "csharp"
    },
    "vscode": {
     "languageId": "polyglot-notebook"
    }
   },
   "outputs": [],
   "source": [
    "bool isDefined = Enum.IsDefined(typeof(Color), \"紅色\");\n",
    "isDefined"
   ]
  },
  {
   "cell_type": "code",
   "execution_count": null,
   "metadata": {
    "dotnet_interactive": {
     "language": "csharp"
    },
    "polyglot_notebook": {
     "kernelName": "csharp"
    },
    "vscode": {
     "languageId": "polyglot-notebook"
    }
   },
   "outputs": [],
   "source": [
    "bool isDefined = Enum.IsDefined(typeof(Color), \"黑色\");\n",
    "isDefined"
   ]
  },
  {
   "cell_type": "markdown",
   "metadata": {},
   "source": [
    "檢測整數直接傳數值而非之前轉型時的數值字串"
   ]
  },
  {
   "cell_type": "code",
   "execution_count": null,
   "metadata": {
    "dotnet_interactive": {
     "language": "csharp"
    },
    "polyglot_notebook": {
     "kernelName": "csharp"
    },
    "vscode": {
     "languageId": "polyglot-notebook"
    }
   },
   "outputs": [],
   "source": [
    "bool isDefined = Enum.IsDefined(typeof(Color), 2);\n",
    "isDefined"
   ]
  },
  {
   "cell_type": "code",
   "execution_count": null,
   "metadata": {
    "dotnet_interactive": {
     "language": "csharp"
    },
    "polyglot_notebook": {
     "kernelName": "csharp"
    },
    "vscode": {
     "languageId": "polyglot-notebook"
    }
   },
   "outputs": [],
   "source": [
    "bool isDefined = Enum.IsDefined(typeof(Color), 6);\n",
    "isDefined"
   ]
  },
  {
   "cell_type": "markdown",
   "metadata": {},
   "source": [
    "寫一個泛型方法處理 Enum.IsDefined"
   ]
  },
  {
   "cell_type": "code",
   "execution_count": null,
   "metadata": {
    "dotnet_interactive": {
     "language": "csharp"
    },
    "polyglot_notebook": {
     "kernelName": "csharp"
    },
    "vscode": {
     "languageId": "polyglot-notebook"
    }
   },
   "outputs": [],
   "source": [
    "bool IsValidEnum<TEnum>(TEnum value) where TEnum : Enum\n",
    "\t=> Enum.IsDefined(typeof(TEnum), value);"
   ]
  },
  {
   "cell_type": "code",
   "execution_count": null,
   "metadata": {
    "dotnet_interactive": {
     "language": "csharp"
    },
    "polyglot_notebook": {
     "kernelName": "csharp"
    },
    "vscode": {
     "languageId": "polyglot-notebook"
    }
   },
   "outputs": [],
   "source": [
    "string testNumber = \"6\";\n",
    "bool tryParseResult = Enum.TryParse(testNumber, out Color value);\n",
    "bool isDefined = IsValidEnum(value);\n",
    "string testresult = tryParseResult && isDefined ? \"有\" : \"無\";\n",
    "string checkResult = $\"{testNumber} 是{testresult}效列舉值\";\n",
    "\n",
    "checkResult"
   ]
  },
  {
   "cell_type": "markdown",
   "metadata": {},
   "source": [
    "# 計算列舉清單數量"
   ]
  },
  {
   "cell_type": "code",
   "execution_count": null,
   "metadata": {
    "dotnet_interactive": {
     "language": "csharp"
    },
    "polyglot_notebook": {
     "kernelName": "csharp"
    },
    "vscode": {
     "languageId": "polyglot-notebook"
    }
   },
   "outputs": [],
   "source": [
    "int myEnumMemberCount = Enum.GetNames(typeof(Color)).Length;\n",
    "myEnumMemberCount"
   ]
  },
  {
   "cell_type": "markdown",
   "metadata": {},
   "source": [
    "# 取得列舉的描述"
   ]
  },
  {
   "cell_type": "markdown",
   "metadata": {},
   "source": [
    "如果列舉值有特殊字，不能直接設成列舉但又需要取用時，可以放在 `DescriptionAttribute`"
   ]
  },
  {
   "cell_type": "code",
   "execution_count": null,
   "metadata": {
    "dotnet_interactive": {
     "language": "csharp"
    },
    "polyglot_notebook": {
     "kernelName": "csharp"
    },
    "vscode": {
     "languageId": "polyglot-notebook"
    }
   },
   "outputs": [],
   "source": [
    "enum Color {\n",
    "\t//不指派預設會從 0 開始\n",
    "\t[DescriptionAttribute(\"!@#$red\")]\n",
    "\t紅色 = 2,\n",
    "\t[DescriptionAttribute(\"!@#$blue\")]\n",
    "\t藍色 = 3,\n",
    "\t[DescriptionAttribute(\"!@#$green\")]\n",
    "\t綠色 = 4,\n",
    "\t白色 //不指派預設會從上一個遞增= 5\n",
    "}\n",
    "\n",
    "enum Car {\t\n",
    "\tBMW,\n",
    "\t[DescriptionAttribute(\"Mercedes-Benz\")]\n",
    "\tBenz,\n",
    "\tToyota,\t\n",
    "}\n",
    "\n",
    "public static string GetDescriptionText<T>(this T source) {\n",
    "\tif (source is null) return string.Empty;\n",
    "\tFieldInfo? fi = source.GetType().GetField(source.ToString() ?? string.Empty);\n",
    "\tif (fi is null) return string.Empty;\n",
    "\tDescriptionAttribute[] attributes = (DescriptionAttribute[])fi.GetCustomAttributes(typeof(DescriptionAttribute), false);\n",
    "\tif (attributes.Length > 0) {\n",
    "\t\treturn attributes[0].Description;\n",
    "\t} else {\n",
    "\t\treturn source.ToString() ?? string.Empty;\n",
    "\t}\n",
    "}"
   ]
  },
  {
   "cell_type": "code",
   "execution_count": null,
   "metadata": {
    "dotnet_interactive": {
     "language": "csharp"
    },
    "polyglot_notebook": {
     "kernelName": "csharp"
    },
    "vscode": {
     "languageId": "polyglot-notebook"
    }
   },
   "outputs": [],
   "source": [
    "var desc = GetDescriptionText(Color.紅色);\n",
    "desc"
   ]
  },
  {
   "cell_type": "code",
   "execution_count": null,
   "metadata": {
    "dotnet_interactive": {
     "language": "csharp"
    },
    "polyglot_notebook": {
     "kernelName": "csharp"
    },
    "vscode": {
     "languageId": "polyglot-notebook"
    }
   },
   "outputs": [],
   "source": [
    "var desc = GetDescriptionText(Car.Benz);\n",
    "desc"
   ]
  }
 ],
 "metadata": {
  "language_info": {
   "name": "python"
  },
  "orig_nbformat": 4
 },
 "nbformat": 4,
 "nbformat_minor": 2
}
