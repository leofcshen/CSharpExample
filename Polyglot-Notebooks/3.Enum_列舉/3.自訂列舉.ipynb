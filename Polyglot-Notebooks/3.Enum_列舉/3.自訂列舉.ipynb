{
 "cells": [
  {
   "cell_type": "markdown",
   "metadata": {},
   "source": [
    "# 自訂列舉"
   ]
  },
  {
   "cell_type": "markdown",
   "metadata": {},
   "source": [
    "要讓一群值映射到另一群值(有任意字元)\n",
    "\n",
    "## 方法一：使用唯獨屬性的靜態Class\n",
    "不建議，如果有其他接手的人在 Class 加了其他方法，就失去了這個 Class 的原意了"
   ]
  },
  {
   "cell_type": "code",
   "execution_count": null,
   "metadata": {
    "dotnet_interactive": {
     "language": "csharp"
    },
    "polyglot_notebook": {
     "kernelName": "csharp"
    },
    "vscode": {
     "languageId": "polyglot-notebook"
    }
   },
   "outputs": [],
   "source": [
    "using System.ComponentModel;\n",
    "\n",
    "public class DescID : DescriptionAttribute {\n",
    "\tpublic DescID(string text) : base(text) {\n",
    "\t}\n",
    "}\n",
    "\n",
    "public class Seasons {\n",
    "\tpublic static string Spring { get { return \"-春天-\"; } }\n",
    "\tpublic static string Summer { get { return \"-夏天-\"; } }\n",
    "\tpublic static string Autumn { get { return \"-秋天-\"; } }\n",
    "\tpublic static string Winter { get { return \"-冬天-\"; } }\n",
    "\n",
    "\t// public void Print() => Console.WriteLine(\"我是 Seasons 物件\");\n",
    "\t// public void Show() => Console.WriteLine(\"我是 Seasons 物件\");\n",
    "\t// public void Log() => Console.WriteLine(\"我是 Seasons 物件\");\n",
    "}\n",
    "\n",
    "string descSummer = Seasons.Summer;\n",
    "descSummer"
   ]
  },
  {
   "cell_type": "markdown",
   "metadata": {},
   "source": [
    "## 方法二：利用 Description Attribute 加反射"
   ]
  },
  {
   "cell_type": "code",
   "execution_count": null,
   "metadata": {
    "dotnet_interactive": {
     "language": "csharp"
    },
    "polyglot_notebook": {
     "kernelName": "csharp"
    },
    "vscode": {
     "languageId": "polyglot-notebook"
    }
   },
   "outputs": [],
   "source": [
    "using System.Runtime.Serialization;\n",
    "using System.ComponentModel;\n",
    "using System.Reflection;\n",
    "\n",
    "public static string GetDescription<T>(this T pObj, Type? pType = null) {\n",
    "\tif (pObj is null)\n",
    "\t\treturn string.Empty;\n",
    "\n",
    "\tType type = pObj.GetType();\n",
    "\tFieldInfo? fi = type.GetField(pObj.ToString() ?? string.Empty);\n",
    "\n",
    "\tif (fi is null)\n",
    "\t\treturn string.Empty;\n",
    "\n",
    "\tType targetType = pType ?? typeof(DescriptionAttribute);\n",
    "\tvar attributes = fi.GetCustomAttributes(targetType, false);\n",
    "\tif (attributes.Length == 0)\n",
    "\t\treturn string.Empty;\n",
    "\n",
    "\tobject? attribute;\n",
    "\tattribute = attributes.FirstOrDefault(x => x.GetType() == targetType);\n",
    "\tif (attribute is null)\n",
    "\t\treturn string.Empty;\n",
    "\n",
    "\tvar targetAttribute = Convert.ChangeType(attribute, targetType);\n",
    "\tif (targetAttribute.PropertyExists(\"Description\"))\n",
    "\t\treturn ((dynamic)targetAttribute).Description;\n",
    "\n",
    "\treturn string.Empty;\n",
    "}\n",
    "\n",
    "public static bool PropertyExists<T>(this T pObj, string pPropertyName) {\n",
    "\tif (pObj is null)\n",
    "\t\treturn false;\n",
    "\n",
    "\tif (pObj is IDictionary<string, object> dict) {\n",
    "\t\treturn dict.ContainsKey(pPropertyName);\n",
    "\t}\n",
    "\n",
    "\treturn pObj.GetType().GetProperty(pPropertyName) != null;\n",
    "}\n",
    "\n",
    "public class DescID : DescriptionAttribute {\n",
    "\tpublic DescID(string text) : base(text) {\n",
    "\t}\n",
    "}\n",
    "public class DescIP : DescriptionAttribute {\n",
    "\tpublic DescIP(string text) : base(text) {\n",
    "\t}\n",
    "}\n",
    "\n",
    "public enum OpCustomer {\n",
    "\t[Description(\"- Description A -\")]\n",
    "\t[DescID(\"000000000000\")]\n",
    "\t[DescIP(\"0.0.0.0\")]\n",
    "\tA股份有限公司,\n",
    "\n",
    "\t[Description(\"- Description B -\")]\n",
    "\t[DescID(\"111111111111\")]\n",
    "\t[DescIP(\"1.1.1.1\")]\n",
    "\tB股份有限公司\n",
    "}\n",
    "\n",
    "var strDesc = GetDescription(OpCustomer.A股份有限公司);\n",
    "Console.WriteLine(strDesc);\n",
    "strDesc = OpCustomer.A股份有限公司.GetDescription(typeof(DescID));\n",
    "Console.WriteLine(strDesc);\n",
    "strDesc = OpCustomer.A股份有限公司.GetDescription(typeof(DescIP));\n",
    "Console.WriteLine(strDesc);"
   ]
  }
 ],
 "metadata": {
  "language_info": {
   "name": "python"
  },
  "orig_nbformat": 4
 },
 "nbformat": 4,
 "nbformat_minor": 2
}
