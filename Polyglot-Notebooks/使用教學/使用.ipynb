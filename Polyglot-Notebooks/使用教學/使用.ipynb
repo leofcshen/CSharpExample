{
 "cells": [
  {
   "cell_type": "markdown",
   "metadata": {},
   "source": [
    "# 新增區塊"
   ]
  },
  {
   "cell_type": "markdown",
   "metadata": {},
   "source": [
    "新增 Markdown 區塊(我就是 Markdown)"
   ]
  },
  {
   "cell_type": "markdown",
   "metadata": {},
   "source": [
    "新增 Code 區塊"
   ]
  },
  {
   "cell_type": "code",
   "execution_count": null,
   "metadata": {
    "dotnet_interactive": {
     "language": "csharp"
    },
    "polyglot_notebook": {
     "kernelName": "csharp"
    },
    "vscode": {
     "languageId": "polyglot-notebook"
    }
   },
   "outputs": [],
   "source": [
    "//C#\n",
    "var a = 1;\n",
    "a"
   ]
  },
  {
   "cell_type": "code",
   "execution_count": null,
   "metadata": {
    "dotnet_interactive": {
     "language": "pwsh"
    },
    "polyglot_notebook": {
     "kernelName": "pwsh"
    },
    "vscode": {
     "languageId": "polyglot-notebook"
    }
   },
   "outputs": [],
   "source": [
    "#PowerShell\n",
    "$k = 'Hello PowerShell!';\n",
    "Write-Host $k"
   ]
  },
  {
   "cell_type": "code",
   "execution_count": null,
   "metadata": {
    "dotnet_interactive": {
     "language": "javascript"
    },
    "polyglot_notebook": {
     "kernelName": "javascript"
    },
    "vscode": {
     "languageId": "polyglot-notebook"
    }
   },
   "outputs": [],
   "source": [
    "//JavaScript\n",
    "var c = 'Hello JavaScript!';\n",
    "console.log(c);"
   ]
  },
  {
   "cell_type": "code",
   "execution_count": null,
   "metadata": {
    "dotnet_interactive": {
     "language": "html"
    },
    "polyglot_notebook": {
     "kernelName": "html"
    },
    "vscode": {
     "languageId": "polyglot-notebook"
    }
   },
   "outputs": [],
   "source": [
    "<!--HTML-->\n",
    "<div>\n",
    "\t<button onclick=\"document.getElementById('MySpan').innerText='Hello, Html!'\">\n",
    "\t\tSay Hello\n",
    "\t</button>\n",
    "\t<span id='MySpan'></span>\n",
    "</div>"
   ]
  },
  {
   "cell_type": "markdown",
   "metadata": {},
   "source": [
    "# 引用 nuget"
   ]
  },
  {
   "cell_type": "code",
   "execution_count": null,
   "metadata": {
    "dotnet_interactive": {
     "language": "csharp"
    },
    "polyglot_notebook": {
     "kernelName": "csharp"
    },
    "vscode": {
     "languageId": "polyglot-notebook"
    }
   },
   "outputs": [],
   "source": [
    "#r \"nuget:Microsoft.ML\"\n",
    "\n",
    "using Microsoft.ML;\n",
    "using Microsoft.ML.Data;\n",
    "\n",
    "public class HouseData {\n",
    "\tpublic float Size { get; set; }\n",
    "\tpublic float Price { get; set; }\n",
    "}\n",
    "\n",
    "public class Prediction {\n",
    "\t[ColumnName(\"Score\")]\n",
    "\tpublic float Price { get; set; }\n",
    "}\n",
    "\n",
    "MLContext mlContext = new MLContext();\n",
    "\n",
    "// 1. Import or create training data\n",
    "HouseData[] houseData = {\n",
    "\tnew HouseData() { Size = 1.1F, Price = 1.2F },\n",
    "\tnew HouseData() { Size = 1.9F, Price = 2.3F },\n",
    "\tnew HouseData() { Size = 2.8F, Price = 3.0F },\n",
    "\tnew HouseData() { Size = 3.4F, Price = 3.7F } \n",
    "};\n",
    "\n",
    "IDataView trainingData = mlContext.Data.LoadFromEnumerable(houseData);\n",
    "\n",
    "// 2. Specify data preparation and model training pipeline\n",
    "var pipeline = mlContext.Transforms.Concatenate(\"Features\", new[] { \"Size\" })\n",
    "\t.Append(mlContext.Regression.Trainers.Sdca(labelColumnName: \"Price\", maximumNumberOfIterations: 100));\n",
    "\n",
    "// 3. Train model\n",
    "var model = pipeline.Fit(trainingData);\n",
    "\n",
    "// 4. Make a prediction\n",
    "var size = new HouseData() { Size = 2.5F };\n",
    "var price = mlContext.Model.CreatePredictionEngine<HouseData, Prediction>(model).Predict(size);\n",
    "\n",
    "Console.WriteLine($\"Predicted price for size: {size.Size*1000} sq ft= {price.Price*100:C}k\");"
   ]
  },
  {
   "cell_type": "markdown",
   "metadata": {},
   "source": [
    "# 引用 dll"
   ]
  },
  {
   "cell_type": "code",
   "execution_count": null,
   "metadata": {
    "dotnet_interactive": {
     "language": "csharp"
    },
    "polyglot_notebook": {
     "kernelName": "csharp"
    },
    "vscode": {
     "languageId": "polyglot-notebook"
    }
   },
   "outputs": [],
   "source": [
    "//引用 MyLibrary\n",
    "#r \"../Library/MyLibrary.dll\"\n",
    "using MyLibrary.Extensions;\n",
    "\n",
    "var data = \"Hello World!\";\n",
    "data.Dump(nameof(data));"
   ]
  },
  {
   "cell_type": "markdown",
   "metadata": {},
   "source": [
    "# 共享變數值"
   ]
  },
  {
   "cell_type": "code",
   "execution_count": null,
   "metadata": {
    "dotnet_interactive": {
     "language": "csharp"
    },
    "polyglot_notebook": {
     "kernelName": "csharp"
    },
    "vscode": {
     "languageId": "polyglot-notebook"
    }
   },
   "outputs": [],
   "source": [
    "var a = \"Hello C#!\";"
   ]
  },
  {
   "cell_type": "markdown",
   "metadata": {},
   "source": [
    "執行下列區塊即可在 powershell 產生一樣的 a 變數  \n",
    "指令可於變數表中的 Actions 產生"
   ]
  },
  {
   "cell_type": "code",
   "execution_count": null,
   "metadata": {
    "dotnet_interactive": {
     "language": "pwsh"
    },
    "polyglot_notebook": {
     "kernelName": "pwsh"
    },
    "vscode": {
     "languageId": "polyglot-notebook"
    }
   },
   "outputs": [],
   "source": [
    "#!set --value @csharp:a --name a"
   ]
  }
 ],
 "metadata": {
  "language_info": {
   "name": "python"
  },
  "orig_nbformat": 4
 },
 "nbformat": 4,
 "nbformat_minor": 2
}
